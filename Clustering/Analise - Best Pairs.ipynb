{
 "cells": [
  {
   "cell_type": "code",
   "execution_count": 1,
   "id": "3682df96",
   "metadata": {
    "colab": {
     "base_uri": "https://localhost:8080/"
    },
    "executionInfo": {
     "elapsed": 1064,
     "status": "ok",
     "timestamp": 1708071212917,
     "user": {
      "displayName": "Marcelo “Polecram”",
      "userId": "07802337785347454484"
     },
     "user_tz": 180
    },
    "id": "3682df96",
    "outputId": "769d88ff-eda9-4be1-c327-dcf856bef07e"
   },
   "outputs": [
    {
     "name": "stderr",
     "output_type": "stream",
     "text": [
      "/usr/local/lib/python3.10/dist-packages/yfinance/base.py:48: FutureWarning: The default dtype for empty Series will be 'object' instead of 'float64' in a future version. Specify a dtype explicitly to silence this warning.\n",
      "  _empty_series = pd.Series()\n"
     ]
    }
   ],
   "source": [
    "import pandas as pd\n",
    "import numpy as np\n",
    "from matplotlib import pyplot as plt\n",
    "import yfinance as yf\n",
    "import os\n",
    "from pathlib import Path\n",
    "from google.colab import drive"
   ]
  },
  {
   "cell_type": "code",
   "execution_count": 2,
   "id": "73vctIdtJBU5",
   "metadata": {
    "colab": {
     "base_uri": "https://localhost:8080/"
    },
    "executionInfo": {
     "elapsed": 24550,
     "status": "ok",
     "timestamp": 1708071237460,
     "user": {
      "displayName": "Marcelo “Polecram”",
      "userId": "07802337785347454484"
     },
     "user_tz": 180
    },
    "id": "73vctIdtJBU5",
    "outputId": "dce83632-8036-49ba-c68f-27989faa5695"
   },
   "outputs": [
    {
     "name": "stdout",
     "output_type": "stream",
     "text": [
      "Mounted at /content/drive\n"
     ]
    }
   ],
   "source": [
    "drive.mount('/content/drive')"
   ]
  },
  {
   "cell_type": "code",
   "execution_count": 3,
   "id": "c30499ec",
   "metadata": {
    "colab": {
     "base_uri": "https://localhost:8080/",
     "height": 35
    },
    "executionInfo": {
     "elapsed": 12,
     "status": "ok",
     "timestamp": 1708071237461,
     "user": {
      "displayName": "Marcelo “Polecram”",
      "userId": "07802337785347454484"
     },
     "user_tz": 180
    },
    "id": "c30499ec",
    "outputId": "1875ccbf-af36-49f7-e421-299b5512d5b2"
   },
   "outputs": [
    {
     "data": {
      "application/vnd.google.colaboratory.intrinsic+json": {
       "type": "string"
      },
      "text/plain": [
       "'/content/drive/MyDrive/Python/TCC-Cloud/Clustering/result_clustering/'"
      ]
     },
     "execution_count": 3,
     "metadata": {},
     "output_type": "execute_result"
    }
   ],
   "source": [
    "# Especificando o caminho padrão do projeto:\n",
    "pasta = str(\"/content/drive/MyDrive/Python/TCC-Cloud/Clustering/result_clustering/\")\n",
    "pasta"
   ]
  },
  {
   "cell_type": "code",
   "execution_count": 4,
   "id": "b357b820",
   "metadata": {
    "colab": {
     "base_uri": "https://localhost:8080/",
     "height": 272
    },
    "executionInfo": {
     "elapsed": 16312,
     "status": "ok",
     "timestamp": 1708071253765,
     "user": {
      "displayName": "Marcelo “Polecram”",
      "userId": "07802337785347454484"
     },
     "user_tz": 180
    },
    "id": "b357b820",
    "outputId": "97e2a9e2-64e9-4891-de6f-decf6dcaf8b3"
   },
   "outputs": [
    {
     "name": "stderr",
     "output_type": "stream",
     "text": [
      "\r",
      "[*********************100%%**********************]  1 of 1 completed\n"
     ]
    },
    {
     "name": "stdout",
     "output_type": "stream",
     "text": [
      "(7282, 2)\n"
     ]
    },
    {
     "data": {
      "application/vnd.google.colaboratory.intrinsic+json": {
       "summary": "{\n  \"name\": \"risk_free_rates\",\n  \"rows\": 7282,\n  \"fields\": [\n    {\n      \"column\": \"annualized\",\n      \"properties\": {\n        \"dtype\": \"number\",\n        \"std\": 2.100492335997467,\n        \"min\": -0.10499999672174454,\n        \"max\": 6.21999979019165,\n        \"samples\": [\n          2.9019999504089355,\n          4.572000026702881,\n          1.5679999589920044\n        ],\n        \"num_unique_values\": 1721,\n        \"semantic_type\": \"\",\n        \"description\": \"\"\n      }\n    },\n    {\n      \"column\": \"daily\",\n      \"properties\": {\n        \"dtype\": \"number\",\n        \"std\": 1.9779203395197506e-05,\n        \"min\": -3.038758944592379e-06,\n        \"max\": 5.43073415115658e-05,\n        \"samples\": [\n          3.737072986964796e-05,\n          4.717266945343912e-05,\n          2.5872517764988777e-05\n        ],\n        \"num_unique_values\": 1721,\n        \"semantic_type\": \"\",\n        \"description\": \"\"\n      }\n    }\n  ]\n}",
       "type": "dataframe",
       "variable_name": "risk_free_rates"
      },
      "text/html": [
       "\n",
       "  <div id=\"df-747477ee-9aa7-414b-9ce3-78ae6ade1554\" class=\"colab-df-container\">\n",
       "    <div>\n",
       "<style scoped>\n",
       "    .dataframe tbody tr th:only-of-type {\n",
       "        vertical-align: middle;\n",
       "    }\n",
       "\n",
       "    .dataframe tbody tr th {\n",
       "        vertical-align: top;\n",
       "    }\n",
       "\n",
       "    .dataframe thead th {\n",
       "        text-align: right;\n",
       "    }\n",
       "</style>\n",
       "<table border=\"1\" class=\"dataframe\">\n",
       "  <thead>\n",
       "    <tr style=\"text-align: right;\">\n",
       "      <th></th>\n",
       "      <th>annualized</th>\n",
       "      <th>daily</th>\n",
       "    </tr>\n",
       "    <tr>\n",
       "      <th>Date</th>\n",
       "      <th></th>\n",
       "      <th></th>\n",
       "    </tr>\n",
       "  </thead>\n",
       "  <tbody>\n",
       "    <tr>\n",
       "      <th>1995-01-03</th>\n",
       "      <td>5.52</td>\n",
       "      <td>0.000051</td>\n",
       "    </tr>\n",
       "    <tr>\n",
       "      <th>1995-01-04</th>\n",
       "      <td>5.69</td>\n",
       "      <td>0.000052</td>\n",
       "    </tr>\n",
       "    <tr>\n",
       "      <th>1995-01-05</th>\n",
       "      <td>5.71</td>\n",
       "      <td>0.000052</td>\n",
       "    </tr>\n",
       "    <tr>\n",
       "      <th>1995-01-06</th>\n",
       "      <td>5.74</td>\n",
       "      <td>0.000052</td>\n",
       "    </tr>\n",
       "    <tr>\n",
       "      <th>1995-01-09</th>\n",
       "      <td>5.75</td>\n",
       "      <td>0.000052</td>\n",
       "    </tr>\n",
       "  </tbody>\n",
       "</table>\n",
       "</div>\n",
       "    <div class=\"colab-df-buttons\">\n",
       "\n",
       "  <div class=\"colab-df-container\">\n",
       "    <button class=\"colab-df-convert\" onclick=\"convertToInteractive('df-747477ee-9aa7-414b-9ce3-78ae6ade1554')\"\n",
       "            title=\"Convert this dataframe to an interactive table.\"\n",
       "            style=\"display:none;\">\n",
       "\n",
       "  <svg xmlns=\"http://www.w3.org/2000/svg\" height=\"24px\" viewBox=\"0 -960 960 960\">\n",
       "    <path d=\"M120-120v-720h720v720H120Zm60-500h600v-160H180v160Zm220 220h160v-160H400v160Zm0 220h160v-160H400v160ZM180-400h160v-160H180v160Zm440 0h160v-160H620v160ZM180-180h160v-160H180v160Zm440 0h160v-160H620v160Z\"/>\n",
       "  </svg>\n",
       "    </button>\n",
       "\n",
       "  <style>\n",
       "    .colab-df-container {\n",
       "      display:flex;\n",
       "      gap: 12px;\n",
       "    }\n",
       "\n",
       "    .colab-df-convert {\n",
       "      background-color: #E8F0FE;\n",
       "      border: none;\n",
       "      border-radius: 50%;\n",
       "      cursor: pointer;\n",
       "      display: none;\n",
       "      fill: #1967D2;\n",
       "      height: 32px;\n",
       "      padding: 0 0 0 0;\n",
       "      width: 32px;\n",
       "    }\n",
       "\n",
       "    .colab-df-convert:hover {\n",
       "      background-color: #E2EBFA;\n",
       "      box-shadow: 0px 1px 2px rgba(60, 64, 67, 0.3), 0px 1px 3px 1px rgba(60, 64, 67, 0.15);\n",
       "      fill: #174EA6;\n",
       "    }\n",
       "\n",
       "    .colab-df-buttons div {\n",
       "      margin-bottom: 4px;\n",
       "    }\n",
       "\n",
       "    [theme=dark] .colab-df-convert {\n",
       "      background-color: #3B4455;\n",
       "      fill: #D2E3FC;\n",
       "    }\n",
       "\n",
       "    [theme=dark] .colab-df-convert:hover {\n",
       "      background-color: #434B5C;\n",
       "      box-shadow: 0px 1px 3px 1px rgba(0, 0, 0, 0.15);\n",
       "      filter: drop-shadow(0px 1px 2px rgba(0, 0, 0, 0.3));\n",
       "      fill: #FFFFFF;\n",
       "    }\n",
       "  </style>\n",
       "\n",
       "    <script>\n",
       "      const buttonEl =\n",
       "        document.querySelector('#df-747477ee-9aa7-414b-9ce3-78ae6ade1554 button.colab-df-convert');\n",
       "      buttonEl.style.display =\n",
       "        google.colab.kernel.accessAllowed ? 'block' : 'none';\n",
       "\n",
       "      async function convertToInteractive(key) {\n",
       "        const element = document.querySelector('#df-747477ee-9aa7-414b-9ce3-78ae6ade1554');\n",
       "        const dataTable =\n",
       "          await google.colab.kernel.invokeFunction('convertToInteractive',\n",
       "                                                    [key], {});\n",
       "        if (!dataTable) return;\n",
       "\n",
       "        const docLinkHtml = 'Like what you see? Visit the ' +\n",
       "          '<a target=\"_blank\" href=https://colab.research.google.com/notebooks/data_table.ipynb>data table notebook</a>'\n",
       "          + ' to learn more about interactive tables.';\n",
       "        element.innerHTML = '';\n",
       "        dataTable['output_type'] = 'display_data';\n",
       "        await google.colab.output.renderOutput(dataTable, element);\n",
       "        const docLink = document.createElement('div');\n",
       "        docLink.innerHTML = docLinkHtml;\n",
       "        element.appendChild(docLink);\n",
       "      }\n",
       "    </script>\n",
       "  </div>\n",
       "\n",
       "\n",
       "<div id=\"df-ec4dac66-c707-4111-a177-c551ff129a40\">\n",
       "  <button class=\"colab-df-quickchart\" onclick=\"quickchart('df-ec4dac66-c707-4111-a177-c551ff129a40')\"\n",
       "            title=\"Suggest charts\"\n",
       "            style=\"display:none;\">\n",
       "\n",
       "<svg xmlns=\"http://www.w3.org/2000/svg\" height=\"24px\"viewBox=\"0 0 24 24\"\n",
       "     width=\"24px\">\n",
       "    <g>\n",
       "        <path d=\"M19 3H5c-1.1 0-2 .9-2 2v14c0 1.1.9 2 2 2h14c1.1 0 2-.9 2-2V5c0-1.1-.9-2-2-2zM9 17H7v-7h2v7zm4 0h-2V7h2v10zm4 0h-2v-4h2v4z\"/>\n",
       "    </g>\n",
       "</svg>\n",
       "  </button>\n",
       "\n",
       "<style>\n",
       "  .colab-df-quickchart {\n",
       "      --bg-color: #E8F0FE;\n",
       "      --fill-color: #1967D2;\n",
       "      --hover-bg-color: #E2EBFA;\n",
       "      --hover-fill-color: #174EA6;\n",
       "      --disabled-fill-color: #AAA;\n",
       "      --disabled-bg-color: #DDD;\n",
       "  }\n",
       "\n",
       "  [theme=dark] .colab-df-quickchart {\n",
       "      --bg-color: #3B4455;\n",
       "      --fill-color: #D2E3FC;\n",
       "      --hover-bg-color: #434B5C;\n",
       "      --hover-fill-color: #FFFFFF;\n",
       "      --disabled-bg-color: #3B4455;\n",
       "      --disabled-fill-color: #666;\n",
       "  }\n",
       "\n",
       "  .colab-df-quickchart {\n",
       "    background-color: var(--bg-color);\n",
       "    border: none;\n",
       "    border-radius: 50%;\n",
       "    cursor: pointer;\n",
       "    display: none;\n",
       "    fill: var(--fill-color);\n",
       "    height: 32px;\n",
       "    padding: 0;\n",
       "    width: 32px;\n",
       "  }\n",
       "\n",
       "  .colab-df-quickchart:hover {\n",
       "    background-color: var(--hover-bg-color);\n",
       "    box-shadow: 0 1px 2px rgba(60, 64, 67, 0.3), 0 1px 3px 1px rgba(60, 64, 67, 0.15);\n",
       "    fill: var(--button-hover-fill-color);\n",
       "  }\n",
       "\n",
       "  .colab-df-quickchart-complete:disabled,\n",
       "  .colab-df-quickchart-complete:disabled:hover {\n",
       "    background-color: var(--disabled-bg-color);\n",
       "    fill: var(--disabled-fill-color);\n",
       "    box-shadow: none;\n",
       "  }\n",
       "\n",
       "  .colab-df-spinner {\n",
       "    border: 2px solid var(--fill-color);\n",
       "    border-color: transparent;\n",
       "    border-bottom-color: var(--fill-color);\n",
       "    animation:\n",
       "      spin 1s steps(1) infinite;\n",
       "  }\n",
       "\n",
       "  @keyframes spin {\n",
       "    0% {\n",
       "      border-color: transparent;\n",
       "      border-bottom-color: var(--fill-color);\n",
       "      border-left-color: var(--fill-color);\n",
       "    }\n",
       "    20% {\n",
       "      border-color: transparent;\n",
       "      border-left-color: var(--fill-color);\n",
       "      border-top-color: var(--fill-color);\n",
       "    }\n",
       "    30% {\n",
       "      border-color: transparent;\n",
       "      border-left-color: var(--fill-color);\n",
       "      border-top-color: var(--fill-color);\n",
       "      border-right-color: var(--fill-color);\n",
       "    }\n",
       "    40% {\n",
       "      border-color: transparent;\n",
       "      border-right-color: var(--fill-color);\n",
       "      border-top-color: var(--fill-color);\n",
       "    }\n",
       "    60% {\n",
       "      border-color: transparent;\n",
       "      border-right-color: var(--fill-color);\n",
       "    }\n",
       "    80% {\n",
       "      border-color: transparent;\n",
       "      border-right-color: var(--fill-color);\n",
       "      border-bottom-color: var(--fill-color);\n",
       "    }\n",
       "    90% {\n",
       "      border-color: transparent;\n",
       "      border-bottom-color: var(--fill-color);\n",
       "    }\n",
       "  }\n",
       "</style>\n",
       "\n",
       "  <script>\n",
       "    async function quickchart(key) {\n",
       "      const quickchartButtonEl =\n",
       "        document.querySelector('#' + key + ' button');\n",
       "      quickchartButtonEl.disabled = true;  // To prevent multiple clicks.\n",
       "      quickchartButtonEl.classList.add('colab-df-spinner');\n",
       "      try {\n",
       "        const charts = await google.colab.kernel.invokeFunction(\n",
       "            'suggestCharts', [key], {});\n",
       "      } catch (error) {\n",
       "        console.error('Error during call to suggestCharts:', error);\n",
       "      }\n",
       "      quickchartButtonEl.classList.remove('colab-df-spinner');\n",
       "      quickchartButtonEl.classList.add('colab-df-quickchart-complete');\n",
       "    }\n",
       "    (() => {\n",
       "      let quickchartButtonEl =\n",
       "        document.querySelector('#df-ec4dac66-c707-4111-a177-c551ff129a40 button');\n",
       "      quickchartButtonEl.style.display =\n",
       "        google.colab.kernel.accessAllowed ? 'block' : 'none';\n",
       "    })();\n",
       "  </script>\n",
       "</div>\n",
       "\n",
       "    </div>\n",
       "  </div>\n"
      ],
      "text/plain": [
       "            annualized     daily\n",
       "Date                            \n",
       "1995-01-03        5.52  0.000051\n",
       "1995-01-04        5.69  0.000052\n",
       "1995-01-05        5.71  0.000052\n",
       "1995-01-06        5.74  0.000052\n",
       "1995-01-09        5.75  0.000052"
      ]
     },
     "execution_count": 4,
     "metadata": {},
     "output_type": "execute_result"
    }
   ],
   "source": [
    "# Coleta da taxa de retorno risk free\n",
    "\n",
    "def deannualize(annual_rate, periods=365):\n",
    "    return (1 + annual_rate) ** (1/periods) - 1\n",
    "\n",
    "annualized = yf.download(\"^IRX\", start=\"1995-01-01\", end=\"2023-12-31\")[\"Adj Close\"]\n",
    "daily = annualized.apply(deannualize)\n",
    "\n",
    "# create dataframe\n",
    "risk_free_rates = pd.DataFrame({\"annualized\": annualized, \"daily\": daily})\n",
    "risk_free_rates['daily'] = risk_free_rates['daily'] / 100\n",
    "print(np.shape(risk_free_rates))\n",
    "risk_free_rates.head()"
   ]
  },
  {
   "cell_type": "code",
   "execution_count": 5,
   "id": "8fafd515",
   "metadata": {
    "colab": {
     "base_uri": "https://localhost:8080/"
    },
    "executionInfo": {
     "elapsed": 1169,
     "status": "ok",
     "timestamp": 1708071254932,
     "user": {
      "displayName": "Marcelo “Polecram”",
      "userId": "07802337785347454484"
     },
     "user_tz": 180
    },
    "id": "8fafd515",
    "outputId": "bb5e8b94-0c4d-468c-d802-95c50d8d3d42"
   },
   "outputs": [
    {
     "name": "stdout",
     "output_type": "stream",
     "text": [
      "     Operação  Semestre  Abertura  Fechamento  Dias  Retorno total Ticker 1  \\\n",
      "261         1        53         2          52    50       0.016913    PETR4   \n",
      "262         1        54       113         127    14      -0.018497    RRRP3   \n",
      "263         1        54       124         127     3       0.001126    BRAP4   \n",
      "264         1        54       124         127     3       0.008862    VALE3   \n",
      "265         1        54        28          52    24       0.058111    EGIE3   \n",
      "\n",
      "    Ticker 2  Converged          Index  Retorno total - exp         Pair  \n",
      "261    PETR3       True  PETR4-PETR3-1             1.017057  PETR4-PETR3  \n",
      "262    SLCE3      False  RRRP3-SLCE3-1             0.981673  RRRP3-SLCE3  \n",
      "263    SLCE3      False  BRAP4-SLCE3-1             1.001127  BRAP4-SLCE3  \n",
      "264    SLCE3      False  VALE3-SLCE3-1             1.008901  VALE3-SLCE3  \n",
      "265    TRPL4       True  EGIE3-TRPL4-1             1.059833  EGIE3-TRPL4  \n"
     ]
    }
   ],
   "source": [
    "operations = pd.read_csv(pasta + \"operations_CT.csv\")\n",
    "#operations['Pair'] = operations['Index'].str[:-2]\n",
    "operations['Pair'] = operations['Ticker 1'] + \"-\" + operations['Ticker 2']\n",
    "print(operations.tail())"
   ]
  },
  {
   "cell_type": "code",
   "execution_count": 6,
   "id": "91e9c94f",
   "metadata": {
    "colab": {
     "base_uri": "https://localhost:8080/"
    },
    "executionInfo": {
     "elapsed": 6,
     "status": "ok",
     "timestamp": 1708071254933,
     "user": {
      "displayName": "Marcelo “Polecram”",
      "userId": "07802337785347454484"
     },
     "user_tz": 180
    },
    "id": "91e9c94f",
    "outputId": "0c9ed822-5c63-4e48-bbfc-0e70fe6a004c"
   },
   "outputs": [
    {
     "name": "stdout",
     "output_type": "stream",
     "text": [
      "Número de operações: 266\n",
      "Positive Returns: 239 | Negative: 24\n",
      "Highest Return: 1.66118309886613\n",
      "Lowest Return: -0.4729967112375206\n",
      "Average Return: 0.10854169999691238\n",
      "Average trade lenght: 17.827067669172934\n",
      "Convergência: 69.92481203007519\n"
     ]
    }
   ],
   "source": [
    "#print(f\"Converged operations: {sum(operations['Converged'])} | Open operations: {np.shape(operations)[0] - sum(operations['Converged'])}\")\n",
    "print(f\"Número de operações: {np.shape(operations)[0]}\")\n",
    "print(f\"Positive Returns: {sum(operations['Retorno total'] > 0)} | Negative: {sum(operations['Retorno total'] < 0)}\")\n",
    "print(f\"Highest Return: {operations['Retorno total'].max()}\")\n",
    "print(f\"Lowest Return: {operations['Retorno total'].min()}\")\n",
    "print(f\"Average Return: {operations['Retorno total'].mean()}\")\n",
    "print(f\"Average trade lenght: {operations['Dias'].mean()}\")\n",
    "print(f\"Convergência: {(operations['Converged'].sum()/np.shape(operations)[0])*100}\")"
   ]
  },
  {
   "cell_type": "code",
   "execution_count": 7,
   "id": "af939e79",
   "metadata": {
    "colab": {
     "base_uri": "https://localhost:8080/",
     "height": 641
    },
    "executionInfo": {
     "elapsed": 456,
     "status": "ok",
     "timestamp": 1708071255385,
     "user": {
      "displayName": "Marcelo “Polecram”",
      "userId": "07802337785347454484"
     },
     "user_tz": 180
    },
    "id": "af939e79",
    "outputId": "4a5270a2-0202-45fd-d794-c8e418eccd78"
   },
   "outputs": [
    {
     "data": {
      "image/png": "[encoded data removed]",
      "text/plain": [
       "<Figure size 1500x700 with 1 Axes>"
      ]
     },
     "metadata": {},
     "output_type": "display_data"
    }
   ],
   "source": [
    "# Return Distribution\n",
    "fig = plt.figure(figsize=(15, 7))\n",
    "ax1 = fig.add_subplot(1, 1, 1)\n",
    "operations['Retorno total'].hist(bins=50, ax=ax1)\n",
    "ax1.set_xlabel('Retorno')\n",
    "ax1.set_ylabel('Amostra')\n",
    "ax1.set_title('Distribuição dos Retornos')\n",
    "plt.show()"
   ]
  },
  {
   "cell_type": "code",
   "execution_count": 8,
   "id": "59383b23",
   "metadata": {
    "colab": {
     "base_uri": "https://localhost:8080/"
    },
    "executionInfo": {
     "elapsed": 5,
     "status": "ok",
     "timestamp": 1708071255385,
     "user": {
      "displayName": "Marcelo “Polecram”",
      "userId": "07802337785347454484"
     },
     "user_tz": 180
    },
    "id": "59383b23",
    "outputId": "8085d528-1788-4b9a-ed9b-f75dbb3ca9e1"
   },
   "outputs": [
    {
     "name": "stdout",
     "output_type": "stream",
     "text": [
      "Número de pares: 179\n",
      "Retorno médio por par: 16.1297%\n",
      "Retorno médio por par por semestre: 0.2933%\n"
     ]
    }
   ],
   "source": [
    "# Retorno por par\n",
    "operations_by_pair = operations.groupby(\"Pair\").sum(\"Retorno total\")\n",
    "print(f\"Número de pares: {np.shape(operations_by_pair)[0]}\")\n",
    "print(f\"Retorno médio por par: {round(100*operations_by_pair['Retorno total'].mean(),4)}%\")\n",
    "print(f\"Retorno médio por par por semestre: {round(np.divide(100*operations_by_pair['Retorno total'].mean(),max(operations['Semestre'])+1),4)}%\")"
   ]
  },
  {
   "cell_type": "code",
   "execution_count": 9,
   "id": "5c9f64c1",
   "metadata": {
    "colab": {
     "base_uri": "https://localhost:8080/"
    },
    "executionInfo": {
     "elapsed": 313,
     "status": "ok",
     "timestamp": 1708071255695,
     "user": {
      "displayName": "Marcelo “Polecram”",
      "userId": "07802337785347454484"
     },
     "user_tz": 180
    },
    "id": "5c9f64c1",
    "outputId": "e75901fe-561c-4858-9b8a-097ab62ab3b7"
   },
   "outputs": [
    {
     "name": "stdout",
     "output_type": "stream",
     "text": [
      "        0   1\n",
      "66  CRUZ3   1\n",
      "42  BRML3   1\n",
      "43  ALLL3   1\n",
      "55  CLSC4   1\n",
      "58  YDUQ3   1\n",
      "..    ...  ..\n",
      "49  BRDT4   8\n",
      "50    old   8\n",
      "62  PCAR4   8\n",
      "5   VIVT4   9\n",
      "16  OIBR3  13\n",
      "\n",
      "[134 rows x 2 columns]\n"
     ]
    }
   ],
   "source": [
    "# Ações com maior participação\n",
    "stock_count = {}\n",
    "\n",
    "for pair in operations_by_pair.index:\n",
    "    stocks = pair.split(\"-\")\n",
    "    for stock in stocks:\n",
    "        if stock in stock_count:\n",
    "            stock_count[stock] += 1\n",
    "        else:\n",
    "            stock_count[stock] = 1\n",
    "stock_count_df = pd.DataFrame(stock_count.items())\n",
    "stock_count_df = stock_count_df.sort_values(1)\n",
    "stock_count_df.to_csv(pasta + \"stock_count_20_pairs.csv\")\n",
    "print(stock_count_df)"
   ]
  },
  {
   "cell_type": "code",
   "execution_count": 10,
   "id": "9f5d9d34",
   "metadata": {
    "colab": {
     "base_uri": "https://localhost:8080/",
     "height": 447
    },
    "executionInfo": {
     "elapsed": 671,
     "status": "ok",
     "timestamp": 1708071256365,
     "user": {
      "displayName": "Marcelo “Polecram”",
      "userId": "07802337785347454484"
     },
     "user_tz": 180
    },
    "id": "9f5d9d34",
    "outputId": "8387eb62-ed20-4539-8876-d1fd8fd5edfb"
   },
   "outputs": [
    {
     "name": "stdout",
     "output_type": "stream",
     "text": [
      "Compound interest rate is [0.] %\n"
     ]
    },
    {
     "data": {
      "image/png": "[encoded data removed]",
      "text/plain": [
       "<Figure size 640x480 with 1 Axes>"
      ]
     },
     "metadata": {},
     "output_type": "display_data"
    }
   ],
   "source": [
    "def rate_interest(principal, final_amount, time):\n",
    "    rate = (100 * (final_amount/principal)**(1/time)) - 100\n",
    "    print(\"Compound interest rate is\", rate, \"%\")\n",
    "\n",
    "daily_returns = pd.read_csv(pasta + \"daily_returns.csv\")\n",
    "daily_returns = daily_returns.iloc[252:,:]\n",
    "daily_returns = daily_returns / 35\n",
    "cumulative = np.cumprod(1+daily_returns)\n",
    "cumulative.plot()\n",
    "rate_interest(1,cumulative.values[-1],25)"
   ]
  },
  {
   "cell_type": "code",
   "execution_count": 11,
   "id": "ccba54aa",
   "metadata": {
    "colab": {
     "base_uri": "https://localhost:8080/"
    },
    "executionInfo": {
     "elapsed": 14,
     "status": "ok",
     "timestamp": 1708071256365,
     "user": {
      "displayName": "Marcelo “Polecram”",
      "userId": "07802337785347454484"
     },
     "user_tz": 180
    },
    "id": "ccba54aa",
    "outputId": "c754fc3a-1924-4ddc-cda9-d63e3bf5020b"
   },
   "outputs": [
    {
     "name": "stdout",
     "output_type": "stream",
     "text": [
      "Mean daily return: 0.0\n",
      "Mean risk free return: 2.548781546595671e-05\n",
      "Fully Invested Sharpe Ratio: -inf\n"
     ]
    },
    {
     "name": "stderr",
     "output_type": "stream",
     "text": [
      "<ipython-input-11-06e38a554792>:9: RuntimeWarning: divide by zero encountered in scalar divide\n",
      "  print(f\"Fully Invested Sharpe Ratio: {(mean_daily_return - risk_free_mean) / returns_std_dev}\")\n"
     ]
    }
   ],
   "source": [
    "# Cálculo do Sharpe para o período do estudo\n",
    "mean_daily_return = daily_returns.values.mean()\n",
    "print(f\"Mean daily return: {mean_daily_return}\")\n",
    "returns_std_dev = daily_returns.values.std()\n",
    "\n",
    "risk_free_mean = risk_free_rates['daily'].mean()\n",
    "print(f\"Mean risk free return: {risk_free_mean}\")\n",
    "\n",
    "print(f\"Fully Invested Sharpe Ratio: {(mean_daily_return - risk_free_mean) / returns_std_dev}\")"
   ]
  },
  {
   "cell_type": "code",
   "execution_count": 11,
   "id": "5e7da12b",
   "metadata": {
    "executionInfo": {
     "elapsed": 13,
     "status": "ok",
     "timestamp": 1708071256365,
     "user": {
      "displayName": "Marcelo “Polecram”",
      "userId": "07802337785347454484"
     },
     "user_tz": 180
    },
    "id": "5e7da12b"
   },
   "outputs": [],
   "source": []
  },
  {
   "cell_type": "markdown",
   "id": "Qp94ICKqcgLp",
   "metadata": {
    "id": "Qp94ICKqcgLp"
   },
   "source": [
    "Rascunho:"
   ]
  },
  {
   "cell_type": "code",
   "execution_count": 12,
   "id": "msD_0ErfJbZi",
   "metadata": {
    "colab": {
     "base_uri": "https://localhost:8080/"
    },
    "executionInfo": {
     "elapsed": 13,
     "status": "ok",
     "timestamp": 1708071256365,
     "user": {
      "displayName": "Marcelo “Polecram”",
      "userId": "07802337785347454484"
     },
     "user_tz": 180
    },
    "id": "msD_0ErfJbZi",
    "outputId": "f6f7a8dd-0d42-40ec-ccb4-0ad2d844174d"
   },
   "outputs": [
    {
     "data": {
      "text/plain": [
       "28.87209219917869"
      ]
     },
     "execution_count": 12,
     "metadata": {},
     "output_type": "execute_result"
    }
   ],
   "source": [
    "operations['Retorno total'].sum()"
   ]
  },
  {
   "cell_type": "code",
   "execution_count": 13,
   "id": "ykQp6uWxcenF",
   "metadata": {
    "colab": {
     "base_uri": "https://localhost:8080/"
    },
    "executionInfo": {
     "elapsed": 12,
     "status": "ok",
     "timestamp": 1708071256365,
     "user": {
      "displayName": "Marcelo “Polecram”",
      "userId": "07802337785347454484"
     },
     "user_tz": 180
    },
    "id": "ykQp6uWxcenF",
    "outputId": "cf624b95-5d2b-4419-be42-dc418395ec52"
   },
   "outputs": [
    {
     "data": {
      "text/plain": [
       "0.0    0.0\n",
       "dtype: float64"
      ]
     },
     "execution_count": 13,
     "metadata": {},
     "output_type": "execute_result"
    }
   ],
   "source": [
    "np.sum(daily_returns)"
   ]
  },
  {
   "cell_type": "code",
   "execution_count": 14,
   "id": "--n2hHSIchnb",
   "metadata": {
    "colab": {
     "base_uri": "https://localhost:8080/",
     "height": 455
    },
    "executionInfo": {
     "elapsed": 12,
     "status": "ok",
     "timestamp": 1708071256366,
     "user": {
      "displayName": "Marcelo “Polecram”",
      "userId": "07802337785347454484"
     },
     "user_tz": 180
    },
    "id": "--n2hHSIchnb",
    "outputId": "61ac04fa-6ec4-4e2b-d91b-0ed4629748eb"
   },
   "outputs": [
    {
     "data": {
      "application/vnd.google.colaboratory.intrinsic+json": {
       "summary": "{\n  \"name\": \"operations_by_pair\",\n  \"rows\": 179,\n  \"fields\": [\n    {\n      \"column\": \"Opera\\u00e7\\u00e3o\",\n      \"properties\": {\n        \"dtype\": \"number\",\n        \"std\": 1,\n        \"min\": 1,\n        \"max\": 10,\n        \"samples\": [\n          4,\n          1,\n          2\n        ],\n        \"num_unique_values\": 9,\n        \"semantic_type\": \"\",\n        \"description\": \"\"\n      }\n    },\n    {\n      \"column\": \"Semestre\",\n      \"properties\": {\n        \"dtype\": \"number\",\n        \"std\": 31,\n        \"min\": 0,\n        \"max\": 176,\n        \"samples\": [\n          14,\n          84,\n          56\n        ],\n        \"num_unique_values\": 80,\n        \"semantic_type\": \"\",\n        \"description\": \"\"\n      }\n    },\n    {\n      \"column\": \"Abertura\",\n      \"properties\": {\n        \"dtype\": \"number\",\n        \"std\": 68,\n        \"min\": 1,\n        \"max\": 341,\n        \"samples\": [\n          2,\n          9,\n          150\n        ],\n        \"num_unique_values\": 96,\n        \"semantic_type\": \"\",\n        \"description\": \"\"\n      }\n    },\n    {\n      \"column\": \"Fechamento\",\n      \"properties\": {\n        \"dtype\": \"number\",\n        \"std\": 73,\n        \"min\": 14,\n        \"max\": 534,\n        \"samples\": [\n          225,\n          36,\n          109\n        ],\n        \"num_unique_values\": 98,\n        \"semantic_type\": \"\",\n        \"description\": \"\"\n      }\n    },\n    {\n      \"column\": \"Dias\",\n      \"properties\": {\n        \"dtype\": \"number\",\n        \"std\": 21,\n        \"min\": 2,\n        \"max\": 193,\n        \"samples\": [\n          43,\n          13,\n          49\n        ],\n        \"num_unique_values\": 59,\n        \"semantic_type\": \"\",\n        \"description\": \"\"\n      }\n    },\n    {\n      \"column\": \"Retorno total\",\n      \"properties\": {\n        \"dtype\": \"number\",\n        \"std\": 0.1932352795813011,\n        \"min\": -0.4729967112375206,\n        \"max\": 1.66118309886613,\n        \"samples\": [\n          0.1902748575477328,\n          0.0482531562208667,\n          -0.4729967112375206\n        ],\n        \"num_unique_values\": 179,\n        \"semantic_type\": \"\",\n        \"description\": \"\"\n      }\n    },\n    {\n      \"column\": \"Converged\",\n      \"properties\": {\n        \"dtype\": \"number\",\n        \"std\": 0,\n        \"min\": 0,\n        \"max\": 4,\n        \"samples\": [\n          2,\n          4,\n          0\n        ],\n        \"num_unique_values\": 5,\n        \"semantic_type\": \"\",\n        \"description\": \"\"\n      }\n    },\n    {\n      \"column\": \"Retorno total - exp\",\n      \"properties\": {\n        \"dtype\": \"number\",\n        \"std\": 0.9161247608717594,\n        \"min\": 0.6231321205078256,\n        \"max\": 6.1409808342345285,\n        \"samples\": [\n          1.2095820147178369,\n          1.0494362930251162,\n          0.6231321205078256\n        ],\n        \"num_unique_values\": 179,\n        \"semantic_type\": \"\",\n        \"description\": \"\"\n      }\n    }\n  ]\n}",
       "type": "dataframe",
       "variable_name": "operations_by_pair"
      },
      "text/html": [
       "\n",
       "  <div id=\"df-0d8d937f-853f-464b-bf8c-ef620490dc77\" class=\"colab-df-container\">\n",
       "    <div>\n",
       "<style scoped>\n",
       "    .dataframe tbody tr th:only-of-type {\n",
       "        vertical-align: middle;\n",
       "    }\n",
       "\n",
       "    .dataframe tbody tr th {\n",
       "        vertical-align: top;\n",
       "    }\n",
       "\n",
       "    .dataframe thead th {\n",
       "        text-align: right;\n",
       "    }\n",
       "</style>\n",
       "<table border=\"1\" class=\"dataframe\">\n",
       "  <thead>\n",
       "    <tr style=\"text-align: right;\">\n",
       "      <th></th>\n",
       "      <th>Operação</th>\n",
       "      <th>Semestre</th>\n",
       "      <th>Abertura</th>\n",
       "      <th>Fechamento</th>\n",
       "      <th>Dias</th>\n",
       "      <th>Retorno total</th>\n",
       "      <th>Converged</th>\n",
       "      <th>Retorno total - exp</th>\n",
       "    </tr>\n",
       "    <tr>\n",
       "      <th>Pair</th>\n",
       "      <th></th>\n",
       "      <th></th>\n",
       "      <th></th>\n",
       "      <th></th>\n",
       "      <th></th>\n",
       "      <th></th>\n",
       "      <th></th>\n",
       "      <th></th>\n",
       "    </tr>\n",
       "  </thead>\n",
       "  <tbody>\n",
       "    <tr>\n",
       "      <th>ABEV3-BRPR3</th>\n",
       "      <td>3</td>\n",
       "      <td>84</td>\n",
       "      <td>144</td>\n",
       "      <td>187</td>\n",
       "      <td>43</td>\n",
       "      <td>0.030521</td>\n",
       "      <td>1</td>\n",
       "      <td>2.031211</td>\n",
       "    </tr>\n",
       "    <tr>\n",
       "      <th>ABEV3-RADL3</th>\n",
       "      <td>3</td>\n",
       "      <td>76</td>\n",
       "      <td>116</td>\n",
       "      <td>128</td>\n",
       "      <td>12</td>\n",
       "      <td>0.087581</td>\n",
       "      <td>2</td>\n",
       "      <td>2.089530</td>\n",
       "    </tr>\n",
       "    <tr>\n",
       "      <th>ABEV3-SULA11</th>\n",
       "      <td>1</td>\n",
       "      <td>32</td>\n",
       "      <td>116</td>\n",
       "      <td>130</td>\n",
       "      <td>14</td>\n",
       "      <td>0.013248</td>\n",
       "      <td>0</td>\n",
       "      <td>1.013336</td>\n",
       "    </tr>\n",
       "    <tr>\n",
       "      <th>ACES4-VIVT4</th>\n",
       "      <td>6</td>\n",
       "      <td>54</td>\n",
       "      <td>90</td>\n",
       "      <td>116</td>\n",
       "      <td>26</td>\n",
       "      <td>0.452215</td>\n",
       "      <td>3</td>\n",
       "      <td>3.488253</td>\n",
       "    </tr>\n",
       "    <tr>\n",
       "      <th>AMBV4-SUZB5</th>\n",
       "      <td>1</td>\n",
       "      <td>5</td>\n",
       "      <td>1</td>\n",
       "      <td>15</td>\n",
       "      <td>14</td>\n",
       "      <td>0.213606</td>\n",
       "      <td>1</td>\n",
       "      <td>1.238135</td>\n",
       "    </tr>\n",
       "    <tr>\n",
       "      <th>...</th>\n",
       "      <td>...</td>\n",
       "      <td>...</td>\n",
       "      <td>...</td>\n",
       "      <td>...</td>\n",
       "      <td>...</td>\n",
       "      <td>...</td>\n",
       "      <td>...</td>\n",
       "      <td>...</td>\n",
       "    </tr>\n",
       "    <tr>\n",
       "      <th>VIVT3-BRPR3</th>\n",
       "      <td>3</td>\n",
       "      <td>94</td>\n",
       "      <td>58</td>\n",
       "      <td>109</td>\n",
       "      <td>51</td>\n",
       "      <td>0.146293</td>\n",
       "      <td>2</td>\n",
       "      <td>2.151902</td>\n",
       "    </tr>\n",
       "    <tr>\n",
       "      <th>VIVT3-CGAS5</th>\n",
       "      <td>1</td>\n",
       "      <td>44</td>\n",
       "      <td>35</td>\n",
       "      <td>50</td>\n",
       "      <td>15</td>\n",
       "      <td>0.100038</td>\n",
       "      <td>1</td>\n",
       "      <td>1.105213</td>\n",
       "    </tr>\n",
       "    <tr>\n",
       "      <th>VIVT3-ENGI11</th>\n",
       "      <td>3</td>\n",
       "      <td>90</td>\n",
       "      <td>83</td>\n",
       "      <td>125</td>\n",
       "      <td>42</td>\n",
       "      <td>0.090406</td>\n",
       "      <td>2</td>\n",
       "      <td>2.092761</td>\n",
       "    </tr>\n",
       "    <tr>\n",
       "      <th>VIVT3-PCAR4</th>\n",
       "      <td>1</td>\n",
       "      <td>39</td>\n",
       "      <td>6</td>\n",
       "      <td>42</td>\n",
       "      <td>36</td>\n",
       "      <td>0.080827</td>\n",
       "      <td>1</td>\n",
       "      <td>1.084184</td>\n",
       "    </tr>\n",
       "    <tr>\n",
       "      <th>VIVT3-VIVT4</th>\n",
       "      <td>4</td>\n",
       "      <td>137</td>\n",
       "      <td>61</td>\n",
       "      <td>157</td>\n",
       "      <td>96</td>\n",
       "      <td>0.180056</td>\n",
       "      <td>3</td>\n",
       "      <td>3.186329</td>\n",
       "    </tr>\n",
       "  </tbody>\n",
       "</table>\n",
       "<p>179 rows × 8 columns</p>\n",
       "</div>\n",
       "    <div class=\"colab-df-buttons\">\n",
       "\n",
       "  <div class=\"colab-df-container\">\n",
       "    <button class=\"colab-df-convert\" onclick=\"convertToInteractive('df-0d8d937f-853f-464b-bf8c-ef620490dc77')\"\n",
       "            title=\"Convert this dataframe to an interactive table.\"\n",
       "            style=\"display:none;\">\n",
       "\n",
       "  <svg xmlns=\"http://www.w3.org/2000/svg\" height=\"24px\" viewBox=\"0 -960 960 960\">\n",
       "    <path d=\"M120-120v-720h720v720H120Zm60-500h600v-160H180v160Zm220 220h160v-160H400v160Zm0 220h160v-160H400v160ZM180-400h160v-160H180v160Zm440 0h160v-160H620v160ZM180-180h160v-160H180v160Zm440 0h160v-160H620v160Z\"/>\n",
       "  </svg>\n",
       "    </button>\n",
       "\n",
       "  <style>\n",
       "    .colab-df-container {\n",
       "      display:flex;\n",
       "      gap: 12px;\n",
       "    }\n",
       "\n",
       "    .colab-df-convert {\n",
       "      background-color: #E8F0FE;\n",
       "      border: none;\n",
       "      border-radius: 50%;\n",
       "      cursor: pointer;\n",
       "      display: none;\n",
       "      fill: #1967D2;\n",
       "      height: 32px;\n",
       "      padding: 0 0 0 0;\n",
       "      width: 32px;\n",
       "    }\n",
       "\n",
       "    .colab-df-convert:hover {\n",
       "      background-color: #E2EBFA;\n",
       "      box-shadow: 0px 1px 2px rgba(60, 64, 67, 0.3), 0px 1px 3px 1px rgba(60, 64, 67, 0.15);\n",
       "      fill: #174EA6;\n",
       "    }\n",
       "\n",
       "    .colab-df-buttons div {\n",
       "      margin-bottom: 4px;\n",
       "    }\n",
       "\n",
       "    [theme=dark] .colab-df-convert {\n",
       "      background-color: #3B4455;\n",
       "      fill: #D2E3FC;\n",
       "    }\n",
       "\n",
       "    [theme=dark] .colab-df-convert:hover {\n",
       "      background-color: #434B5C;\n",
       "      box-shadow: 0px 1px 3px 1px rgba(0, 0, 0, 0.15);\n",
       "      filter: drop-shadow(0px 1px 2px rgba(0, 0, 0, 0.3));\n",
       "      fill: #FFFFFF;\n",
       "    }\n",
       "  </style>\n",
       "\n",
       "    <script>\n",
       "      const buttonEl =\n",
       "        document.querySelector('#df-0d8d937f-853f-464b-bf8c-ef620490dc77 button.colab-df-convert');\n",
       "      buttonEl.style.display =\n",
       "        google.colab.kernel.accessAllowed ? 'block' : 'none';\n",
       "\n",
       "      async function convertToInteractive(key) {\n",
       "        const element = document.querySelector('#df-0d8d937f-853f-464b-bf8c-ef620490dc77');\n",
       "        const dataTable =\n",
       "          await google.colab.kernel.invokeFunction('convertToInteractive',\n",
       "                                                    [key], {});\n",
       "        if (!dataTable) return;\n",
       "\n",
       "        const docLinkHtml = 'Like what you see? Visit the ' +\n",
       "          '<a target=\"_blank\" href=https://colab.research.google.com/notebooks/data_table.ipynb>data table notebook</a>'\n",
       "          + ' to learn more about interactive tables.';\n",
       "        element.innerHTML = '';\n",
       "        dataTable['output_type'] = 'display_data';\n",
       "        await google.colab.output.renderOutput(dataTable, element);\n",
       "        const docLink = document.createElement('div');\n",
       "        docLink.innerHTML = docLinkHtml;\n",
       "        element.appendChild(docLink);\n",
       "      }\n",
       "    </script>\n",
       "  </div>\n",
       "\n",
       "\n",
       "<div id=\"df-8dd15fbb-8a48-48dc-a66a-b4c04e603795\">\n",
       "  <button class=\"colab-df-quickchart\" onclick=\"quickchart('df-8dd15fbb-8a48-48dc-a66a-b4c04e603795')\"\n",
       "            title=\"Suggest charts\"\n",
       "            style=\"display:none;\">\n",
       "\n",
       "<svg xmlns=\"http://www.w3.org/2000/svg\" height=\"24px\"viewBox=\"0 0 24 24\"\n",
       "     width=\"24px\">\n",
       "    <g>\n",
       "        <path d=\"M19 3H5c-1.1 0-2 .9-2 2v14c0 1.1.9 2 2 2h14c1.1 0 2-.9 2-2V5c0-1.1-.9-2-2-2zM9 17H7v-7h2v7zm4 0h-2V7h2v10zm4 0h-2v-4h2v4z\"/>\n",
       "    </g>\n",
       "</svg>\n",
       "  </button>\n",
       "\n",
       "<style>\n",
       "  .colab-df-quickchart {\n",
       "      --bg-color: #E8F0FE;\n",
       "      --fill-color: #1967D2;\n",
       "      --hover-bg-color: #E2EBFA;\n",
       "      --hover-fill-color: #174EA6;\n",
       "      --disabled-fill-color: #AAA;\n",
       "      --disabled-bg-color: #DDD;\n",
       "  }\n",
       "\n",
       "  [theme=dark] .colab-df-quickchart {\n",
       "      --bg-color: #3B4455;\n",
       "      --fill-color: #D2E3FC;\n",
       "      --hover-bg-color: #434B5C;\n",
       "      --hover-fill-color: #FFFFFF;\n",
       "      --disabled-bg-color: #3B4455;\n",
       "      --disabled-fill-color: #666;\n",
       "  }\n",
       "\n",
       "  .colab-df-quickchart {\n",
       "    background-color: var(--bg-color);\n",
       "    border: none;\n",
       "    border-radius: 50%;\n",
       "    cursor: pointer;\n",
       "    display: none;\n",
       "    fill: var(--fill-color);\n",
       "    height: 32px;\n",
       "    padding: 0;\n",
       "    width: 32px;\n",
       "  }\n",
       "\n",
       "  .colab-df-quickchart:hover {\n",
       "    background-color: var(--hover-bg-color);\n",
       "    box-shadow: 0 1px 2px rgba(60, 64, 67, 0.3), 0 1px 3px 1px rgba(60, 64, 67, 0.15);\n",
       "    fill: var(--button-hover-fill-color);\n",
       "  }\n",
       "\n",
       "  .colab-df-quickchart-complete:disabled,\n",
       "  .colab-df-quickchart-complete:disabled:hover {\n",
       "    background-color: var(--disabled-bg-color);\n",
       "    fill: var(--disabled-fill-color);\n",
       "    box-shadow: none;\n",
       "  }\n",
       "\n",
       "  .colab-df-spinner {\n",
       "    border: 2px solid var(--fill-color);\n",
       "    border-color: transparent;\n",
       "    border-bottom-color: var(--fill-color);\n",
       "    animation:\n",
       "      spin 1s steps(1) infinite;\n",
       "  }\n",
       "\n",
       "  @keyframes spin {\n",
       "    0% {\n",
       "      border-color: transparent;\n",
       "      border-bottom-color: var(--fill-color);\n",
       "      border-left-color: var(--fill-color);\n",
       "    }\n",
       "    20% {\n",
       "      border-color: transparent;\n",
       "      border-left-color: var(--fill-color);\n",
       "      border-top-color: var(--fill-color);\n",
       "    }\n",
       "    30% {\n",
       "      border-color: transparent;\n",
       "      border-left-color: var(--fill-color);\n",
       "      border-top-color: var(--fill-color);\n",
       "      border-right-color: var(--fill-color);\n",
       "    }\n",
       "    40% {\n",
       "      border-color: transparent;\n",
       "      border-right-color: var(--fill-color);\n",
       "      border-top-color: var(--fill-color);\n",
       "    }\n",
       "    60% {\n",
       "      border-color: transparent;\n",
       "      border-right-color: var(--fill-color);\n",
       "    }\n",
       "    80% {\n",
       "      border-color: transparent;\n",
       "      border-right-color: var(--fill-color);\n",
       "      border-bottom-color: var(--fill-color);\n",
       "    }\n",
       "    90% {\n",
       "      border-color: transparent;\n",
       "      border-bottom-color: var(--fill-color);\n",
       "    }\n",
       "  }\n",
       "</style>\n",
       "\n",
       "  <script>\n",
       "    async function quickchart(key) {\n",
       "      const quickchartButtonEl =\n",
       "        document.querySelector('#' + key + ' button');\n",
       "      quickchartButtonEl.disabled = true;  // To prevent multiple clicks.\n",
       "      quickchartButtonEl.classList.add('colab-df-spinner');\n",
       "      try {\n",
       "        const charts = await google.colab.kernel.invokeFunction(\n",
       "            'suggestCharts', [key], {});\n",
       "      } catch (error) {\n",
       "        console.error('Error during call to suggestCharts:', error);\n",
       "      }\n",
       "      quickchartButtonEl.classList.remove('colab-df-spinner');\n",
       "      quickchartButtonEl.classList.add('colab-df-quickchart-complete');\n",
       "    }\n",
       "    (() => {\n",
       "      let quickchartButtonEl =\n",
       "        document.querySelector('#df-8dd15fbb-8a48-48dc-a66a-b4c04e603795 button');\n",
       "      quickchartButtonEl.style.display =\n",
       "        google.colab.kernel.accessAllowed ? 'block' : 'none';\n",
       "    })();\n",
       "  </script>\n",
       "</div>\n",
       "\n",
       "  <div id=\"id_7013644f-8e84-4082-b597-6d768f53e1bb\">\n",
       "    <style>\n",
       "      .colab-df-generate {\n",
       "        background-color: #E8F0FE;\n",
       "        border: none;\n",
       "        border-radius: 50%;\n",
       "        cursor: pointer;\n",
       "        display: none;\n",
       "        fill: #1967D2;\n",
       "        height: 32px;\n",
       "        padding: 0 0 0 0;\n",
       "        width: 32px;\n",
       "      }\n",
       "\n",
       "      .colab-df-generate:hover {\n",
       "        background-color: #E2EBFA;\n",
       "        box-shadow: 0px 1px 2px rgba(60, 64, 67, 0.3), 0px 1px 3px 1px rgba(60, 64, 67, 0.15);\n",
       "        fill: #174EA6;\n",
       "      }\n",
       "\n",
       "      [theme=dark] .colab-df-generate {\n",
       "        background-color: #3B4455;\n",
       "        fill: #D2E3FC;\n",
       "      }\n",
       "\n",
       "      [theme=dark] .colab-df-generate:hover {\n",
       "        background-color: #434B5C;\n",
       "        box-shadow: 0px 1px 3px 1px rgba(0, 0, 0, 0.15);\n",
       "        filter: drop-shadow(0px 1px 2px rgba(0, 0, 0, 0.3));\n",
       "        fill: #FFFFFF;\n",
       "      }\n",
       "    </style>\n",
       "    <button class=\"colab-df-generate\" onclick=\"generateWithVariable('operations_by_pair')\"\n",
       "            title=\"Generate code using this dataframe.\"\n",
       "            style=\"display:none;\">\n",
       "\n",
       "  <svg xmlns=\"http://www.w3.org/2000/svg\" height=\"24px\"viewBox=\"0 0 24 24\"\n",
       "       width=\"24px\">\n",
       "    <path d=\"M7,19H8.4L18.45,9,17,7.55,7,17.6ZM5,21V16.75L18.45,3.32a2,2,0,0,1,2.83,0l1.4,1.43a1.91,1.91,0,0,1,.58,1.4,1.91,1.91,0,0,1-.58,1.4L9.25,21ZM18.45,9,17,7.55Zm-12,3A5.31,5.31,0,0,0,4.9,8.1,5.31,5.31,0,0,0,1,6.5,5.31,5.31,0,0,0,4.9,4.9,5.31,5.31,0,0,0,6.5,1,5.31,5.31,0,0,0,8.1,4.9,5.31,5.31,0,0,0,12,6.5,5.46,5.46,0,0,0,6.5,12Z\"/>\n",
       "  </svg>\n",
       "    </button>\n",
       "    <script>\n",
       "      (() => {\n",
       "      const buttonEl =\n",
       "        document.querySelector('#id_7013644f-8e84-4082-b597-6d768f53e1bb button.colab-df-generate');\n",
       "      buttonEl.style.display =\n",
       "        google.colab.kernel.accessAllowed ? 'block' : 'none';\n",
       "\n",
       "      buttonEl.onclick = () => {\n",
       "        google.colab.notebook.generateWithVariable('operations_by_pair');\n",
       "      }\n",
       "      })();\n",
       "    </script>\n",
       "  </div>\n",
       "\n",
       "    </div>\n",
       "  </div>\n"
      ],
      "text/plain": [
       "              Operação  Semestre  Abertura  Fechamento  Dias  Retorno total  \\\n",
       "Pair                                                                          \n",
       "ABEV3-BRPR3          3        84       144         187    43       0.030521   \n",
       "ABEV3-RADL3          3        76       116         128    12       0.087581   \n",
       "ABEV3-SULA11         1        32       116         130    14       0.013248   \n",
       "ACES4-VIVT4          6        54        90         116    26       0.452215   \n",
       "AMBV4-SUZB5          1         5         1          15    14       0.213606   \n",
       "...                ...       ...       ...         ...   ...            ...   \n",
       "VIVT3-BRPR3          3        94        58         109    51       0.146293   \n",
       "VIVT3-CGAS5          1        44        35          50    15       0.100038   \n",
       "VIVT3-ENGI11         3        90        83         125    42       0.090406   \n",
       "VIVT3-PCAR4          1        39         6          42    36       0.080827   \n",
       "VIVT3-VIVT4          4       137        61         157    96       0.180056   \n",
       "\n",
       "              Converged  Retorno total - exp  \n",
       "Pair                                          \n",
       "ABEV3-BRPR3           1             2.031211  \n",
       "ABEV3-RADL3           2             2.089530  \n",
       "ABEV3-SULA11          0             1.013336  \n",
       "ACES4-VIVT4           3             3.488253  \n",
       "AMBV4-SUZB5           1             1.238135  \n",
       "...                 ...                  ...  \n",
       "VIVT3-BRPR3           2             2.151902  \n",
       "VIVT3-CGAS5           1             1.105213  \n",
       "VIVT3-ENGI11          2             2.092761  \n",
       "VIVT3-PCAR4           1             1.084184  \n",
       "VIVT3-VIVT4           3             3.186329  \n",
       "\n",
       "[179 rows x 8 columns]"
      ]
     },
     "execution_count": 14,
     "metadata": {},
     "output_type": "execute_result"
    }
   ],
   "source": [
    "operations_by_pair"
   ]
  },
  {
   "cell_type": "code",
   "execution_count": 15,
   "id": "n_maqbKddL-e",
   "metadata": {
    "colab": {
     "base_uri": "https://localhost:8080/"
    },
    "executionInfo": {
     "elapsed": 11,
     "status": "ok",
     "timestamp": 1708071256366,
     "user": {
      "displayName": "Marcelo “Polecram”",
      "userId": "07802337785347454484"
     },
     "user_tz": 180
    },
    "id": "n_maqbKddL-e",
    "outputId": "23cb40e9-c914-4ca8-ae33-e38a9b79ac2f"
   },
   "outputs": [
    {
     "data": {
      "text/plain": [
       "0.16129660446468544"
      ]
     },
     "execution_count": 15,
     "metadata": {},
     "output_type": "execute_result"
    }
   ],
   "source": [
    "operations_by_pair['Retorno total'].mean()"
   ]
  },
  {
   "cell_type": "code",
   "execution_count": 16,
   "id": "dKYXBLx6iqo8",
   "metadata": {
    "colab": {
     "base_uri": "https://localhost:8080/",
     "height": 424
    },
    "executionInfo": {
     "elapsed": 10,
     "status": "ok",
     "timestamp": 1708071256366,
     "user": {
      "displayName": "Marcelo “Polecram”",
      "userId": "07802337785347454484"
     },
     "user_tz": 180
    },
    "id": "dKYXBLx6iqo8",
    "outputId": "ff5e2ac3-f0d8-4587-c380-626669467e25"
   },
   "outputs": [
    {
     "data": {
      "application/vnd.google.colaboratory.intrinsic+json": {
       "summary": "{\n  \"name\": \"stock_count_df\",\n  \"rows\": 134,\n  \"fields\": [\n    {\n      \"column\": 0,\n      \"properties\": {\n        \"dtype\": \"string\",\n        \"samples\": [\n          \"EGIE3\",\n          \"TAEE11\",\n          \"CGAS5\"\n        ],\n        \"num_unique_values\": 134,\n        \"semantic_type\": \"\",\n        \"description\": \"\"\n      }\n    },\n    {\n      \"column\": 1,\n      \"properties\": {\n        \"dtype\": \"number\",\n        \"std\": 2,\n        \"min\": 1,\n        \"max\": 13,\n        \"samples\": [\n          9,\n          2,\n          6\n        ],\n        \"num_unique_values\": 10,\n        \"semantic_type\": \"\",\n        \"description\": \"\"\n      }\n    }\n  ]\n}",
       "type": "dataframe",
       "variable_name": "stock_count_df"
      },
      "text/html": [
       "\n",
       "  <div id=\"df-668c15db-8f84-4adf-99a5-9ae39fba918f\" class=\"colab-df-container\">\n",
       "    <div>\n",
       "<style scoped>\n",
       "    .dataframe tbody tr th:only-of-type {\n",
       "        vertical-align: middle;\n",
       "    }\n",
       "\n",
       "    .dataframe tbody tr th {\n",
       "        vertical-align: top;\n",
       "    }\n",
       "\n",
       "    .dataframe thead th {\n",
       "        text-align: right;\n",
       "    }\n",
       "</style>\n",
       "<table border=\"1\" class=\"dataframe\">\n",
       "  <thead>\n",
       "    <tr style=\"text-align: right;\">\n",
       "      <th></th>\n",
       "      <th>0</th>\n",
       "      <th>1</th>\n",
       "    </tr>\n",
       "  </thead>\n",
       "  <tbody>\n",
       "    <tr>\n",
       "      <th>66</th>\n",
       "      <td>CRUZ3</td>\n",
       "      <td>1</td>\n",
       "    </tr>\n",
       "    <tr>\n",
       "      <th>42</th>\n",
       "      <td>BRML3</td>\n",
       "      <td>1</td>\n",
       "    </tr>\n",
       "    <tr>\n",
       "      <th>43</th>\n",
       "      <td>ALLL3</td>\n",
       "      <td>1</td>\n",
       "    </tr>\n",
       "    <tr>\n",
       "      <th>55</th>\n",
       "      <td>CLSC4</td>\n",
       "      <td>1</td>\n",
       "    </tr>\n",
       "    <tr>\n",
       "      <th>58</th>\n",
       "      <td>YDUQ3</td>\n",
       "      <td>1</td>\n",
       "    </tr>\n",
       "    <tr>\n",
       "      <th>...</th>\n",
       "      <td>...</td>\n",
       "      <td>...</td>\n",
       "    </tr>\n",
       "    <tr>\n",
       "      <th>49</th>\n",
       "      <td>BRDT4</td>\n",
       "      <td>8</td>\n",
       "    </tr>\n",
       "    <tr>\n",
       "      <th>50</th>\n",
       "      <td>old</td>\n",
       "      <td>8</td>\n",
       "    </tr>\n",
       "    <tr>\n",
       "      <th>62</th>\n",
       "      <td>PCAR4</td>\n",
       "      <td>8</td>\n",
       "    </tr>\n",
       "    <tr>\n",
       "      <th>5</th>\n",
       "      <td>VIVT4</td>\n",
       "      <td>9</td>\n",
       "    </tr>\n",
       "    <tr>\n",
       "      <th>16</th>\n",
       "      <td>OIBR3</td>\n",
       "      <td>13</td>\n",
       "    </tr>\n",
       "  </tbody>\n",
       "</table>\n",
       "<p>134 rows × 2 columns</p>\n",
       "</div>\n",
       "    <div class=\"colab-df-buttons\">\n",
       "\n",
       "  <div class=\"colab-df-container\">\n",
       "    <button class=\"colab-df-convert\" onclick=\"convertToInteractive('df-668c15db-8f84-4adf-99a5-9ae39fba918f')\"\n",
       "            title=\"Convert this dataframe to an interactive table.\"\n",
       "            style=\"display:none;\">\n",
       "\n",
       "  <svg xmlns=\"http://www.w3.org/2000/svg\" height=\"24px\" viewBox=\"0 -960 960 960\">\n",
       "    <path d=\"M120-120v-720h720v720H120Zm60-500h600v-160H180v160Zm220 220h160v-160H400v160Zm0 220h160v-160H400v160ZM180-400h160v-160H180v160Zm440 0h160v-160H620v160ZM180-180h160v-160H180v160Zm440 0h160v-160H620v160Z\"/>\n",
       "  </svg>\n",
       "    </button>\n",
       "\n",
       "  <style>\n",
       "    .colab-df-container {\n",
       "      display:flex;\n",
       "      gap: 12px;\n",
       "    }\n",
       "\n",
       "    .colab-df-convert {\n",
       "      background-color: #E8F0FE;\n",
       "      border: none;\n",
       "      border-radius: 50%;\n",
       "      cursor: pointer;\n",
       "      display: none;\n",
       "      fill: #1967D2;\n",
       "      height: 32px;\n",
       "      padding: 0 0 0 0;\n",
       "      width: 32px;\n",
       "    }\n",
       "\n",
       "    .colab-df-convert:hover {\n",
       "      background-color: #E2EBFA;\n",
       "      box-shadow: 0px 1px 2px rgba(60, 64, 67, 0.3), 0px 1px 3px 1px rgba(60, 64, 67, 0.15);\n",
       "      fill: #174EA6;\n",
       "    }\n",
       "\n",
       "    .colab-df-buttons div {\n",
       "      margin-bottom: 4px;\n",
       "    }\n",
       "\n",
       "    [theme=dark] .colab-df-convert {\n",
       "      background-color: #3B4455;\n",
       "      fill: #D2E3FC;\n",
       "    }\n",
       "\n",
       "    [theme=dark] .colab-df-convert:hover {\n",
       "      background-color: #434B5C;\n",
       "      box-shadow: 0px 1px 3px 1px rgba(0, 0, 0, 0.15);\n",
       "      filter: drop-shadow(0px 1px 2px rgba(0, 0, 0, 0.3));\n",
       "      fill: #FFFFFF;\n",
       "    }\n",
       "  </style>\n",
       "\n",
       "    <script>\n",
       "      const buttonEl =\n",
       "        document.querySelector('#df-668c15db-8f84-4adf-99a5-9ae39fba918f button.colab-df-convert');\n",
       "      buttonEl.style.display =\n",
       "        google.colab.kernel.accessAllowed ? 'block' : 'none';\n",
       "\n",
       "      async function convertToInteractive(key) {\n",
       "        const element = document.querySelector('#df-668c15db-8f84-4adf-99a5-9ae39fba918f');\n",
       "        const dataTable =\n",
       "          await google.colab.kernel.invokeFunction('convertToInteractive',\n",
       "                                                    [key], {});\n",
       "        if (!dataTable) return;\n",
       "\n",
       "        const docLinkHtml = 'Like what you see? Visit the ' +\n",
       "          '<a target=\"_blank\" href=https://colab.research.google.com/notebooks/data_table.ipynb>data table notebook</a>'\n",
       "          + ' to learn more about interactive tables.';\n",
       "        element.innerHTML = '';\n",
       "        dataTable['output_type'] = 'display_data';\n",
       "        await google.colab.output.renderOutput(dataTable, element);\n",
       "        const docLink = document.createElement('div');\n",
       "        docLink.innerHTML = docLinkHtml;\n",
       "        element.appendChild(docLink);\n",
       "      }\n",
       "    </script>\n",
       "  </div>\n",
       "\n",
       "\n",
       "<div id=\"df-ee645dc8-c773-426e-8e46-7df4f3a11c00\">\n",
       "  <button class=\"colab-df-quickchart\" onclick=\"quickchart('df-ee645dc8-c773-426e-8e46-7df4f3a11c00')\"\n",
       "            title=\"Suggest charts\"\n",
       "            style=\"display:none;\">\n",
       "\n",
       "<svg xmlns=\"http://www.w3.org/2000/svg\" height=\"24px\"viewBox=\"0 0 24 24\"\n",
       "     width=\"24px\">\n",
       "    <g>\n",
       "        <path d=\"M19 3H5c-1.1 0-2 .9-2 2v14c0 1.1.9 2 2 2h14c1.1 0 2-.9 2-2V5c0-1.1-.9-2-2-2zM9 17H7v-7h2v7zm4 0h-2V7h2v10zm4 0h-2v-4h2v4z\"/>\n",
       "    </g>\n",
       "</svg>\n",
       "  </button>\n",
       "\n",
       "<style>\n",
       "  .colab-df-quickchart {\n",
       "      --bg-color: #E8F0FE;\n",
       "      --fill-color: #1967D2;\n",
       "      --hover-bg-color: #E2EBFA;\n",
       "      --hover-fill-color: #174EA6;\n",
       "      --disabled-fill-color: #AAA;\n",
       "      --disabled-bg-color: #DDD;\n",
       "  }\n",
       "\n",
       "  [theme=dark] .colab-df-quickchart {\n",
       "      --bg-color: #3B4455;\n",
       "      --fill-color: #D2E3FC;\n",
       "      --hover-bg-color: #434B5C;\n",
       "      --hover-fill-color: #FFFFFF;\n",
       "      --disabled-bg-color: #3B4455;\n",
       "      --disabled-fill-color: #666;\n",
       "  }\n",
       "\n",
       "  .colab-df-quickchart {\n",
       "    background-color: var(--bg-color);\n",
       "    border: none;\n",
       "    border-radius: 50%;\n",
       "    cursor: pointer;\n",
       "    display: none;\n",
       "    fill: var(--fill-color);\n",
       "    height: 32px;\n",
       "    padding: 0;\n",
       "    width: 32px;\n",
       "  }\n",
       "\n",
       "  .colab-df-quickchart:hover {\n",
       "    background-color: var(--hover-bg-color);\n",
       "    box-shadow: 0 1px 2px rgba(60, 64, 67, 0.3), 0 1px 3px 1px rgba(60, 64, 67, 0.15);\n",
       "    fill: var(--button-hover-fill-color);\n",
       "  }\n",
       "\n",
       "  .colab-df-quickchart-complete:disabled,\n",
       "  .colab-df-quickchart-complete:disabled:hover {\n",
       "    background-color: var(--disabled-bg-color);\n",
       "    fill: var(--disabled-fill-color);\n",
       "    box-shadow: none;\n",
       "  }\n",
       "\n",
       "  .colab-df-spinner {\n",
       "    border: 2px solid var(--fill-color);\n",
       "    border-color: transparent;\n",
       "    border-bottom-color: var(--fill-color);\n",
       "    animation:\n",
       "      spin 1s steps(1) infinite;\n",
       "  }\n",
       "\n",
       "  @keyframes spin {\n",
       "    0% {\n",
       "      border-color: transparent;\n",
       "      border-bottom-color: var(--fill-color);\n",
       "      border-left-color: var(--fill-color);\n",
       "    }\n",
       "    20% {\n",
       "      border-color: transparent;\n",
       "      border-left-color: var(--fill-color);\n",
       "      border-top-color: var(--fill-color);\n",
       "    }\n",
       "    30% {\n",
       "      border-color: transparent;\n",
       "      border-left-color: var(--fill-color);\n",
       "      border-top-color: var(--fill-color);\n",
       "      border-right-color: var(--fill-color);\n",
       "    }\n",
       "    40% {\n",
       "      border-color: transparent;\n",
       "      border-right-color: var(--fill-color);\n",
       "      border-top-color: var(--fill-color);\n",
       "    }\n",
       "    60% {\n",
       "      border-color: transparent;\n",
       "      border-right-color: var(--fill-color);\n",
       "    }\n",
       "    80% {\n",
       "      border-color: transparent;\n",
       "      border-right-color: var(--fill-color);\n",
       "      border-bottom-color: var(--fill-color);\n",
       "    }\n",
       "    90% {\n",
       "      border-color: transparent;\n",
       "      border-bottom-color: var(--fill-color);\n",
       "    }\n",
       "  }\n",
       "</style>\n",
       "\n",
       "  <script>\n",
       "    async function quickchart(key) {\n",
       "      const quickchartButtonEl =\n",
       "        document.querySelector('#' + key + ' button');\n",
       "      quickchartButtonEl.disabled = true;  // To prevent multiple clicks.\n",
       "      quickchartButtonEl.classList.add('colab-df-spinner');\n",
       "      try {\n",
       "        const charts = await google.colab.kernel.invokeFunction(\n",
       "            'suggestCharts', [key], {});\n",
       "      } catch (error) {\n",
       "        console.error('Error during call to suggestCharts:', error);\n",
       "      }\n",
       "      quickchartButtonEl.classList.remove('colab-df-spinner');\n",
       "      quickchartButtonEl.classList.add('colab-df-quickchart-complete');\n",
       "    }\n",
       "    (() => {\n",
       "      let quickchartButtonEl =\n",
       "        document.querySelector('#df-ee645dc8-c773-426e-8e46-7df4f3a11c00 button');\n",
       "      quickchartButtonEl.style.display =\n",
       "        google.colab.kernel.accessAllowed ? 'block' : 'none';\n",
       "    })();\n",
       "  </script>\n",
       "</div>\n",
       "\n",
       "  <div id=\"id_ad3e104a-43fa-467b-bf20-5431dd65e732\">\n",
       "    <style>\n",
       "      .colab-df-generate {\n",
       "        background-color: #E8F0FE;\n",
       "        border: none;\n",
       "        border-radius: 50%;\n",
       "        cursor: pointer;\n",
       "        display: none;\n",
       "        fill: #1967D2;\n",
       "        height: 32px;\n",
       "        padding: 0 0 0 0;\n",
       "        width: 32px;\n",
       "      }\n",
       "\n",
       "      .colab-df-generate:hover {\n",
       "        background-color: #E2EBFA;\n",
       "        box-shadow: 0px 1px 2px rgba(60, 64, 67, 0.3), 0px 1px 3px 1px rgba(60, 64, 67, 0.15);\n",
       "        fill: #174EA6;\n",
       "      }\n",
       "\n",
       "      [theme=dark] .colab-df-generate {\n",
       "        background-color: #3B4455;\n",
       "        fill: #D2E3FC;\n",
       "      }\n",
       "\n",
       "      [theme=dark] .colab-df-generate:hover {\n",
       "        background-color: #434B5C;\n",
       "        box-shadow: 0px 1px 3px 1px rgba(0, 0, 0, 0.15);\n",
       "        filter: drop-shadow(0px 1px 2px rgba(0, 0, 0, 0.3));\n",
       "        fill: #FFFFFF;\n",
       "      }\n",
       "    </style>\n",
       "    <button class=\"colab-df-generate\" onclick=\"generateWithVariable('stock_count_df')\"\n",
       "            title=\"Generate code using this dataframe.\"\n",
       "            style=\"display:none;\">\n",
       "\n",
       "  <svg xmlns=\"http://www.w3.org/2000/svg\" height=\"24px\"viewBox=\"0 0 24 24\"\n",
       "       width=\"24px\">\n",
       "    <path d=\"M7,19H8.4L18.45,9,17,7.55,7,17.6ZM5,21V16.75L18.45,3.32a2,2,0,0,1,2.83,0l1.4,1.43a1.91,1.91,0,0,1,.58,1.4,1.91,1.91,0,0,1-.58,1.4L9.25,21ZM18.45,9,17,7.55Zm-12,3A5.31,5.31,0,0,0,4.9,8.1,5.31,5.31,0,0,0,1,6.5,5.31,5.31,0,0,0,4.9,4.9,5.31,5.31,0,0,0,6.5,1,5.31,5.31,0,0,0,8.1,4.9,5.31,5.31,0,0,0,12,6.5,5.46,5.46,0,0,0,6.5,12Z\"/>\n",
       "  </svg>\n",
       "    </button>\n",
       "    <script>\n",
       "      (() => {\n",
       "      const buttonEl =\n",
       "        document.querySelector('#id_ad3e104a-43fa-467b-bf20-5431dd65e732 button.colab-df-generate');\n",
       "      buttonEl.style.display =\n",
       "        google.colab.kernel.accessAllowed ? 'block' : 'none';\n",
       "\n",
       "      buttonEl.onclick = () => {\n",
       "        google.colab.notebook.generateWithVariable('stock_count_df');\n",
       "      }\n",
       "      })();\n",
       "    </script>\n",
       "  </div>\n",
       "\n",
       "    </div>\n",
       "  </div>\n"
      ],
      "text/plain": [
       "        0   1\n",
       "66  CRUZ3   1\n",
       "42  BRML3   1\n",
       "43  ALLL3   1\n",
       "55  CLSC4   1\n",
       "58  YDUQ3   1\n",
       "..    ...  ..\n",
       "49  BRDT4   8\n",
       "50    old   8\n",
       "62  PCAR4   8\n",
       "5   VIVT4   9\n",
       "16  OIBR3  13\n",
       "\n",
       "[134 rows x 2 columns]"
      ]
     },
     "execution_count": 16,
     "metadata": {},
     "output_type": "execute_result"
    }
   ],
   "source": [
    "stock_count_df"
   ]
  },
  {
   "cell_type": "code",
   "execution_count": 17,
   "id": "2tABtdg8ktWS",
   "metadata": {
    "colab": {
     "base_uri": "https://localhost:8080/"
    },
    "executionInfo": {
     "elapsed": 9,
     "status": "ok",
     "timestamp": 1708071256366,
     "user": {
      "displayName": "Marcelo “Polecram”",
      "userId": "07802337785347454484"
     },
     "user_tz": 180
    },
    "id": "2tABtdg8ktWS",
    "outputId": "3ecaa830-0f01-409a-8cd1-fabfb15abc51"
   },
   "outputs": [
    {
     "data": {
      "text/plain": [
       "55"
      ]
     },
     "execution_count": 17,
     "metadata": {},
     "output_type": "execute_result"
    }
   ],
   "source": [
    "max(operations['Semestre'])+1"
   ]
  },
  {
   "cell_type": "code",
   "execution_count": 17,
   "id": "-AbaVB1_OmiQ",
   "metadata": {
    "executionInfo": {
     "elapsed": 8,
     "status": "ok",
     "timestamp": 1708071256366,
     "user": {
      "displayName": "Marcelo “Polecram”",
      "userId": "07802337785347454484"
     },
     "user_tz": 180
    },
    "id": "-AbaVB1_OmiQ"
   },
   "outputs": [],
   "source": []
  }
 ],
 "metadata": {
  "colab": {
   "provenance": []
  },
  "kernelspec": {
   "display_name": "Python 3 (ipykernel)",
   "language": "python",
   "name": "python3"
  },
  "language_info": {
   "codemirror_mode": {
    "name": "ipython",
    "version": 3
   },
   "file_extension": ".py",
   "mimetype": "text/x-python",
   "name": "python",
   "nbconvert_exporter": "python",
   "pygments_lexer": "ipython3",
   "version": "3.10.12"
  }
 },
 "nbformat": 4,
 "nbformat_minor": 5
}
