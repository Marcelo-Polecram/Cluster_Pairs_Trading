{
 "cells": [
  {
   "cell_type": "code",
   "execution_count": 1,
   "id": "3682df96",
   "metadata": {
    "colab": {
     "base_uri": "https://localhost:8080/"
    },
    "executionInfo": {
     "elapsed": 577,
     "status": "ok",
     "timestamp": 1707889477345,
     "user": {
      "displayName": "Marcelo “Polecram”",
      "userId": "07802337785347454484"
     },
     "user_tz": 180
    },
    "id": "3682df96",
    "outputId": "a61be849-5b95-45e8-9c46-59b2953c244b"
   },
   "outputs": [
    {
     "name": "stderr",
     "output_type": "stream",
     "text": [
      "/tmp/ipykernel_7189/767163670.py:1: DeprecationWarning: \n",
      "Pyarrow will become a required dependency of pandas in the next major release of pandas (pandas 3.0),\n",
      "(to allow more performant data types, such as the Arrow string type, and better interoperability with other libraries)\n",
      "but was not found to be installed on your system.\n",
      "If this would cause problems for you,\n",
      "please provide us feedback at https://github.com/pandas-dev/pandas/issues/54466\n",
      "        \n",
      "  import pandas as pd\n"
     ]
    }
   ],
   "source": [
    "import pandas as pd\n",
    "import numpy as np\n",
    "from matplotlib import pyplot as plt\n",
    "import yfinance as yf\n",
    "import os\n",
    "from pathlib import Path"
   ]
  },
  {
   "cell_type": "code",
   "execution_count": 2,
   "id": "b357b820",
   "metadata": {
    "colab": {
     "base_uri": "https://localhost:8080/",
     "height": 0
    },
    "executionInfo": {
     "elapsed": 17148,
     "status": "ok",
     "timestamp": 1707889528120,
     "user": {
      "displayName": "Marcelo “Polecram”",
      "userId": "07802337785347454484"
     },
     "user_tz": 180
    },
    "id": "b357b820",
    "outputId": "e6334f11-0d84-4685-855a-6f65542326e1"
   },
   "outputs": [
    {
     "name": "stderr",
     "output_type": "stream",
     "text": [
      "/home/marcelo/.local/lib/python3.10/site-packages/yfinance/utils.py:775: FutureWarning: The 'unit' keyword in TimedeltaIndex construction is deprecated and will be removed in a future version. Use pd.to_timedelta instead.\n",
      "  df.index += _pd.TimedeltaIndex(dst_error_hours, 'h')\n",
      "[*********************100%%**********************]  1 of 1 completed"
     ]
    },
    {
     "name": "stdout",
     "output_type": "stream",
     "text": [
      "(7282, 2)\n"
     ]
    },
    {
     "name": "stderr",
     "output_type": "stream",
     "text": [
      "\n"
     ]
    },
    {
     "data": {
      "text/html": [
       "<div>\n",
       "<style scoped>\n",
       "    .dataframe tbody tr th:only-of-type {\n",
       "        vertical-align: middle;\n",
       "    }\n",
       "\n",
       "    .dataframe tbody tr th {\n",
       "        vertical-align: top;\n",
       "    }\n",
       "\n",
       "    .dataframe thead th {\n",
       "        text-align: right;\n",
       "    }\n",
       "</style>\n",
       "<table border=\"1\" class=\"dataframe\">\n",
       "  <thead>\n",
       "    <tr style=\"text-align: right;\">\n",
       "      <th></th>\n",
       "      <th>annualized</th>\n",
       "      <th>daily</th>\n",
       "    </tr>\n",
       "    <tr>\n",
       "      <th>Date</th>\n",
       "      <th></th>\n",
       "      <th></th>\n",
       "    </tr>\n",
       "  </thead>\n",
       "  <tbody>\n",
       "    <tr>\n",
       "      <th>1995-01-03</th>\n",
       "      <td>5.52</td>\n",
       "      <td>0.000051</td>\n",
       "    </tr>\n",
       "    <tr>\n",
       "      <th>1995-01-04</th>\n",
       "      <td>5.69</td>\n",
       "      <td>0.000052</td>\n",
       "    </tr>\n",
       "    <tr>\n",
       "      <th>1995-01-05</th>\n",
       "      <td>5.71</td>\n",
       "      <td>0.000052</td>\n",
       "    </tr>\n",
       "    <tr>\n",
       "      <th>1995-01-06</th>\n",
       "      <td>5.74</td>\n",
       "      <td>0.000052</td>\n",
       "    </tr>\n",
       "    <tr>\n",
       "      <th>1995-01-09</th>\n",
       "      <td>5.75</td>\n",
       "      <td>0.000052</td>\n",
       "    </tr>\n",
       "  </tbody>\n",
       "</table>\n",
       "</div>"
      ],
      "text/plain": [
       "            annualized     daily\n",
       "Date                            \n",
       "1995-01-03        5.52  0.000051\n",
       "1995-01-04        5.69  0.000052\n",
       "1995-01-05        5.71  0.000052\n",
       "1995-01-06        5.74  0.000052\n",
       "1995-01-09        5.75  0.000052"
      ]
     },
     "execution_count": 2,
     "metadata": {},
     "output_type": "execute_result"
    }
   ],
   "source": [
    "# Coleta da taxa de retorno risk free\n",
    "\n",
    "def deannualize(annual_rate, periods=365):\n",
    "    return (1 + annual_rate) ** (1/periods) - 1\n",
    "\n",
    "annualized = yf.download(\"^IRX\", start=\"1995-01-01\", end=\"2023-12-31\")[\"Adj Close\"]\n",
    "daily = annualized.apply(deannualize)\n",
    "\n",
    "# create dataframe\n",
    "risk_free_rates = pd.DataFrame({\"annualized\": annualized, \"daily\": daily})\n",
    "risk_free_rates['daily'] = risk_free_rates['daily'] / 100\n",
    "print(np.shape(risk_free_rates))\n",
    "risk_free_rates.head()"
   ]
  },
  {
   "cell_type": "code",
   "execution_count": 3,
   "id": "73vctIdtJBU5",
   "metadata": {
    "colab": {
     "base_uri": "https://localhost:8080/"
    },
    "executionInfo": {
     "elapsed": 33640,
     "status": "ok",
     "timestamp": 1707889510977,
     "user": {
      "displayName": "Marcelo “Polecram”",
      "userId": "07802337785347454484"
     },
     "user_tz": 180
    },
    "id": "73vctIdtJBU5",
    "outputId": "491691a1-fdb6-463a-aa73-c070a1e0345f"
   },
   "outputs": [
    {
     "data": {
      "text/plain": [
       "'/mnt/c/Users/MarceloPolecram/Python/MEU_TCC/Clustering/result_clustering/'"
      ]
     },
     "execution_count": 3,
     "metadata": {},
     "output_type": "execute_result"
    }
   ],
   "source": [
    "# Especificando o caminho padrão do projeto:\n",
    "pasta = str(Path.cwd().parents[0]) + (\"/Clustering/result_clustering/\")\n",
    "pasta"
   ]
  },
  {
   "cell_type": "code",
   "execution_count": 4,
   "id": "8fafd515",
   "metadata": {
    "colab": {
     "base_uri": "https://localhost:8080/"
    },
    "executionInfo": {
     "elapsed": 1951,
     "status": "ok",
     "timestamp": 1707889530050,
     "user": {
      "displayName": "Marcelo “Polecram”",
      "userId": "07802337785347454484"
     },
     "user_tz": 180
    },
    "id": "8fafd515",
    "outputId": "aa742040-aa1c-4cd5-bbf1-0c190b5b7f21"
   },
   "outputs": [
    {
     "name": "stdout",
     "output_type": "stream",
     "text": [
      "      Operação  Semestre  Abertura  Fechamento  Dias  Retorno total Ticker 1  \\\n",
      "1108         1        54        95         127    32       0.144190    LOGG3   \n",
      "1109         1        54       115         127    12      -0.070092    ALPA4   \n",
      "1110         1        54        26          34     8       0.127489    DXCO3   \n",
      "1111         2        54       122         127     5       0.021072    DXCO3   \n",
      "1112         1        54         1          44    43       0.424655    SOMA3   \n",
      "\n",
      "     Ticker 2  Converged          Index  Retorno total - exp         Pair  \n",
      "1108    USIM3      False  LOGG3-USIM3-1             1.155103  LOGG3-USIM3  \n",
      "1109    PDGR3      False  ALPA4-PDGR3-1             0.932308  ALPA4-PDGR3  \n",
      "1110    POSI3       True  DXCO3-POSI3-1             1.135972  DXCO3-POSI3  \n",
      "1111    POSI3      False  DXCO3-POSI3-2             1.021295  DXCO3-POSI3  \n",
      "1112    JHSF3       True  SOMA3-JHSF3-1             1.529063  SOMA3-JHSF3  \n"
     ]
    }
   ],
   "source": [
    "operations = pd.read_csv(pasta + \"operations_CT.csv\")\n",
    "#operations['Pair'] = operations['Index'].str[:-2]\n",
    "operations['Pair'] = operations['Ticker 1'] + \"-\" + operations['Ticker 2']\n",
    "print(operations.tail())"
   ]
  },
  {
   "cell_type": "code",
   "execution_count": 16,
   "id": "91e9c94f",
   "metadata": {
    "colab": {
     "base_uri": "https://localhost:8080/"
    },
    "executionInfo": {
     "elapsed": 665,
     "status": "ok",
     "timestamp": 1707889530713,
     "user": {
      "displayName": "Marcelo “Polecram”",
      "userId": "07802337785347454484"
     },
     "user_tz": 180
    },
    "id": "91e9c94f",
    "outputId": "81d69a81-cdec-4e10-dca4-0fd2ccc3a715"
   },
   "outputs": [
    {
     "name": "stdout",
     "output_type": "stream",
     "text": [
      "Número de operações: 1113\n",
      "Número de pares: 702\n",
      "Positive Returns: 1025\n",
      "Negative: 78\n",
      "Average trade lenght: 17.97663971248877\n",
      "Convergência: 74.66307277628033 %\n",
      "Highest Return: 166.6977 %\n",
      "Lowest Return: -35.0555 %\n",
      "Average Return: 13.2807 %\n",
      "Retorno médio por par: 21.0562 %\n",
      "Retorno médio por par por semestre: 0.3828 %\n"
     ]
    }
   ],
   "source": [
    "operations_by_pair = operations.groupby(\"Pair\").sum(\"Retorno total\")\n",
    "\n",
    "#print(f\"Converged operations: {sum(operations['Converged'])} | Open operations: {np.shape(operations)[0] - sum(operations['Converged'])}\")\n",
    "print(f\"Número de operações: {np.shape(operations)[0]}\")\n",
    "print(f\"Número de pares: {np.shape(operations_by_pair)[0]}\")\n",
    "print(f\"Positive Returns: {sum(operations['Retorno total'] > 0)}\\nNegative: {sum(operations['Retorno total'] < 0)}\")\n",
    "print(f\"Average trade lenght: {operations['Dias'].mean()}\")\n",
    "print(f\"Convergência: {(operations['Converged'].sum()/np.shape(operations)[0])*100} %\")\n",
    "print(f\"Highest Return: {round(100*operations['Retorno total'].max(),4)} %\")\n",
    "print(f\"Lowest Return: {round(100*operations['Retorno total'].min(),4)} %\")\n",
    "print(f\"Average Return: {round(100*operations['Retorno total'].mean(),4)} %\")   \n",
    "print(f\"Retorno médio por par: {round(100*operations_by_pair['Retorno total'].mean(),4)} %\")\n",
    "print(f\"Retorno médio por par por semestre: {round(np.divide(100*operations_by_pair['Retorno total'].mean(),max(operations['Semestre'])+1),4)} %\")"
   ]
  },
  {
   "cell_type": "code",
   "execution_count": 6,
   "id": "af939e79",
   "metadata": {
    "colab": {
     "base_uri": "https://localhost:8080/",
     "height": 641
    },
    "executionInfo": {
     "elapsed": 26,
     "status": "ok",
     "timestamp": 1707889530713,
     "user": {
      "displayName": "Marcelo “Polecram”",
      "userId": "07802337785347454484"
     },
     "user_tz": 180
    },
    "id": "af939e79",
    "outputId": "ff3476b6-b058-4eeb-897c-b6da01dab5ce"
   },
   "outputs": [
    {
     "data": {
      "image/png": "[encoded data removed]",
      "text/plain": [
       "<Figure size 1500x700 with 1 Axes>"
      ]
     },
     "metadata": {},
     "output_type": "display_data"
    }
   ],
   "source": [
    "# Return Distribution\n",
    "fig = plt.figure(figsize=(15, 7))\n",
    "ax1 = fig.add_subplot(1, 1, 1)\n",
    "operations['Retorno total'].hist(bins=50, ax=ax1)\n",
    "ax1.set_xlabel('Retorno')\n",
    "ax1.set_ylabel('Amostra')\n",
    "ax1.set_title('Distribuição dos Retornos')\n",
    "plt.show()"
   ]
  },
  {
   "cell_type": "code",
   "execution_count": 7,
   "id": "59383b23",
   "metadata": {
    "colab": {
     "base_uri": "https://localhost:8080/"
    },
    "executionInfo": {
     "elapsed": 19,
     "status": "ok",
     "timestamp": 1707889530714,
     "user": {
      "displayName": "Marcelo “Polecram”",
      "userId": "07802337785347454484"
     },
     "user_tz": 180
    },
    "id": "59383b23",
    "outputId": "dc0c4255-8dc9-496a-ccf5-976430f10297"
   },
   "outputs": [
    {
     "name": "stdout",
     "output_type": "stream",
     "text": [
      "Número de pares: 702\n",
      "Retorno médio por par: 21.0562%\n",
      "Retorno médio por par por semestre: 0.3828%\n"
     ]
    }
   ],
   "source": []
  },
  {
   "cell_type": "code",
   "execution_count": 8,
   "id": "5c9f64c1",
   "metadata": {
    "colab": {
     "base_uri": "https://localhost:8080/"
    },
    "executionInfo": {
     "elapsed": 947,
     "status": "ok",
     "timestamp": 1707889531650,
     "user": {
      "displayName": "Marcelo “Polecram”",
      "userId": "07802337785347454484"
     },
     "user_tz": 180
    },
    "id": "5c9f64c1",
    "outputId": "5490b667-0a8e-41f0-d3df-3abeabe9965c"
   },
   "outputs": [
    {
     "name": "stdout",
     "output_type": "stream",
     "text": [
      "          0   1\n",
      "187   CIEL3   1\n",
      "136   CRFB3   1\n",
      "138   TCOC4   1\n",
      "109   RDCD3   1\n",
      "92   BIDI11   1\n",
      "..      ...  ..\n",
      "25    CGAS5  20\n",
      "168   VIVT3  22\n",
      "4     BBDC3  22\n",
      "3     BBAS3  22\n",
      "30    LIGT3  24\n",
      "\n",
      "[188 rows x 2 columns]\n"
     ]
    }
   ],
   "source": [
    "# Ações com maior participação\n",
    "stock_count = {}\n",
    "\n",
    "for pair in operations_by_pair.index:\n",
    "    stocks = pair.split(\"-\")\n",
    "    for stock in stocks:\n",
    "        if stock in stock_count:\n",
    "            stock_count[stock] += 1\n",
    "        else:\n",
    "            stock_count[stock] = 1\n",
    "stock_count_df = pd.DataFrame(stock_count.items())\n",
    "stock_count_df = stock_count_df.sort_values(1)\n",
    "stock_count_df.to_csv(pasta + \"stock_count_20_pairs.csv\")\n",
    "print(stock_count_df)"
   ]
  },
  {
   "cell_type": "code",
   "execution_count": 17,
   "id": "64429784-3d58-4bfa-8791-3f3db0216d5b",
   "metadata": {},
   "outputs": [
    {
     "name": "stdout",
     "output_type": "stream",
     "text": [
      "Top pares:\n",
      "Pair\n",
      "GGBR4-GOAU4    11\n",
      "ELET3-ELET6     8\n",
      "PETR4-PETR3     8\n",
      "VIVT3-CGAS5     7\n",
      "VALE3-VALE5     6\n",
      "Name: count, dtype: int64\n"
     ]
    }
   ],
   "source": [
    "print(\"Top pares:\")\n",
    "contagem_nomes = operations['Pair'].value_counts()\n",
    "print(contagem_nomes.head(5))\n"
   ]
  },
  {
   "cell_type": "code",
   "execution_count": 9,
   "id": "9f5d9d34",
   "metadata": {
    "colab": {
     "base_uri": "https://localhost:8080/",
     "height": 447
    },
    "executionInfo": {
     "elapsed": 1126,
     "status": "ok",
     "timestamp": 1707889532773,
     "user": {
      "displayName": "Marcelo “Polecram”",
      "userId": "07802337785347454484"
     },
     "user_tz": 180
    },
    "id": "9f5d9d34",
    "outputId": "3749a871-369d-4b3e-b191-8aea1f1d3d57"
   },
   "outputs": [
    {
     "ename": "FileNotFoundError",
     "evalue": "[Errno 2] No such file or directory: '/mnt/c/Users/MarceloPolecram/Python/MEU_TCC/Clustering/result_clustering/daily_returns.csv'",
     "output_type": "error",
     "traceback": [
      "\u001b[0;31m---------------------------------------------------------------------------\u001b[0m",
      "\u001b[0;31mFileNotFoundError\u001b[0m                         Traceback (most recent call last)",
      "Cell \u001b[0;32mIn[9], line 5\u001b[0m\n\u001b[1;32m      2\u001b[0m     rate \u001b[38;5;241m=\u001b[39m (\u001b[38;5;241m100\u001b[39m \u001b[38;5;241m*\u001b[39m (final_amount\u001b[38;5;241m/\u001b[39mprincipal)\u001b[38;5;241m*\u001b[39m\u001b[38;5;241m*\u001b[39m(\u001b[38;5;241m1\u001b[39m\u001b[38;5;241m/\u001b[39mtime)) \u001b[38;5;241m-\u001b[39m \u001b[38;5;241m100\u001b[39m\n\u001b[1;32m      3\u001b[0m     \u001b[38;5;28mprint\u001b[39m(\u001b[38;5;124m\"\u001b[39m\u001b[38;5;124mCompound interest rate is\u001b[39m\u001b[38;5;124m\"\u001b[39m, rate, \u001b[38;5;124m\"\u001b[39m\u001b[38;5;124m%\u001b[39m\u001b[38;5;124m\"\u001b[39m)\n\u001b[0;32m----> 5\u001b[0m daily_returns \u001b[38;5;241m=\u001b[39m \u001b[43mpd\u001b[49m\u001b[38;5;241;43m.\u001b[39;49m\u001b[43mread_csv\u001b[49m\u001b[43m(\u001b[49m\u001b[43mpasta\u001b[49m\u001b[43m \u001b[49m\u001b[38;5;241;43m+\u001b[39;49m\u001b[43m \u001b[49m\u001b[38;5;124;43m\"\u001b[39;49m\u001b[38;5;124;43mdaily_returns.csv\u001b[39;49m\u001b[38;5;124;43m\"\u001b[39;49m\u001b[43m)\u001b[49m\n\u001b[1;32m      6\u001b[0m daily_returns \u001b[38;5;241m=\u001b[39m daily_returns\u001b[38;5;241m.\u001b[39miloc[\u001b[38;5;241m252\u001b[39m:,:]\n\u001b[1;32m      7\u001b[0m daily_returns \u001b[38;5;241m=\u001b[39m daily_returns \u001b[38;5;241m/\u001b[39m \u001b[38;5;241m35\u001b[39m\n",
      "File \u001b[0;32m~/.local/lib/python3.10/site-packages/pandas/io/parsers/readers.py:1024\u001b[0m, in \u001b[0;36mread_csv\u001b[0;34m(filepath_or_buffer, sep, delimiter, header, names, index_col, usecols, dtype, engine, converters, true_values, false_values, skipinitialspace, skiprows, skipfooter, nrows, na_values, keep_default_na, na_filter, verbose, skip_blank_lines, parse_dates, infer_datetime_format, keep_date_col, date_parser, date_format, dayfirst, cache_dates, iterator, chunksize, compression, thousands, decimal, lineterminator, quotechar, quoting, doublequote, escapechar, comment, encoding, encoding_errors, dialect, on_bad_lines, delim_whitespace, low_memory, memory_map, float_precision, storage_options, dtype_backend)\u001b[0m\n\u001b[1;32m   1011\u001b[0m kwds_defaults \u001b[38;5;241m=\u001b[39m _refine_defaults_read(\n\u001b[1;32m   1012\u001b[0m     dialect,\n\u001b[1;32m   1013\u001b[0m     delimiter,\n\u001b[0;32m   (...)\u001b[0m\n\u001b[1;32m   1020\u001b[0m     dtype_backend\u001b[38;5;241m=\u001b[39mdtype_backend,\n\u001b[1;32m   1021\u001b[0m )\n\u001b[1;32m   1022\u001b[0m kwds\u001b[38;5;241m.\u001b[39mupdate(kwds_defaults)\n\u001b[0;32m-> 1024\u001b[0m \u001b[38;5;28;01mreturn\u001b[39;00m \u001b[43m_read\u001b[49m\u001b[43m(\u001b[49m\u001b[43mfilepath_or_buffer\u001b[49m\u001b[43m,\u001b[49m\u001b[43m \u001b[49m\u001b[43mkwds\u001b[49m\u001b[43m)\u001b[49m\n",
      "File \u001b[0;32m~/.local/lib/python3.10/site-packages/pandas/io/parsers/readers.py:618\u001b[0m, in \u001b[0;36m_read\u001b[0;34m(filepath_or_buffer, kwds)\u001b[0m\n\u001b[1;32m    615\u001b[0m _validate_names(kwds\u001b[38;5;241m.\u001b[39mget(\u001b[38;5;124m\"\u001b[39m\u001b[38;5;124mnames\u001b[39m\u001b[38;5;124m\"\u001b[39m, \u001b[38;5;28;01mNone\u001b[39;00m))\n\u001b[1;32m    617\u001b[0m \u001b[38;5;66;03m# Create the parser.\u001b[39;00m\n\u001b[0;32m--> 618\u001b[0m parser \u001b[38;5;241m=\u001b[39m \u001b[43mTextFileReader\u001b[49m\u001b[43m(\u001b[49m\u001b[43mfilepath_or_buffer\u001b[49m\u001b[43m,\u001b[49m\u001b[43m \u001b[49m\u001b[38;5;241;43m*\u001b[39;49m\u001b[38;5;241;43m*\u001b[39;49m\u001b[43mkwds\u001b[49m\u001b[43m)\u001b[49m\n\u001b[1;32m    620\u001b[0m \u001b[38;5;28;01mif\u001b[39;00m chunksize \u001b[38;5;129;01mor\u001b[39;00m iterator:\n\u001b[1;32m    621\u001b[0m     \u001b[38;5;28;01mreturn\u001b[39;00m parser\n",
      "File \u001b[0;32m~/.local/lib/python3.10/site-packages/pandas/io/parsers/readers.py:1618\u001b[0m, in \u001b[0;36mTextFileReader.__init__\u001b[0;34m(self, f, engine, **kwds)\u001b[0m\n\u001b[1;32m   1615\u001b[0m     \u001b[38;5;28mself\u001b[39m\u001b[38;5;241m.\u001b[39moptions[\u001b[38;5;124m\"\u001b[39m\u001b[38;5;124mhas_index_names\u001b[39m\u001b[38;5;124m\"\u001b[39m] \u001b[38;5;241m=\u001b[39m kwds[\u001b[38;5;124m\"\u001b[39m\u001b[38;5;124mhas_index_names\u001b[39m\u001b[38;5;124m\"\u001b[39m]\n\u001b[1;32m   1617\u001b[0m \u001b[38;5;28mself\u001b[39m\u001b[38;5;241m.\u001b[39mhandles: IOHandles \u001b[38;5;241m|\u001b[39m \u001b[38;5;28;01mNone\u001b[39;00m \u001b[38;5;241m=\u001b[39m \u001b[38;5;28;01mNone\u001b[39;00m\n\u001b[0;32m-> 1618\u001b[0m \u001b[38;5;28mself\u001b[39m\u001b[38;5;241m.\u001b[39m_engine \u001b[38;5;241m=\u001b[39m \u001b[38;5;28;43mself\u001b[39;49m\u001b[38;5;241;43m.\u001b[39;49m\u001b[43m_make_engine\u001b[49m\u001b[43m(\u001b[49m\u001b[43mf\u001b[49m\u001b[43m,\u001b[49m\u001b[43m \u001b[49m\u001b[38;5;28;43mself\u001b[39;49m\u001b[38;5;241;43m.\u001b[39;49m\u001b[43mengine\u001b[49m\u001b[43m)\u001b[49m\n",
      "File \u001b[0;32m~/.local/lib/python3.10/site-packages/pandas/io/parsers/readers.py:1878\u001b[0m, in \u001b[0;36mTextFileReader._make_engine\u001b[0;34m(self, f, engine)\u001b[0m\n\u001b[1;32m   1876\u001b[0m     \u001b[38;5;28;01mif\u001b[39;00m \u001b[38;5;124m\"\u001b[39m\u001b[38;5;124mb\u001b[39m\u001b[38;5;124m\"\u001b[39m \u001b[38;5;129;01mnot\u001b[39;00m \u001b[38;5;129;01min\u001b[39;00m mode:\n\u001b[1;32m   1877\u001b[0m         mode \u001b[38;5;241m+\u001b[39m\u001b[38;5;241m=\u001b[39m \u001b[38;5;124m\"\u001b[39m\u001b[38;5;124mb\u001b[39m\u001b[38;5;124m\"\u001b[39m\n\u001b[0;32m-> 1878\u001b[0m \u001b[38;5;28mself\u001b[39m\u001b[38;5;241m.\u001b[39mhandles \u001b[38;5;241m=\u001b[39m \u001b[43mget_handle\u001b[49m\u001b[43m(\u001b[49m\n\u001b[1;32m   1879\u001b[0m \u001b[43m    \u001b[49m\u001b[43mf\u001b[49m\u001b[43m,\u001b[49m\n\u001b[1;32m   1880\u001b[0m \u001b[43m    \u001b[49m\u001b[43mmode\u001b[49m\u001b[43m,\u001b[49m\n\u001b[1;32m   1881\u001b[0m \u001b[43m    \u001b[49m\u001b[43mencoding\u001b[49m\u001b[38;5;241;43m=\u001b[39;49m\u001b[38;5;28;43mself\u001b[39;49m\u001b[38;5;241;43m.\u001b[39;49m\u001b[43moptions\u001b[49m\u001b[38;5;241;43m.\u001b[39;49m\u001b[43mget\u001b[49m\u001b[43m(\u001b[49m\u001b[38;5;124;43m\"\u001b[39;49m\u001b[38;5;124;43mencoding\u001b[39;49m\u001b[38;5;124;43m\"\u001b[39;49m\u001b[43m,\u001b[49m\u001b[43m \u001b[49m\u001b[38;5;28;43;01mNone\u001b[39;49;00m\u001b[43m)\u001b[49m\u001b[43m,\u001b[49m\n\u001b[1;32m   1882\u001b[0m \u001b[43m    \u001b[49m\u001b[43mcompression\u001b[49m\u001b[38;5;241;43m=\u001b[39;49m\u001b[38;5;28;43mself\u001b[39;49m\u001b[38;5;241;43m.\u001b[39;49m\u001b[43moptions\u001b[49m\u001b[38;5;241;43m.\u001b[39;49m\u001b[43mget\u001b[49m\u001b[43m(\u001b[49m\u001b[38;5;124;43m\"\u001b[39;49m\u001b[38;5;124;43mcompression\u001b[39;49m\u001b[38;5;124;43m\"\u001b[39;49m\u001b[43m,\u001b[49m\u001b[43m \u001b[49m\u001b[38;5;28;43;01mNone\u001b[39;49;00m\u001b[43m)\u001b[49m\u001b[43m,\u001b[49m\n\u001b[1;32m   1883\u001b[0m \u001b[43m    \u001b[49m\u001b[43mmemory_map\u001b[49m\u001b[38;5;241;43m=\u001b[39;49m\u001b[38;5;28;43mself\u001b[39;49m\u001b[38;5;241;43m.\u001b[39;49m\u001b[43moptions\u001b[49m\u001b[38;5;241;43m.\u001b[39;49m\u001b[43mget\u001b[49m\u001b[43m(\u001b[49m\u001b[38;5;124;43m\"\u001b[39;49m\u001b[38;5;124;43mmemory_map\u001b[39;49m\u001b[38;5;124;43m\"\u001b[39;49m\u001b[43m,\u001b[49m\u001b[43m \u001b[49m\u001b[38;5;28;43;01mFalse\u001b[39;49;00m\u001b[43m)\u001b[49m\u001b[43m,\u001b[49m\n\u001b[1;32m   1884\u001b[0m \u001b[43m    \u001b[49m\u001b[43mis_text\u001b[49m\u001b[38;5;241;43m=\u001b[39;49m\u001b[43mis_text\u001b[49m\u001b[43m,\u001b[49m\n\u001b[1;32m   1885\u001b[0m \u001b[43m    \u001b[49m\u001b[43merrors\u001b[49m\u001b[38;5;241;43m=\u001b[39;49m\u001b[38;5;28;43mself\u001b[39;49m\u001b[38;5;241;43m.\u001b[39;49m\u001b[43moptions\u001b[49m\u001b[38;5;241;43m.\u001b[39;49m\u001b[43mget\u001b[49m\u001b[43m(\u001b[49m\u001b[38;5;124;43m\"\u001b[39;49m\u001b[38;5;124;43mencoding_errors\u001b[39;49m\u001b[38;5;124;43m\"\u001b[39;49m\u001b[43m,\u001b[49m\u001b[43m \u001b[49m\u001b[38;5;124;43m\"\u001b[39;49m\u001b[38;5;124;43mstrict\u001b[39;49m\u001b[38;5;124;43m\"\u001b[39;49m\u001b[43m)\u001b[49m\u001b[43m,\u001b[49m\n\u001b[1;32m   1886\u001b[0m \u001b[43m    \u001b[49m\u001b[43mstorage_options\u001b[49m\u001b[38;5;241;43m=\u001b[39;49m\u001b[38;5;28;43mself\u001b[39;49m\u001b[38;5;241;43m.\u001b[39;49m\u001b[43moptions\u001b[49m\u001b[38;5;241;43m.\u001b[39;49m\u001b[43mget\u001b[49m\u001b[43m(\u001b[49m\u001b[38;5;124;43m\"\u001b[39;49m\u001b[38;5;124;43mstorage_options\u001b[39;49m\u001b[38;5;124;43m\"\u001b[39;49m\u001b[43m,\u001b[49m\u001b[43m \u001b[49m\u001b[38;5;28;43;01mNone\u001b[39;49;00m\u001b[43m)\u001b[49m\u001b[43m,\u001b[49m\n\u001b[1;32m   1887\u001b[0m \u001b[43m\u001b[49m\u001b[43m)\u001b[49m\n\u001b[1;32m   1888\u001b[0m \u001b[38;5;28;01massert\u001b[39;00m \u001b[38;5;28mself\u001b[39m\u001b[38;5;241m.\u001b[39mhandles \u001b[38;5;129;01mis\u001b[39;00m \u001b[38;5;129;01mnot\u001b[39;00m \u001b[38;5;28;01mNone\u001b[39;00m\n\u001b[1;32m   1889\u001b[0m f \u001b[38;5;241m=\u001b[39m \u001b[38;5;28mself\u001b[39m\u001b[38;5;241m.\u001b[39mhandles\u001b[38;5;241m.\u001b[39mhandle\n",
      "File \u001b[0;32m~/.local/lib/python3.10/site-packages/pandas/io/common.py:873\u001b[0m, in \u001b[0;36mget_handle\u001b[0;34m(path_or_buf, mode, encoding, compression, memory_map, is_text, errors, storage_options)\u001b[0m\n\u001b[1;32m    868\u001b[0m \u001b[38;5;28;01melif\u001b[39;00m \u001b[38;5;28misinstance\u001b[39m(handle, \u001b[38;5;28mstr\u001b[39m):\n\u001b[1;32m    869\u001b[0m     \u001b[38;5;66;03m# Check whether the filename is to be opened in binary mode.\u001b[39;00m\n\u001b[1;32m    870\u001b[0m     \u001b[38;5;66;03m# Binary mode does not support 'encoding' and 'newline'.\u001b[39;00m\n\u001b[1;32m    871\u001b[0m     \u001b[38;5;28;01mif\u001b[39;00m ioargs\u001b[38;5;241m.\u001b[39mencoding \u001b[38;5;129;01mand\u001b[39;00m \u001b[38;5;124m\"\u001b[39m\u001b[38;5;124mb\u001b[39m\u001b[38;5;124m\"\u001b[39m \u001b[38;5;129;01mnot\u001b[39;00m \u001b[38;5;129;01min\u001b[39;00m ioargs\u001b[38;5;241m.\u001b[39mmode:\n\u001b[1;32m    872\u001b[0m         \u001b[38;5;66;03m# Encoding\u001b[39;00m\n\u001b[0;32m--> 873\u001b[0m         handle \u001b[38;5;241m=\u001b[39m \u001b[38;5;28;43mopen\u001b[39;49m\u001b[43m(\u001b[49m\n\u001b[1;32m    874\u001b[0m \u001b[43m            \u001b[49m\u001b[43mhandle\u001b[49m\u001b[43m,\u001b[49m\n\u001b[1;32m    875\u001b[0m \u001b[43m            \u001b[49m\u001b[43mioargs\u001b[49m\u001b[38;5;241;43m.\u001b[39;49m\u001b[43mmode\u001b[49m\u001b[43m,\u001b[49m\n\u001b[1;32m    876\u001b[0m \u001b[43m            \u001b[49m\u001b[43mencoding\u001b[49m\u001b[38;5;241;43m=\u001b[39;49m\u001b[43mioargs\u001b[49m\u001b[38;5;241;43m.\u001b[39;49m\u001b[43mencoding\u001b[49m\u001b[43m,\u001b[49m\n\u001b[1;32m    877\u001b[0m \u001b[43m            \u001b[49m\u001b[43merrors\u001b[49m\u001b[38;5;241;43m=\u001b[39;49m\u001b[43merrors\u001b[49m\u001b[43m,\u001b[49m\n\u001b[1;32m    878\u001b[0m \u001b[43m            \u001b[49m\u001b[43mnewline\u001b[49m\u001b[38;5;241;43m=\u001b[39;49m\u001b[38;5;124;43m\"\u001b[39;49m\u001b[38;5;124;43m\"\u001b[39;49m\u001b[43m,\u001b[49m\n\u001b[1;32m    879\u001b[0m \u001b[43m        \u001b[49m\u001b[43m)\u001b[49m\n\u001b[1;32m    880\u001b[0m     \u001b[38;5;28;01melse\u001b[39;00m:\n\u001b[1;32m    881\u001b[0m         \u001b[38;5;66;03m# Binary mode\u001b[39;00m\n\u001b[1;32m    882\u001b[0m         handle \u001b[38;5;241m=\u001b[39m \u001b[38;5;28mopen\u001b[39m(handle, ioargs\u001b[38;5;241m.\u001b[39mmode)\n",
      "\u001b[0;31mFileNotFoundError\u001b[0m: [Errno 2] No such file or directory: '/mnt/c/Users/MarceloPolecram/Python/MEU_TCC/Clustering/result_clustering/daily_returns.csv'"
     ]
    }
   ],
   "source": [
    "def rate_interest(principal, final_amount, time):\n",
    "    rate = (100 * (final_amount/principal)**(1/time)) - 100\n",
    "    print(\"Compound interest rate is\", rate, \"%\")\n",
    "\n",
    "daily_returns = pd.read_csv(pasta + \"daily_returns.csv\")\n",
    "daily_returns = daily_returns.iloc[252:,:]\n",
    "daily_returns = daily_returns / 35\n",
    "cumulative = np.cumprod(1+daily_returns)\n",
    "cumulative.plot()\n",
    "rate_interest(1,cumulative.values[-1],25)"
   ]
  },
  {
   "cell_type": "code",
   "execution_count": null,
   "id": "ccba54aa",
   "metadata": {
    "colab": {
     "base_uri": "https://localhost:8080/"
    },
    "executionInfo": {
     "elapsed": 21,
     "status": "ok",
     "timestamp": 1707889532774,
     "user": {
      "displayName": "Marcelo “Polecram”",
      "userId": "07802337785347454484"
     },
     "user_tz": 180
    },
    "id": "ccba54aa",
    "outputId": "e7298c0f-9400-4127-c73f-d50a4720be80"
   },
   "outputs": [],
   "source": [
    "# Cálculo do Sharpe para o período do estudo\n",
    "mean_daily_return = daily_returns.values.mean()\n",
    "print(f\"Mean daily return: {mean_daily_return}\")\n",
    "returns_std_dev = daily_returns.values.std()\n",
    "\n",
    "risk_free_mean = risk_free_rates['daily'].mean()\n",
    "print(f\"Mean risk free return: {risk_free_mean}\")\n",
    "\n",
    "print(f\"Fully Invested Sharpe Ratio: {(mean_daily_return - risk_free_mean) / returns_std_dev}\")"
   ]
  },
  {
   "cell_type": "code",
   "execution_count": null,
   "id": "5e7da12b",
   "metadata": {
    "executionInfo": {
     "elapsed": 19,
     "status": "ok",
     "timestamp": 1707889532774,
     "user": {
      "displayName": "Marcelo “Polecram”",
      "userId": "07802337785347454484"
     },
     "user_tz": 180
    },
    "id": "5e7da12b"
   },
   "outputs": [],
   "source": []
  },
  {
   "cell_type": "markdown",
   "id": "Qp94ICKqcgLp",
   "metadata": {
    "id": "Qp94ICKqcgLp"
   },
   "source": [
    "Rascunho:"
   ]
  },
  {
   "cell_type": "code",
   "execution_count": null,
   "id": "msD_0ErfJbZi",
   "metadata": {
    "colab": {
     "base_uri": "https://localhost:8080/"
    },
    "executionInfo": {
     "elapsed": 2,
     "status": "ok",
     "timestamp": 1707889535062,
     "user": {
      "displayName": "Marcelo “Polecram”",
      "userId": "07802337785347454484"
     },
     "user_tz": 180
    },
    "id": "msD_0ErfJbZi",
    "outputId": "79a05de8-9360-44b8-9c73-2c39892eb74b"
   },
   "outputs": [],
   "source": [
    "operations['Retorno total'].sum()"
   ]
  },
  {
   "cell_type": "code",
   "execution_count": null,
   "id": "ykQp6uWxcenF",
   "metadata": {
    "colab": {
     "base_uri": "https://localhost:8080/"
    },
    "executionInfo": {
     "elapsed": 22,
     "status": "ok",
     "timestamp": 1707889532778,
     "user": {
      "displayName": "Marcelo “Polecram”",
      "userId": "07802337785347454484"
     },
     "user_tz": 180
    },
    "id": "ykQp6uWxcenF",
    "outputId": "1eb0344f-242f-47f5-efd4-683623641f26"
   },
   "outputs": [],
   "source": [
    "np.sum(daily_returns)"
   ]
  },
  {
   "cell_type": "code",
   "execution_count": null,
   "id": "--n2hHSIchnb",
   "metadata": {
    "colab": {
     "base_uri": "https://localhost:8080/",
     "height": 455
    },
    "executionInfo": {
     "elapsed": 21,
     "status": "ok",
     "timestamp": 1707889532779,
     "user": {
      "displayName": "Marcelo “Polecram”",
      "userId": "07802337785347454484"
     },
     "user_tz": 180
    },
    "id": "--n2hHSIchnb",
    "outputId": "6c310b20-fe30-4b26-f849-24cc547be63c"
   },
   "outputs": [],
   "source": [
    "operations_by_pair"
   ]
  },
  {
   "cell_type": "code",
   "execution_count": null,
   "id": "n_maqbKddL-e",
   "metadata": {
    "colab": {
     "base_uri": "https://localhost:8080/"
    },
    "executionInfo": {
     "elapsed": 19,
     "status": "ok",
     "timestamp": 1707889532779,
     "user": {
      "displayName": "Marcelo “Polecram”",
      "userId": "07802337785347454484"
     },
     "user_tz": 180
    },
    "id": "n_maqbKddL-e",
    "outputId": "fa7deb0f-3bcd-4dcb-949c-7505d56f78a4"
   },
   "outputs": [],
   "source": [
    "operations_by_pair['Retorno total'].mean()"
   ]
  },
  {
   "cell_type": "code",
   "execution_count": null,
   "id": "dKYXBLx6iqo8",
   "metadata": {
    "colab": {
     "base_uri": "https://localhost:8080/",
     "height": 424
    },
    "executionInfo": {
     "elapsed": 18,
     "status": "ok",
     "timestamp": 1707889532779,
     "user": {
      "displayName": "Marcelo “Polecram”",
      "userId": "07802337785347454484"
     },
     "user_tz": 180
    },
    "id": "dKYXBLx6iqo8",
    "outputId": "d0470ce0-bf75-44cd-cb0f-89d2fc828770"
   },
   "outputs": [],
   "source": [
    "stock_count_df"
   ]
  },
  {
   "cell_type": "code",
   "execution_count": null,
   "id": "2tABtdg8ktWS",
   "metadata": {
    "colab": {
     "base_uri": "https://localhost:8080/"
    },
    "executionInfo": {
     "elapsed": 18,
     "status": "ok",
     "timestamp": 1707889532780,
     "user": {
      "displayName": "Marcelo “Polecram”",
      "userId": "07802337785347454484"
     },
     "user_tz": 180
    },
    "id": "2tABtdg8ktWS",
    "outputId": "e8daf467-3585-4367-b587-726acf125a2f"
   },
   "outputs": [],
   "source": [
    "max(operations['Semestre'])+1"
   ]
  },
  {
   "cell_type": "code",
   "execution_count": null,
   "id": "-AbaVB1_OmiQ",
   "metadata": {
    "executionInfo": {
     "elapsed": 16,
     "status": "ok",
     "timestamp": 1707889532780,
     "user": {
      "displayName": "Marcelo “Polecram”",
      "userId": "07802337785347454484"
     },
     "user_tz": 180
    },
    "id": "-AbaVB1_OmiQ"
   },
   "outputs": [],
   "source": []
  }
 ],
 "metadata": {
  "colab": {
   "provenance": []
  },
  "kernelspec": {
   "display_name": "Python 3 (ipykernel)",
   "language": "python",
   "name": "python3"
  },
  "language_info": {
   "codemirror_mode": {
    "name": "ipython",
    "version": 3
   },
   "file_extension": ".py",
   "mimetype": "text/x-python",
   "name": "python",
   "nbconvert_exporter": "python",
   "pygments_lexer": "ipython3",
   "version": "3.10.12"
  }
 },
 "nbformat": 4,
 "nbformat_minor": 5
}
