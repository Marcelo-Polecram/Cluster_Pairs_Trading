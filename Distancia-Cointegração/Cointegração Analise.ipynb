{
 "cells": [
  {
   "cell_type": "code",
   "execution_count": 1,
   "id": "3682df96",
   "metadata": {
    "colab": {
     "base_uri": "https://localhost:8080/"
    },
    "executionInfo": {
     "elapsed": 1860,
     "status": "ok",
     "timestamp": 1708124913158,
     "user": {
      "displayName": "Marcelo “Polecram”",
      "userId": "07802337785347454484"
     },
     "user_tz": 180
    },
    "id": "3682df96",
    "outputId": "83e1583a-2c2d-4485-9795-a211377b8a10"
   },
   "outputs": [
    {
     "name": "stderr",
     "output_type": "stream",
     "text": [
      "/tmp/ipykernel_8063/376926263.py:1: DeprecationWarning: \n",
      "Pyarrow will become a required dependency of pandas in the next major release of pandas (pandas 3.0),\n",
      "(to allow more performant data types, such as the Arrow string type, and better interoperability with other libraries)\n",
      "but was not found to be installed on your system.\n",
      "If this would cause problems for you,\n",
      "please provide us feedback at https://github.com/pandas-dev/pandas/issues/54466\n",
      "        \n",
      "  import pandas as pd\n"
     ]
    }
   ],
   "source": [
    "import pandas as pd\n",
    "import numpy as np\n",
    "from matplotlib import pyplot as plt\n",
    "import yfinance as yf\n",
    "import os\n",
    "from pathlib import Path\n",
    "import sys\n"
   ]
  },
  {
   "cell_type": "code",
   "execution_count": 2,
   "id": "b357b820",
   "metadata": {
    "colab": {
     "base_uri": "https://localhost:8080/",
     "height": 272
    },
    "executionInfo": {
     "elapsed": 18277,
     "status": "ok",
     "timestamp": 1708124954528,
     "user": {
      "displayName": "Marcelo “Polecram”",
      "userId": "07802337785347454484"
     },
     "user_tz": 180
    },
    "id": "b357b820",
    "outputId": "3751f535-2530-4a2d-ebeb-e12bc4234879"
   },
   "outputs": [
    {
     "name": "stderr",
     "output_type": "stream",
     "text": [
      "/home/marcelo/.local/lib/python3.10/site-packages/yfinance/utils.py:775: FutureWarning: The 'unit' keyword in TimedeltaIndex construction is deprecated and will be removed in a future version. Use pd.to_timedelta instead.\n",
      "  df.index += _pd.TimedeltaIndex(dst_error_hours, 'h')\n",
      "[*********************100%%**********************]  1 of 1 completed"
     ]
    },
    {
     "name": "stdout",
     "output_type": "stream",
     "text": [
      "(7282, 2)\n"
     ]
    },
    {
     "name": "stderr",
     "output_type": "stream",
     "text": [
      "\n"
     ]
    },
    {
     "data": {
      "text/html": [
       "<div>\n",
       "<style scoped>\n",
       "    .dataframe tbody tr th:only-of-type {\n",
       "        vertical-align: middle;\n",
       "    }\n",
       "\n",
       "    .dataframe tbody tr th {\n",
       "        vertical-align: top;\n",
       "    }\n",
       "\n",
       "    .dataframe thead th {\n",
       "        text-align: right;\n",
       "    }\n",
       "</style>\n",
       "<table border=\"1\" class=\"dataframe\">\n",
       "  <thead>\n",
       "    <tr style=\"text-align: right;\">\n",
       "      <th></th>\n",
       "      <th>annualized</th>\n",
       "      <th>daily</th>\n",
       "    </tr>\n",
       "    <tr>\n",
       "      <th>Date</th>\n",
       "      <th></th>\n",
       "      <th></th>\n",
       "    </tr>\n",
       "  </thead>\n",
       "  <tbody>\n",
       "    <tr>\n",
       "      <th>1995-01-03</th>\n",
       "      <td>5.52</td>\n",
       "      <td>0.000051</td>\n",
       "    </tr>\n",
       "    <tr>\n",
       "      <th>1995-01-04</th>\n",
       "      <td>5.69</td>\n",
       "      <td>0.000052</td>\n",
       "    </tr>\n",
       "    <tr>\n",
       "      <th>1995-01-05</th>\n",
       "      <td>5.71</td>\n",
       "      <td>0.000052</td>\n",
       "    </tr>\n",
       "    <tr>\n",
       "      <th>1995-01-06</th>\n",
       "      <td>5.74</td>\n",
       "      <td>0.000052</td>\n",
       "    </tr>\n",
       "    <tr>\n",
       "      <th>1995-01-09</th>\n",
       "      <td>5.75</td>\n",
       "      <td>0.000052</td>\n",
       "    </tr>\n",
       "  </tbody>\n",
       "</table>\n",
       "</div>"
      ],
      "text/plain": [
       "            annualized     daily\n",
       "Date                            \n",
       "1995-01-03        5.52  0.000051\n",
       "1995-01-04        5.69  0.000052\n",
       "1995-01-05        5.71  0.000052\n",
       "1995-01-06        5.74  0.000052\n",
       "1995-01-09        5.75  0.000052"
      ]
     },
     "execution_count": 2,
     "metadata": {},
     "output_type": "execute_result"
    }
   ],
   "source": [
    "# Coleta da taxa de retorno risk free\n",
    "\n",
    "def deannualize(annual_rate, periods=365):\n",
    "    return (1 + annual_rate) ** (1/periods) - 1\n",
    "\n",
    "annualized = yf.download(\"^IRX\", start=\"1995-01-01\", end=\"2023-12-31\")[\"Adj Close\"]\n",
    "daily = annualized.apply(deannualize)\n",
    "\n",
    "# create dataframe\n",
    "risk_free_rates = pd.DataFrame({\"annualized\": annualized, \"daily\": daily})\n",
    "risk_free_rates['daily'] = risk_free_rates['daily'] / 100\n",
    "print(np.shape(risk_free_rates))\n",
    "risk_free_rates.head()"
   ]
  },
  {
   "cell_type": "code",
   "execution_count": 3,
   "id": "2obyJvIC5GBs",
   "metadata": {
    "colab": {
     "base_uri": "https://localhost:8080/",
     "height": 53
    },
    "executionInfo": {
     "elapsed": 23105,
     "status": "ok",
     "timestamp": 1708124936260,
     "user": {
      "displayName": "Marcelo “Polecram”",
      "userId": "07802337785347454484"
     },
     "user_tz": 180
    },
    "id": "2obyJvIC5GBs",
    "outputId": "72fe4a13-197f-4ca2-859b-e8f18d20f6d7"
   },
   "outputs": [
    {
     "data": {
      "text/plain": [
       "'\\nfrom google.colab import drive\\n\\ndrive.mount(\\'/content/drive\\')\\npasta = str(\"/content/drive/MyDrive/Python/TCC-Cloud/Distancia-Cointegração/result_cointegracao/\")\\npasta\\n'"
      ]
     },
     "execution_count": 3,
     "metadata": {},
     "output_type": "execute_result"
    }
   ],
   "source": [
    "# Usando Google Colab:\n",
    "'''\n",
    "from google.colab import drive\n",
    "\n",
    "drive.mount('/content/drive')\n",
    "pasta = str(\"/content/drive/MyDrive/Python/TCC-Cloud/Distancia-Cointegração/result_cointegracao/\")\n",
    "pasta\n",
    "'''"
   ]
  },
  {
   "cell_type": "code",
   "execution_count": 4,
   "id": "ab1a3b01-b4b6-425d-8a44-5a138adc72eb",
   "metadata": {},
   "outputs": [
    {
     "data": {
      "text/plain": [
       "'/mnt/c/Users/MarceloPolecram/Python/MEU_TCC/Distancia-Cointegração/result_cointegracao/'"
      ]
     },
     "execution_count": 4,
     "metadata": {},
     "output_type": "execute_result"
    }
   ],
   "source": [
    "# No computador:\n",
    "pasta = str(Path.cwd().parents[0]) + (\"/Distancia-Cointegração/result_cointegracao/\")\n",
    "pasta"
   ]
  },
  {
   "cell_type": "code",
   "execution_count": 5,
   "id": "8fafd515",
   "metadata": {
    "colab": {
     "base_uri": "https://localhost:8080/"
    },
    "executionInfo": {
     "elapsed": 1884,
     "status": "ok",
     "timestamp": 1708124956404,
     "user": {
      "displayName": "Marcelo “Polecram”",
      "userId": "07802337785347454484"
     },
     "user_tz": 180
    },
    "id": "8fafd515",
    "outputId": "f4f045a1-8ae4-4a1d-b770-19ce9a983b0f"
   },
   "outputs": [
    {
     "name": "stdout",
     "output_type": "stream",
     "text": [
      "Operações com 100 pares:\n",
      "      Operação  Semestre  Abertura  Fechamento  Dias  Retorno total Ticker 1  \\\n",
      "5835         2        54        42          91    49       0.120807    ABEV3   \n",
      "5836         3        54       118         127     9       0.009739    ABEV3   \n",
      "5837         1        54        42          92    50       0.179402    BBDC3   \n",
      "5838         2        54       119         127     8      -0.037799    BBDC3   \n",
      "5839         1        54         1          51    50       0.098997    RDOR3   \n",
      "\n",
      "     Ticker 2  Converged          Index  Retorno total - exp         Pair  \n",
      "5835    TELB3       True  ABEV3-TELB3-2             1.128407  ABEV3-TELB3  \n",
      "5836    TELB3      False  ABEV3-TELB3-3             1.009786  ABEV3-TELB3  \n",
      "5837    TELB3       True  BBDC3-TELB3-1             1.196502  BBDC3-TELB3  \n",
      "5838    TELB3      False  BBDC3-TELB3-2             0.962906  BBDC3-TELB3  \n",
      "5839    CSAN3       True  RDOR3-CSAN3-1             1.104062  RDOR3-CSAN3  \n",
      "\n",
      "Operações com 20 pares:\n",
      "      Operação  Semestre  Abertura  Fechamento  Dias  Retorno total Ticker 1  \\\n",
      "1245         2        54        54          77    23       0.220416    BPAN4   \n",
      "1246         1        54         1          12    11       0.434382    MRVE3   \n",
      "1247         1        54        41          73    32       0.151129   IGTI11   \n",
      "1248         1        54        43          47     4       0.106049    ENBR3   \n",
      "1249         1        54       114         127    13       0.045695    CMIG4   \n",
      "\n",
      "     Ticker 2  Converged           Index  Retorno total - exp          Pair  \n",
      "1245    GOLL4       True   BPAN4-GOLL4-2             1.246595   BPAN4-GOLL4  \n",
      "1246    GOLL4       True   MRVE3-GOLL4-1             1.544009   MRVE3-GOLL4  \n",
      "1247    TELB4       True  IGTI11-TELB4-1             1.163147  IGTI11-TELB4  \n",
      "1248    TELB4       True   ENBR3-TELB4-1             1.111877   ENBR3-TELB4  \n",
      "1249   SAPR11      False  CMIG4-SAPR11-1             1.046755  CMIG4-SAPR11  \n",
      "\n",
      "Operações com 10 pares:\n",
      "     Operação  Semestre  Abertura  Fechamento  Dias  Retorno total Ticker 1  \\\n",
      "648         1        54         1          44    43       0.139385    ABEV3   \n",
      "649         2        54        85          96    11       0.105629    ABEV3   \n",
      "650         1        54        41          65    24       0.128121    CCRO3   \n",
      "651         1        54        78          91    13       0.089816    CPFE3   \n",
      "652         1        54       120         127     7       0.030620    SMTO3   \n",
      "\n",
      "    Ticker 2  Converged          Index  Retorno total - exp         Pair  \n",
      "648    CLSC4       True  ABEV3-CLSC4-1             1.149566  ABEV3-CLSC4  \n",
      "649    CLSC4       True  ABEV3-CLSC4-2             1.111409  ABEV3-CLSC4  \n",
      "650    TELB4       True  CCRO3-TELB4-1             1.136690  CCRO3-TELB4  \n",
      "651    CLSC4       True  CPFE3-CLSC4-1             1.093973  CPFE3-CLSC4  \n",
      "652    TELB4      False  SMTO3-TELB4-1             1.031094  SMTO3-TELB4  \n",
      "\n",
      "Operações com 5 pares:\n",
      "     Operação  Semestre  Abertura  Fechamento  Dias  Retorno total Ticker 1  \\\n",
      "349         2        53       127         129     2      -0.038689    RAIZ4   \n",
      "350         1        53        63          89    26       0.198119    B3SA3   \n",
      "351         1        53        25          36    11       0.084325    TIMS3   \n",
      "352         1        54        44          47     3       0.023963    MULT3   \n",
      "353         1        54         1          46    45       0.126943    ABEV3   \n",
      "\n",
      "    Ticker 2  Converged           Index  Retorno total - exp          Pair  \n",
      "349    TELB3      False   RAIZ4-TELB3-2             0.962050   RAIZ4-TELB3  \n",
      "350    EMBR3       True   B3SA3-EMBR3-1             1.219108   B3SA3-EMBR3  \n",
      "351   SAPR11       True  TIMS3-SAPR11-1             1.087982  TIMS3-SAPR11  \n",
      "352    ENBR3       True   MULT3-ENBR3-1             1.024252   MULT3-ENBR3  \n",
      "353    CPFE3       True   ABEV3-CPFE3-1             1.135353   ABEV3-CPFE3  \n"
     ]
    }
   ],
   "source": [
    "# Dataframes:\n",
    "operations10 = pd.read_csv(pasta + \"operations_C10.csv\")\n",
    "operations5 = pd.read_csv(pasta + \"operations_C5.csv\")\n",
    "operations20 = pd.read_csv(pasta + \"operations_C20.csv\")\n",
    "operations100 = pd.read_csv(pasta + \"operations_C100.csv\")\n",
    "\n",
    "# Top 100 Pares\n",
    "print(\"Operações com 100 pares:\")\n",
    "operations100['Pair'] = operations100['Ticker 1'] + \"-\" + operations100['Ticker 2']\n",
    "print(operations100.tail())\n",
    "\n",
    "# Top 20 Pares\n",
    "print(\"\\nOperações com 20 pares:\")\n",
    "operations20['Pair'] = operations20['Ticker 1'] + \"-\" + operations20['Ticker 2']\n",
    "print(operations20.tail())\n",
    "\n",
    "# Top 10 Pares\n",
    "print(\"\\nOperações com 10 pares:\")\n",
    "operations10['Pair'] = operations10['Ticker 1'] + \"-\" + operations10['Ticker 2']\n",
    "print(operations10.tail())\n",
    "\n",
    "# Top 5 Pares\n",
    "print(\"\\nOperações com 5 pares:\")\n",
    "operations5['Pair'] = operations5['Ticker 1'] + \"-\" + operations5['Ticker 2']\n",
    "print(operations5.tail())"
   ]
  },
  {
   "cell_type": "code",
   "execution_count": 20,
   "id": "91e9c94f",
   "metadata": {
    "id": "91e9c94f"
   },
   "outputs": [],
   "source": [
    "def print_ops(operations):\n",
    "    operations_by_pair = operations.groupby(\"Pair\").sum(\"Retorno total\")\n",
    "    \n",
    "    #print(f\"Converged operations: {sum(operations['Converged'])} | Open operations: {np.shape(operations)[0] - sum(operations['Converged'])}\")\n",
    "    print(f\"Número de operações: {np.shape(operations)[0]}\")\n",
    "    print(f\"Número de pares: {np.shape(operations_by_pair)[0]}\")\n",
    "    print(f\"Positive Returns: {sum(operations['Retorno total'] > 0)}\\nNegative: {sum(operations['Retorno total'] < 0)}\")\n",
    "    print(f\"Average trade lenght: {operations['Dias'].mean()}\")\n",
    "    print(f\"Convergência: {(operations['Converged'].sum()/np.shape(operations)[0])*100} %\")\n",
    "    print(f\"Highest Return: {round(100*operations['Retorno total'].max(),4)} %\")\n",
    "    print(f\"Lowest Return: {round(100*operations['Retorno total'].min(),4)} %\")\n",
    "    print(f\"Average Return: {round(100*operations['Retorno total'].mean(),4)} %\")   \n",
    "    print(f\"Retorno médio por par: {round(100*operations_by_pair['Retorno total'].mean(),4)} %\")\n",
    "    print(f\"Retorno médio por par por semestre: {round(np.divide(100*operations_by_pair['Retorno total'].mean(),max(operations['Semestre'])+1),4)} %\")"
   ]
  },
  {
   "cell_type": "code",
   "execution_count": 21,
   "id": "FhGjBgVDHhms",
   "metadata": {
    "colab": {
     "base_uri": "https://localhost:8080/"
    },
    "executionInfo": {
     "elapsed": 6,
     "status": "ok",
     "timestamp": 1708124956404,
     "user": {
      "displayName": "Marcelo “Polecram”",
      "userId": "07802337785347454484"
     },
     "user_tz": 180
    },
    "id": "FhGjBgVDHhms",
    "outputId": "0e2f1e8e-b48d-4f05-8c3f-79218e1bf319"
   },
   "outputs": [
    {
     "name": "stdout",
     "output_type": "stream",
     "text": [
      "Operações com 100 pares:\n",
      "Número de operações: 5840\n",
      "Número de pares: 3237\n",
      "Positive Returns: 5173\n",
      "Negative: 523\n",
      "Average trade lenght: 18.159246575342465\n",
      "Convergência: 71.0445205479452 %\n",
      "Highest Return: 482.814 %\n",
      "Lowest Return: -84.1592 %\n",
      "Average Return: 18.76 %\n",
      "Retorno médio por par: 33.8457 %\n",
      "Retorno médio por par por semestre: 0.6154 %\n",
      "\n",
      "Operações com 20 pares:\n",
      "Número de operações: 1250\n",
      "Número de pares: 797\n",
      "Positive Returns: 1102\n",
      "Negative: 99\n",
      "Average trade lenght: 16.8672\n",
      "Convergência: 71.76 %\n",
      "Highest Return: 482.814 %\n",
      "Lowest Return: -40.3247 %\n",
      "Average Return: 18.2811 %\n",
      "Retorno médio por par: 28.6718 %\n",
      "Retorno médio por par por semestre: 0.5213 %\n",
      "\n",
      "Operações com 10 pares:\n",
      "Número de operações: 653\n",
      "Número de pares: 411\n",
      "Positive Returns: 571\n",
      "Negative: 47\n",
      "Average trade lenght: 16.551301684532923\n",
      "Convergência: 72.89433384379785 %\n",
      "Highest Return: 371.3265 %\n",
      "Lowest Return: -40.3247 %\n",
      "Average Return: 17.4252 %\n",
      "Retorno médio por par: 27.6852 %\n",
      "Retorno médio por par por semestre: 0.5034 %\n",
      "\n",
      "Operações com 5 pares:\n",
      "Número de operações: 354\n",
      "Número de pares: 209\n",
      "Positive Returns: 305\n",
      "Negative: 24\n",
      "Average trade lenght: 15.799435028248588\n",
      "Convergência: 71.75141242937853 %\n",
      "Highest Return: 371.3265 %\n",
      "Lowest Return: -40.3247 %\n",
      "Average Return: 17.9562 %\n",
      "Retorno médio por par: 30.4139 %\n",
      "Retorno médio por par por semestre: 0.553 %\n"
     ]
    }
   ],
   "source": [
    "print(\"Operações com 100 pares:\")\n",
    "print_ops(operations100)\n",
    "print(\"\\nOperações com 20 pares:\")\n",
    "print_ops(operations20)\n",
    "print(\"\\nOperações com 10 pares:\")\n",
    "print_ops(operations10)\n",
    "print(\"\\nOperações com 5 pares:\")\n",
    "print_ops(operations5)"
   ]
  },
  {
   "cell_type": "code",
   "execution_count": 8,
   "id": "af939e79",
   "metadata": {
    "id": "af939e79"
   },
   "outputs": [],
   "source": [
    "# Return Distribution\n",
    "def print_ret(operations):\n",
    "  fig = plt.figure(figsize=(15, 7))\n",
    "  ax1 = fig.add_subplot(1, 1, 1)\n",
    "  operations['Retorno total'].hist(bins=50, ax=ax1)\n",
    "  ax1.set_xlabel('Retorno')\n",
    "  ax1.set_ylabel('Amostra')\n",
    "  ax1.set_title('Distribuição dos Retornos')\n",
    "  plt.show()\n"
   ]
  },
  {
   "cell_type": "code",
   "execution_count": 9,
   "id": "2KOh1pAzHlJP",
   "metadata": {
    "colab": {
     "base_uri": "https://localhost:8080/",
     "height": 1000
    },
    "executionInfo": {
     "elapsed": 1527,
     "status": "ok",
     "timestamp": 1708124957926,
     "user": {
      "displayName": "Marcelo “Polecram”",
      "userId": "07802337785347454484"
     },
     "user_tz": 180
    },
    "id": "2KOh1pAzHlJP",
    "outputId": "b2d00be2-f4dc-4069-ef45-017ae3fef00f"
   },
   "outputs": [
    {
     "name": "stdout",
     "output_type": "stream",
     "text": [
      "Operações com 100 pares:\n"
     ]
    },
    {
     "data": {
      "image/png": "[encoded data removed]",
      "text/plain": [
       "<Figure size 1500x700 with 1 Axes>"
      ]
     },
     "metadata": {},
     "output_type": "display_data"
    },
    {
     "name": "stdout",
     "output_type": "stream",
     "text": [
      "\n",
      "Operações com 20 pares:\n"
     ]
    },
    {
     "data": {
      "image/png": "[encoded data removed]",
      "text/plain": [
       "<Figure size 1500x700 with 1 Axes>"
      ]
     },
     "metadata": {},
     "output_type": "display_data"
    },
    {
     "name": "stdout",
     "output_type": "stream",
     "text": [
      "\n",
      "Operações com 10 pares:\n"
     ]
    },
    {
     "data": {
      "image/png": "[encoded data removed]",
      "text/plain": [
       "<Figure size 1500x700 with 1 Axes>"
      ]
     },
     "metadata": {},
     "output_type": "display_data"
    },
    {
     "name": "stdout",
     "output_type": "stream",
     "text": [
      "\n",
      "Operações com 5 pares:\n"
     ]
    },
    {
     "data": {
      "image/png": "[encoded data removed]",
      "text/plain": [
       "<Figure size 1500x700 with 1 Axes>"
      ]
     },
     "metadata": {},
     "output_type": "display_data"
    }
   ],
   "source": [
    "print(\"Operações com 100 pares:\")\n",
    "print_ret(operations100)\n",
    "print(\"\\nOperações com 20 pares:\")\n",
    "print_ret(operations20)\n",
    "print(\"\\nOperações com 10 pares:\")\n",
    "print_ret(operations10)\n",
    "print(\"\\nOperações com 5 pares:\")\n",
    "print_ret(operations5)"
   ]
  },
  {
   "cell_type": "code",
   "execution_count": 10,
   "id": "5c9f64c1",
   "metadata": {
    "id": "5c9f64c1"
   },
   "outputs": [],
   "source": [
    "# Ações com maior participação\n",
    "def participacoes(operations):\n",
    "  stock_count = {}\n",
    "  operations_by_pair = operations.groupby(\"Pair\").sum(\"Retorno total\")\n",
    "  for pair in operations_by_pair.index:\n",
    "      stocks = pair.split(\"-\")\n",
    "      for stock in stocks:\n",
    "          if stock in stock_count:\n",
    "              stock_count[stock] += 1\n",
    "          else:\n",
    "              stock_count[stock] = 1\n",
    "  stock_count_df = pd.DataFrame(stock_count.items())\n",
    "  stock_count_df = stock_count_df.sort_values(1)\n",
    "  stock_count_df.to_csv(pasta + \"stock_count_20_pairs.csv\")\n",
    "  print(stock_count_df)"
   ]
  },
  {
   "cell_type": "code",
   "execution_count": 11,
   "id": "w6eXWYs6IBBw",
   "metadata": {
    "colab": {
     "base_uri": "https://localhost:8080/"
    },
    "executionInfo": {
     "elapsed": 310,
     "status": "ok",
     "timestamp": 1708124958228,
     "user": {
      "displayName": "Marcelo “Polecram”",
      "userId": "07802337785347454484"
     },
     "user_tz": 180
    },
    "id": "w6eXWYs6IBBw",
    "outputId": "57af8bef-a20c-435b-a73a-5fda2d60f188"
   },
   "outputs": [
    {
     "name": "stdout",
     "output_type": "stream",
     "text": [
      "Operações com 100 pares:\n",
      "          0   1\n",
      "201  BIDI11   1\n",
      "196   USIM6   1\n",
      "198   PETZ3   1\n",
      "203   RDOR3   2\n",
      "205   TSPC6   2\n",
      "..      ...  ..\n",
      "158   BBDC4  84\n",
      "45    VIVT3  87\n",
      "33    RSID3  88\n",
      "37    TELB3  93\n",
      "38    TELB4  97\n",
      "\n",
      "[207 rows x 2 columns]\n",
      "\n",
      "Operações com 20 pares:\n",
      "         0   1\n",
      "188  WEGE3   1\n",
      "139  TRJC6   1\n",
      "141  EBTP4   1\n",
      "119  ALLL3   1\n",
      "115  CIEL3   1\n",
      "..     ...  ..\n",
      "12   ITSA4  27\n",
      "4    BBDC3  28\n",
      "51   USIM3  30\n",
      "24   TELB3  33\n",
      "25   TELB4  38\n",
      "\n",
      "[189 rows x 2 columns]\n",
      "\n",
      "Operações com 10 pares:\n",
      "          0   1\n",
      "171   YDUQ3   1\n",
      "142  KLBN11   1\n",
      "159   PCAR3   1\n",
      "117   TPRC6   1\n",
      "116   EBTP4   1\n",
      "..      ...  ..\n",
      "7     ITSA4  15\n",
      "59    USIM3  16\n",
      "6     CPFE3  16\n",
      "18    TELB4  22\n",
      "77    TELB3  24\n",
      "\n",
      "[172 rows x 2 columns]\n",
      "\n",
      "Operações com 5 pares:\n",
      "         0   1\n",
      "72   TSEP4   1\n",
      "100  IGTA3   1\n",
      "99   HYPE3   1\n",
      "98   TRPL4   1\n",
      "97   LCAM3   1\n",
      "..     ...  ..\n",
      "38   ELET3   8\n",
      "5    ITSA4   9\n",
      "4    CPFE3  11\n",
      "50   TELB3  12\n",
      "51   TELB4  13\n",
      "\n",
      "[146 rows x 2 columns]\n"
     ]
    }
   ],
   "source": [
    "print(\"Operações com 100 pares:\")\n",
    "participacoes(operations100)\n",
    "print(\"\\nOperações com 20 pares:\")\n",
    "participacoes(operations20)\n",
    "print(\"\\nOperações com 10 pares:\")\n",
    "participacoes(operations10)\n",
    "print(\"\\nOperações com 5 pares:\")\n",
    "participacoes(operations5)"
   ]
  },
  {
   "cell_type": "code",
   "execution_count": 22,
   "id": "636d05a1-962e-4c09-af85-ffe316cfcfa2",
   "metadata": {},
   "outputs": [
    {
     "name": "stdout",
     "output_type": "stream",
     "text": [
      "Top pares com 5 pares:\n",
      "Pair\n",
      "EBTP3-EBTP4    19\n",
      "TELB3-TELB4    10\n",
      "BRKM5-TELB3     9\n",
      "VIVT3-VIVT4     8\n",
      "ELET3-ELET6     8\n",
      "Name: count, dtype: int64\n",
      "\n",
      "Top pares com 10 pares:\n",
      "Pair\n",
      "EBTP3-EBTP4    19\n",
      "VIVT3-VIVT4    12\n",
      "TELB3-TELB4    10\n",
      "BRKM5-TELB3     9\n",
      "ELET3-ELET6     9\n",
      "Name: count, dtype: int64\n",
      "\n",
      "Top pares com 20 pares:\n",
      "Pair\n",
      "EBTP3-EBTP4    19\n",
      "VIVT3-VIVT4    12\n",
      "TELB3-TELB4    10\n",
      "ELET3-ELET6     9\n",
      "BRKM5-TELB3     9\n",
      "Name: count, dtype: int64\n",
      "\n",
      "Top pares com 100 pares:\n",
      "Pair\n",
      "EBTP3-EBTP4    27\n",
      "VIVT3-VIVT4    21\n",
      "TELB3-TELB4    16\n",
      "ARCE3-ARCE4    13\n",
      "GGBR4-GOAU4    12\n",
      "Name: count, dtype: int64\n"
     ]
    }
   ],
   "source": [
    "print(\"Top pares com 5 pares:\")\n",
    "contagem_nomes = operations5['Pair'].value_counts()\n",
    "print(contagem_nomes.head(5))\n",
    "print(\"\\nTop pares com 10 pares:\")\n",
    "contagem_nomes = operations10['Pair'].value_counts()\n",
    "print(contagem_nomes.head(5))\n",
    "print(\"\\nTop pares com 20 pares:\")\n",
    "contagem_nomes = operations20['Pair'].value_counts()\n",
    "print(contagem_nomes.head(5))\n",
    "print(\"\\nTop pares com 100 pares:\")\n",
    "contagem_nomes = operations100['Pair'].value_counts()\n",
    "print(contagem_nomes.head(5))"
   ]
  },
  {
   "cell_type": "code",
   "execution_count": 12,
   "id": "9f5d9d34",
   "metadata": {
    "colab": {
     "base_uri": "https://localhost:8080/",
     "height": 447
    },
    "executionInfo": {
     "elapsed": 633,
     "status": "ok",
     "timestamp": 1708124958859,
     "user": {
      "displayName": "Marcelo “Polecram”",
      "userId": "07802337785347454484"
     },
     "user_tz": 180
    },
    "id": "9f5d9d34",
    "outputId": "443141d6-09ac-49a6-ddf6-02e997f51d7d"
   },
   "outputs": [
    {
     "data": {
      "text/plain": [
       "'\\ndef rate_interest(principal, final_amount, time):\\n    rate = (100 * (final_amount/principal)**(1/time)) - 100\\n    print(\"Compound interest rate is\", rate, \"%\")\\n\\ndaily_returns = pd.read_csv(pasta + \"daily_returns.csv\")\\ndaily_returns = daily_returns.iloc[252:,:]\\ndaily_returns = daily_returns / 35\\ncumulative = np.cumprod(1+daily_returns)\\ncumulative.plot()\\nrate_interest(1,cumulative.values[-1],25)\\n'"
      ]
     },
     "execution_count": 12,
     "metadata": {},
     "output_type": "execute_result"
    }
   ],
   "source": [
    "'''\n",
    "def rate_interest(principal, final_amount, time):\n",
    "    rate = (100 * (final_amount/principal)**(1/time)) - 100\n",
    "    print(\"Compound interest rate is\", rate, \"%\")\n",
    "\n",
    "daily_returns = pd.read_csv(pasta + \"daily_returns.csv\")\n",
    "daily_returns = daily_returns.iloc[252:,:]\n",
    "daily_returns = daily_returns / 35\n",
    "cumulative = np.cumprod(1+daily_returns)\n",
    "cumulative.plot()\n",
    "rate_interest(1,cumulative.values[-1],25)\n",
    "'''"
   ]
  },
  {
   "cell_type": "code",
   "execution_count": 13,
   "id": "ccba54aa",
   "metadata": {
    "colab": {
     "base_uri": "https://localhost:8080/"
    },
    "executionInfo": {
     "elapsed": 6,
     "status": "ok",
     "timestamp": 1708124958859,
     "user": {
      "displayName": "Marcelo “Polecram”",
      "userId": "07802337785347454484"
     },
     "user_tz": 180
    },
    "id": "ccba54aa",
    "outputId": "5e1058e2-54a9-44aa-a6a4-4936565ef1b6"
   },
   "outputs": [
    {
     "data": {
      "text/plain": [
       "'\\n# Cálculo do Sharpe para o período do estudo\\nmean_daily_return = daily_returns.values.mean()\\nprint(f\"Mean daily return: {mean_daily_return}\")\\nreturns_std_dev = daily_returns.values.std()\\n\\nrisk_free_mean = risk_free_rates[\\'daily\\'].mean()\\nprint(f\"Mean risk free return: {risk_free_mean}\")\\n\\nprint(f\"Fully Invested Sharpe Ratio: {(mean_daily_return - risk_free_mean) / returns_std_dev}\")\\n'"
      ]
     },
     "execution_count": 13,
     "metadata": {},
     "output_type": "execute_result"
    }
   ],
   "source": [
    "'''\n",
    "# Cálculo do Sharpe para o período do estudo\n",
    "mean_daily_return = daily_returns.values.mean()\n",
    "print(f\"Mean daily return: {mean_daily_return}\")\n",
    "returns_std_dev = daily_returns.values.std()\n",
    "\n",
    "risk_free_mean = risk_free_rates['daily'].mean()\n",
    "print(f\"Mean risk free return: {risk_free_mean}\")\n",
    "\n",
    "print(f\"Fully Invested Sharpe Ratio: {(mean_daily_return - risk_free_mean) / returns_std_dev}\")\n",
    "'''"
   ]
  },
  {
   "cell_type": "code",
   "execution_count": null,
   "id": "5e7da12b",
   "metadata": {
    "id": "5e7da12b"
   },
   "outputs": [],
   "source": []
  },
  {
   "cell_type": "markdown",
   "id": "JJFPG9NWhwe0",
   "metadata": {
    "id": "JJFPG9NWhwe0"
   },
   "source": [
    "Rascunho"
   ]
  },
  {
   "cell_type": "code",
   "execution_count": 14,
   "id": "EVK66bbYhyfS",
   "metadata": {
    "colab": {
     "base_uri": "https://localhost:8080/"
    },
    "executionInfo": {
     "elapsed": 11,
     "status": "ok",
     "timestamp": 1708125720525,
     "user": {
      "displayName": "Marcelo “Polecram”",
      "userId": "07802337785347454484"
     },
     "user_tz": 180
    },
    "id": "EVK66bbYhyfS",
    "outputId": "b349f441-2c20-44c9-d038-bb9e0d8d623c"
   },
   "outputs": [
    {
     "data": {
      "text/plain": [
       "228.51398774375716"
      ]
     },
     "execution_count": 14,
     "metadata": {},
     "output_type": "execute_result"
    }
   ],
   "source": [
    "operations20['Retorno total'].sum()"
   ]
  },
  {
   "cell_type": "code",
   "execution_count": 15,
   "id": "IHgtiFZWh1Pq",
   "metadata": {
    "id": "IHgtiFZWh1Pq"
   },
   "outputs": [
    {
     "data": {
      "text/plain": [
       "\"# prompt: Usando o DataFrame operations: plot operations['Retorno total'] as a time series\\n\\nimport pandas as pd\\n\\n# convert 'Semestre' column to datetime\\n#operations['Semestre'] = pd.to_datetime(operations['Semestre'].astype(str) + '-01-01')\\n\\n# create the plot\\nimport altair as alt\\nalt.Chart(operations).mark_line().encode(\\n    x='Semestre',\\n    y='Retorno total'\\n)\\n\""
      ]
     },
     "execution_count": 15,
     "metadata": {},
     "output_type": "execute_result"
    }
   ],
   "source": [
    "'''# prompt: Usando o DataFrame operations: plot operations['Retorno total'] as a time series\n",
    "\n",
    "import pandas as pd\n",
    "\n",
    "# convert 'Semestre' column to datetime\n",
    "#operations['Semestre'] = pd.to_datetime(operations['Semestre'].astype(str) + '-01-01')\n",
    "\n",
    "# create the plot\n",
    "import altair as alt\n",
    "alt.Chart(operations).mark_line().encode(\n",
    "    x='Semestre',\n",
    "    y='Retorno total'\n",
    ")\n",
    "'''"
   ]
  },
  {
   "cell_type": "code",
   "execution_count": null,
   "id": "RhHd_ZvUiboL",
   "metadata": {
    "id": "RhHd_ZvUiboL"
   },
   "outputs": [],
   "source": []
  }
 ],
 "metadata": {
  "colab": {
   "provenance": []
  },
  "kernelspec": {
   "display_name": "Python 3 (ipykernel)",
   "language": "python",
   "name": "python3"
  },
  "language_info": {
   "codemirror_mode": {
    "name": "ipython",
    "version": 3
   },
   "file_extension": ".py",
   "mimetype": "text/x-python",
   "name": "python",
   "nbconvert_exporter": "python",
   "pygments_lexer": "ipython3",
   "version": "3.10.12"
  }
 },
 "nbformat": 4,
 "nbformat_minor": 5
}
