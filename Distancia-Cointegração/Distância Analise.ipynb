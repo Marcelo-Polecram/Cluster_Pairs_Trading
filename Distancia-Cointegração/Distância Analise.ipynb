{
 "cells": [
  {
   "cell_type": "code",
   "execution_count": 1,
   "id": "3682df96",
   "metadata": {
    "colab": {
     "base_uri": "https://localhost:8080/"
    },
    "executionInfo": {
     "elapsed": 1860,
     "status": "ok",
     "timestamp": 1708124913158,
     "user": {
      "displayName": "Marcelo “Polecram”",
      "userId": "07802337785347454484"
     },
     "user_tz": 180
    },
    "id": "3682df96",
    "outputId": "83e1583a-2c2d-4485-9795-a211377b8a10"
   },
   "outputs": [
    {
     "name": "stderr",
     "output_type": "stream",
     "text": [
      "/tmp/ipykernel_9102/376926263.py:1: DeprecationWarning: \n",
      "Pyarrow will become a required dependency of pandas in the next major release of pandas (pandas 3.0),\n",
      "(to allow more performant data types, such as the Arrow string type, and better interoperability with other libraries)\n",
      "but was not found to be installed on your system.\n",
      "If this would cause problems for you,\n",
      "please provide us feedback at https://github.com/pandas-dev/pandas/issues/54466\n",
      "        \n",
      "  import pandas as pd\n"
     ]
    }
   ],
   "source": [
    "import pandas as pd\n",
    "import numpy as np\n",
    "from matplotlib import pyplot as plt\n",
    "import yfinance as yf\n",
    "import os\n",
    "from pathlib import Path\n",
    "import sys\n"
   ]
  },
  {
   "cell_type": "code",
   "execution_count": 2,
   "id": "b357b820",
   "metadata": {
    "colab": {
     "base_uri": "https://localhost:8080/",
     "height": 272
    },
    "executionInfo": {
     "elapsed": 18277,
     "status": "ok",
     "timestamp": 1708124954528,
     "user": {
      "displayName": "Marcelo “Polecram”",
      "userId": "07802337785347454484"
     },
     "user_tz": 180
    },
    "id": "b357b820",
    "outputId": "3751f535-2530-4a2d-ebeb-e12bc4234879"
   },
   "outputs": [
    {
     "name": "stderr",
     "output_type": "stream",
     "text": [
      "/home/marcelo/.local/lib/python3.10/site-packages/yfinance/utils.py:775: FutureWarning: The 'unit' keyword in TimedeltaIndex construction is deprecated and will be removed in a future version. Use pd.to_timedelta instead.\n",
      "  df.index += _pd.TimedeltaIndex(dst_error_hours, 'h')\n",
      "[*********************100%%**********************]  1 of 1 completed"
     ]
    },
    {
     "name": "stdout",
     "output_type": "stream",
     "text": [
      "(7282, 2)\n"
     ]
    },
    {
     "name": "stderr",
     "output_type": "stream",
     "text": [
      "\n"
     ]
    },
    {
     "data": {
      "text/html": [
       "<div>\n",
       "<style scoped>\n",
       "    .dataframe tbody tr th:only-of-type {\n",
       "        vertical-align: middle;\n",
       "    }\n",
       "\n",
       "    .dataframe tbody tr th {\n",
       "        vertical-align: top;\n",
       "    }\n",
       "\n",
       "    .dataframe thead th {\n",
       "        text-align: right;\n",
       "    }\n",
       "</style>\n",
       "<table border=\"1\" class=\"dataframe\">\n",
       "  <thead>\n",
       "    <tr style=\"text-align: right;\">\n",
       "      <th></th>\n",
       "      <th>annualized</th>\n",
       "      <th>daily</th>\n",
       "    </tr>\n",
       "    <tr>\n",
       "      <th>Date</th>\n",
       "      <th></th>\n",
       "      <th></th>\n",
       "    </tr>\n",
       "  </thead>\n",
       "  <tbody>\n",
       "    <tr>\n",
       "      <th>1995-01-03</th>\n",
       "      <td>5.52</td>\n",
       "      <td>0.000051</td>\n",
       "    </tr>\n",
       "    <tr>\n",
       "      <th>1995-01-04</th>\n",
       "      <td>5.69</td>\n",
       "      <td>0.000052</td>\n",
       "    </tr>\n",
       "    <tr>\n",
       "      <th>1995-01-05</th>\n",
       "      <td>5.71</td>\n",
       "      <td>0.000052</td>\n",
       "    </tr>\n",
       "    <tr>\n",
       "      <th>1995-01-06</th>\n",
       "      <td>5.74</td>\n",
       "      <td>0.000052</td>\n",
       "    </tr>\n",
       "    <tr>\n",
       "      <th>1995-01-09</th>\n",
       "      <td>5.75</td>\n",
       "      <td>0.000052</td>\n",
       "    </tr>\n",
       "  </tbody>\n",
       "</table>\n",
       "</div>"
      ],
      "text/plain": [
       "            annualized     daily\n",
       "Date                            \n",
       "1995-01-03        5.52  0.000051\n",
       "1995-01-04        5.69  0.000052\n",
       "1995-01-05        5.71  0.000052\n",
       "1995-01-06        5.74  0.000052\n",
       "1995-01-09        5.75  0.000052"
      ]
     },
     "execution_count": 2,
     "metadata": {},
     "output_type": "execute_result"
    }
   ],
   "source": [
    "# Coleta da taxa de retorno risk free\n",
    "\n",
    "def deannualize(annual_rate, periods=365):\n",
    "    return (1 + annual_rate) ** (1/periods) - 1\n",
    "\n",
    "annualized = yf.download(\"^IRX\", start=\"1995-01-01\", end=\"2023-12-31\")[\"Adj Close\"]\n",
    "daily = annualized.apply(deannualize)\n",
    "\n",
    "# create dataframe\n",
    "risk_free_rates = pd.DataFrame({\"annualized\": annualized, \"daily\": daily})\n",
    "risk_free_rates['daily'] = risk_free_rates['daily'] / 100\n",
    "print(np.shape(risk_free_rates))\n",
    "risk_free_rates.head()"
   ]
  },
  {
   "cell_type": "code",
   "execution_count": 3,
   "id": "2obyJvIC5GBs",
   "metadata": {
    "colab": {
     "base_uri": "https://localhost:8080/",
     "height": 53
    },
    "executionInfo": {
     "elapsed": 23105,
     "status": "ok",
     "timestamp": 1708124936260,
     "user": {
      "displayName": "Marcelo “Polecram”",
      "userId": "07802337785347454484"
     },
     "user_tz": 180
    },
    "id": "2obyJvIC5GBs",
    "outputId": "72fe4a13-197f-4ca2-859b-e8f18d20f6d7"
   },
   "outputs": [
    {
     "data": {
      "text/plain": [
       "'\\nfrom google.colab import drive\\n\\ndrive.mount(\\'/content/drive\\')\\npasta = str(\"/content/drive/MyDrive/Python/TCC-Cloud/Distancia-Cointegração/result_distancia/\")\\npasta\\n'"
      ]
     },
     "execution_count": 3,
     "metadata": {},
     "output_type": "execute_result"
    }
   ],
   "source": [
    "# Usando Google Colab:\n",
    "'''\n",
    "from google.colab import drive\n",
    "\n",
    "drive.mount('/content/drive')\n",
    "pasta = str(\"/content/drive/MyDrive/Python/TCC-Cloud/Distancia-Cointegração/result_distancia/\")\n",
    "pasta\n",
    "'''"
   ]
  },
  {
   "cell_type": "code",
   "execution_count": 4,
   "id": "ab1a3b01-b4b6-425d-8a44-5a138adc72eb",
   "metadata": {},
   "outputs": [
    {
     "data": {
      "text/plain": [
       "'/mnt/c/Users/MarceloPolecram/Python/MEU_TCC/Distancia-Cointegração/result_distancia/'"
      ]
     },
     "execution_count": 4,
     "metadata": {},
     "output_type": "execute_result"
    }
   ],
   "source": [
    "# No computador:\n",
    "pasta = str(Path.cwd().parents[0]) + (\"/Distancia-Cointegração/result_distancia/\")\n",
    "pasta"
   ]
  },
  {
   "cell_type": "code",
   "execution_count": 5,
   "id": "8fafd515",
   "metadata": {
    "colab": {
     "base_uri": "https://localhost:8080/"
    },
    "executionInfo": {
     "elapsed": 1884,
     "status": "ok",
     "timestamp": 1708124956404,
     "user": {
      "displayName": "Marcelo “Polecram”",
      "userId": "07802337785347454484"
     },
     "user_tz": 180
    },
    "id": "8fafd515",
    "outputId": "f4f045a1-8ae4-4a1d-b770-19ce9a983b0f"
   },
   "outputs": [
    {
     "name": "stdout",
     "output_type": "stream",
     "text": [
      "Operações com 100 pares:\n",
      "       Operação  Semestre  Abertura  Fechamento  Dias  Retorno total Ticker 1  \\\n",
      "11280         1        54        86         127    41       0.007841    HYPE3   \n",
      "11281         1        54       110         127    17      -0.042264    CSAN3   \n",
      "11282         1        54        58         108    50       0.047550    PCAR3   \n",
      "11283         2        54       109         127    18       0.054243    PCAR3   \n",
      "11284         1        54        96         127    31       0.134664    RDOR3   \n",
      "\n",
      "      Ticker 2  Converged          Index  Retorno total - exp         Pair  \n",
      "11280    VIVT3      False  HYPE3-VIVT3-1             1.007872  HYPE3-VIVT3  \n",
      "11281    CMIG3      False  CSAN3-CMIG3-1             0.958616  CSAN3-CMIG3  \n",
      "11282    DXCO3       True  PCAR3-DXCO3-1             1.048699  PCAR3-DXCO3  \n",
      "11283    DXCO3      False  PCAR3-DXCO3-2             1.055741  PCAR3-DXCO3  \n",
      "11284    TOTS3      False  RDOR3-TOTS3-1             1.144153  RDOR3-TOTS3  \n",
      "\n",
      "Operações com 20 pares:\n",
      "      Operação  Semestre  Abertura  Fechamento  Dias  Retorno total Ticker 1  \\\n",
      "2189         3        54       103         127    24       0.075092    ITUB4   \n",
      "2190         1        54        43          93    50      -0.149537    BBDC4   \n",
      "2191         2        54        94         127    33       0.083573    BBDC4   \n",
      "2192         1        54        53         103    50      -0.069193    CCRO3   \n",
      "2193         2        54       104         127    23       0.002072    CCRO3   \n",
      "\n",
      "     Ticker 2  Converged          Index  Retorno total - exp         Pair  \n",
      "2189    EQTL3      False  ITUB4-EQTL3-3             1.077983  ITUB4-EQTL3  \n",
      "2190    VBBR3       True  BBDC4-VBBR3-1             0.861106  BBDC4-VBBR3  \n",
      "2191    VBBR3      False  BBDC4-VBBR3-2             1.087164  BBDC4-VBBR3  \n",
      "2192    TIMS3       True  CCRO3-TIMS3-1             0.933147  CCRO3-TIMS3  \n",
      "2193    TIMS3      False  CCRO3-TIMS3-2             1.002074  CCRO3-TIMS3  \n",
      "\n",
      "Operações com 10 pares:\n",
      "      Operação  Semestre  Abertura  Fechamento  Dias  Retorno total Ticker 1  \\\n",
      "1112         3        54       105         127    22       0.018616    EQTL3   \n",
      "1113         1        54        55         105    50      -0.097316    HYPE3   \n",
      "1114         2        54       106         127    21       0.061669    HYPE3   \n",
      "1115         1        54        59         109    50       0.027669    ARZZ3   \n",
      "1116         2        54       110         127    17       0.070534    ARZZ3   \n",
      "\n",
      "     Ticker 2  Converged           Index  Retorno total - exp          Pair  \n",
      "1112   SANB11      False  EQTL3-SANB11-3             1.018790  EQTL3-SANB11  \n",
      "1113   ENGI11       True  HYPE3-ENGI11-1             0.907269  HYPE3-ENGI11  \n",
      "1114   ENGI11      False  HYPE3-ENGI11-2             1.063611  HYPE3-ENGI11  \n",
      "1115    UNIP6       True   ARZZ3-UNIP6-1             1.028055   ARZZ3-UNIP6  \n",
      "1116    UNIP6      False   ARZZ3-UNIP6-2             1.073081   ARZZ3-UNIP6  \n",
      "\n",
      "Operações com 5 pares:\n",
      "     Operação  Semestre  Abertura  Fechamento  Dias  Retorno total Ticker 1  \\\n",
      "560         1        54         1          51    50       0.009149    ELET3   \n",
      "561         2        54        52         102    50      -0.014712    ELET3   \n",
      "562         3        54       103         127    24      -0.017615    ELET3   \n",
      "563         1        54        96         127    31       0.011537    VIVT3   \n",
      "564         1        54        55         105    50       0.096870    RAIL3   \n",
      "\n",
      "    Ticker 2  Converged           Index  Retorno total - exp          Pair  \n",
      "560    ELET6       True   ELET3-ELET6-1             1.009191   ELET3-ELET6  \n",
      "561    ELET6       True   ELET3-ELET6-2             0.985396   ELET3-ELET6  \n",
      "562    ELET6      False   ELET3-ELET6-3             0.982539   ELET3-ELET6  \n",
      "563    EGIE3      False   VIVT3-EGIE3-1             1.011604   VIVT3-EGIE3  \n",
      "564   IGTI11       True  RAIL3-IGTI11-1             1.101717  RAIL3-IGTI11  \n"
     ]
    }
   ],
   "source": [
    "# Dataframes:\n",
    "operations10 = pd.read_csv(pasta + \"operations_D10.csv\")\n",
    "operations5 = pd.read_csv(pasta + \"operations_D5.csv\")\n",
    "operations20 = pd.read_csv(pasta + \"operations_D20.csv\")\n",
    "operations100 = pd.read_csv(pasta + \"operations_D100.csv\")\n",
    "\n",
    "# Top 100 Pares\n",
    "print(\"Operações com 100 pares:\")\n",
    "operations100['Pair'] = operations100['Ticker 1'] + \"-\" + operations100['Ticker 2']\n",
    "print(operations100.tail())\n",
    "\n",
    "# Top 20 Pares\n",
    "print(\"\\nOperações com 20 pares:\")\n",
    "operations20['Pair'] = operations20['Ticker 1'] + \"-\" + operations20['Ticker 2']\n",
    "print(operations20.tail())\n",
    "\n",
    "# Top 10 Pares\n",
    "print(\"\\nOperações com 10 pares:\")\n",
    "operations10['Pair'] = operations10['Ticker 1'] + \"-\" + operations10['Ticker 2']\n",
    "print(operations10.tail())\n",
    "\n",
    "# Top 5 Pares\n",
    "print(\"\\nOperações com 5 pares:\")\n",
    "operations5['Pair'] = operations5['Ticker 1'] + \"-\" + operations5['Ticker 2']\n",
    "print(operations5.tail())"
   ]
  },
  {
   "cell_type": "code",
   "execution_count": 6,
   "id": "91e9c94f",
   "metadata": {
    "id": "91e9c94f"
   },
   "outputs": [],
   "source": [
    "def print_ops(operations):\n",
    "  #print(f\"Converged operations: {sum(operations['Converged'])} | Open operations: {np.shape(operations)[0] - sum(operations['Converged'])}\")\n",
    "  print(f\"Número de operações: {np.shape(operations)[0]}\")\n",
    "  print(f\"Positive Returns: {sum(operations['Retorno total'] > 0)} | Negative: {sum(operations['Retorno total'] < 0)}\")\n",
    "  print(f\"Highest Return: {operations['Retorno total'].max()}\")\n",
    "  print(f\"Lowest Return: {operations['Retorno total'].min()}\")\n",
    "  print(f\"Average Return: {(operations['Retorno total'].mean())}\")\n",
    "  print(f\"Average trade lenght: {operations['Dias'].mean()}\")\n",
    "  print(f\"Convergência: {(operations['Converged'].sum()/np.shape(operations)[0])*100}\")"
   ]
  },
  {
   "cell_type": "code",
   "execution_count": 7,
   "id": "FhGjBgVDHhms",
   "metadata": {
    "colab": {
     "base_uri": "https://localhost:8080/"
    },
    "executionInfo": {
     "elapsed": 6,
     "status": "ok",
     "timestamp": 1708124956404,
     "user": {
      "displayName": "Marcelo “Polecram”",
      "userId": "07802337785347454484"
     },
     "user_tz": 180
    },
    "id": "FhGjBgVDHhms",
    "outputId": "0e2f1e8e-b48d-4f05-8c3f-79218e1bf319"
   },
   "outputs": [
    {
     "name": "stdout",
     "output_type": "stream",
     "text": [
      "Operações com 100 pares:\n",
      "Número de operações: 11285\n",
      "Positive Returns: 6084 | Negative: 5110\n",
      "Highest Return: 1.0986122886621712\n",
      "Lowest Return: -0.9125232342662196\n",
      "Average Return: 0.010521197061289159\n",
      "Average trade lenght: 36.417545414266726\n",
      "Convergência: 65.23704031900753\n",
      "\n",
      "Operações com 20 pares:\n",
      "Número de operações: 2194\n",
      "Positive Returns: 1230 | Negative: 942\n",
      "Highest Return: 0.534988480913657\n",
      "Lowest Return: -0.7578567681906341\n",
      "Average Return: 0.015936658441827754\n",
      "Average trade lenght: 34.43254329990884\n",
      "Convergência: 63.992707383773926\n",
      "\n",
      "Operações com 10 pares:\n",
      "Número de operações: 1117\n",
      "Positive Returns: 610 | Negative: 492\n",
      "Highest Return: 0.534988480913657\n",
      "Lowest Return: -0.6190471636557808\n",
      "Average Return: 0.009638192562292815\n",
      "Average trade lenght: 34.04565801253357\n",
      "Convergência: 62.75738585496866\n",
      "\n",
      "Operações com 5 pares:\n",
      "Número de operações: 565\n",
      "Positive Returns: 304 | Negative: 254\n",
      "Highest Return: 0.3269734844863035\n",
      "Lowest Return: -0.6190471636557808\n",
      "Average Return: 0.005929315562414732\n",
      "Average trade lenght: 33.978761061946905\n",
      "Convergência: 63.008849557522126\n"
     ]
    }
   ],
   "source": [
    "print(\"Operações com 100 pares:\")\n",
    "print_ops(operations100)\n",
    "print(\"\\nOperações com 20 pares:\")\n",
    "print_ops(operations20)\n",
    "print(\"\\nOperações com 10 pares:\")\n",
    "print_ops(operations10)\n",
    "print(\"\\nOperações com 5 pares:\")\n",
    "print_ops(operations5)"
   ]
  },
  {
   "cell_type": "code",
   "execution_count": 8,
   "id": "af939e79",
   "metadata": {
    "id": "af939e79"
   },
   "outputs": [],
   "source": [
    "# Return Distribution\n",
    "def print_ret(operations):\n",
    "  fig = plt.figure(figsize=(15, 7))\n",
    "  ax1 = fig.add_subplot(1, 1, 1)\n",
    "  operations['Retorno total'].hist(bins=50, ax=ax1)\n",
    "  ax1.set_xlabel('Retorno')\n",
    "  ax1.set_ylabel('Amostra')\n",
    "  ax1.set_title('Distribuição dos Retornos')\n",
    "  plt.show()\n"
   ]
  },
  {
   "cell_type": "code",
   "execution_count": 58,
   "id": "2KOh1pAzHlJP",
   "metadata": {
    "colab": {
     "base_uri": "https://localhost:8080/",
     "height": 1000
    },
    "executionInfo": {
     "elapsed": 1527,
     "status": "ok",
     "timestamp": 1708124957926,
     "user": {
      "displayName": "Marcelo “Polecram”",
      "userId": "07802337785347454484"
     },
     "user_tz": 180
    },
    "id": "2KOh1pAzHlJP",
    "outputId": "b2d00be2-f4dc-4069-ef45-017ae3fef00f"
   },
   "outputs": [
    {
     "name": "stdout",
     "output_type": "stream",
     "text": [
      "Operações com 100 pares:\n"
     ]
    },
    {
     "data": {
      "image/png": "[encoded data removed]",
      "text/plain": [
       "<Figure size 1500x700 with 1 Axes>"
      ]
     },
     "metadata": {},
     "output_type": "display_data"
    },
    {
     "name": "stdout",
     "output_type": "stream",
     "text": [
      "\n",
      "Operações com 20 pares:\n"
     ]
    },
    {
     "data": {
      "image/png": "[encoded data removed]",
      "text/plain": [
       "<Figure size 1500x700 with 1 Axes>"
      ]
     },
     "metadata": {},
     "output_type": "display_data"
    },
    {
     "name": "stdout",
     "output_type": "stream",
     "text": [
      "\n",
      "Operações com 10 pares:\n"
     ]
    },
    {
     "data": {
      "image/png": "[encoded data removed]",
      "text/plain": [
       "<Figure size 1500x700 with 1 Axes>"
      ]
     },
     "metadata": {},
     "output_type": "display_data"
    },
    {
     "name": "stdout",
     "output_type": "stream",
     "text": [
      "\n",
      "Operações com 5 pares:\n"
     ]
    },
    {
     "data": {
      "image/png": "[encoded data removed]",
      "text/plain": [
       "<Figure size 1500x700 with 1 Axes>"
      ]
     },
     "metadata": {},
     "output_type": "display_data"
    }
   ],
   "source": [
    "print(\"Operações com 100 pares:\")\n",
    "print_ret(operations100)\n",
    "print(\"\\nOperações com 20 pares:\")\n",
    "print_ret(operations20)\n",
    "print(\"\\nOperações com 10 pares:\")\n",
    "print_ret(operations10)\n",
    "print(\"\\nOperações com 5 pares:\")\n",
    "print_ret(operations5)"
   ]
  },
  {
   "cell_type": "code",
   "execution_count": 10,
   "id": "59383b23",
   "metadata": {
    "id": "59383b23"
   },
   "outputs": [],
   "source": [
    "# Retorno por par\n",
    "def print_rp(operations):\n",
    "  operations_by_pair = operations.groupby(\"Pair\").sum(\"Retorno total\")\n",
    "  print(f\"Número de pares: {np.shape(operations_by_pair)[0]}\")\n",
    "  print(f\"Retorno médio por par: {round(100*operations_by_pair['Retorno total'].mean(),4)}%\")\n",
    "  print(f\"Retorno médio por par por semestre: {round(np.divide(100*operations_by_pair['Retorno total'].mean(),max(operations['Semestre'])+1),4)}%\")"
   ]
  },
  {
   "cell_type": "code",
   "execution_count": 11,
   "id": "JU8FgNINHqPK",
   "metadata": {
    "colab": {
     "base_uri": "https://localhost:8080/"
    },
    "executionInfo": {
     "elapsed": 12,
     "status": "ok",
     "timestamp": 1708124957927,
     "user": {
      "displayName": "Marcelo “Polecram”",
      "userId": "07802337785347454484"
     },
     "user_tz": 180
    },
    "id": "JU8FgNINHqPK",
    "outputId": "01ab1189-cbef-4820-819f-52ead657db97"
   },
   "outputs": [
    {
     "name": "stdout",
     "output_type": "stream",
     "text": [
      "Operações com 100 pares:\n",
      "Número de pares: 2192\n",
      "Retorno médio por par: 5.4166%\n",
      "Retorno médio por par por semestre: 0.0985%\n",
      "\n",
      "Operações com 20 pares:\n",
      "Número de pares: 627\n",
      "Retorno médio por par: 5.5766%\n",
      "Retorno médio por par por semestre: 0.1014%\n",
      "\n",
      "Operações com 10 pares:\n",
      "Número de pares: 345\n",
      "Retorno médio por par: 3.1205%\n",
      "Retorno médio por par por semestre: 0.0567%\n",
      "\n",
      "Operações com 5 pares:\n",
      "Número de pares: 179\n",
      "Retorno médio por par: 1.8715%\n",
      "Retorno médio por par por semestre: 0.034%\n"
     ]
    }
   ],
   "source": [
    "print(\"Operações com 100 pares:\")\n",
    "print_rp(operations100)\n",
    "print(\"\\nOperações com 20 pares:\")\n",
    "print_rp(operations20)\n",
    "print(\"\\nOperações com 10 pares:\")\n",
    "print_rp(operations10)\n",
    "print(\"\\nOperações com 5 pares:\")\n",
    "print_rp(operations5)"
   ]
  },
  {
   "cell_type": "code",
   "execution_count": 31,
   "id": "5c9f64c1",
   "metadata": {
    "id": "5c9f64c1"
   },
   "outputs": [],
   "source": [
    "# Ações com maior participação\n",
    "def participacoes(operations):\n",
    "  stock_count = {}\n",
    "  operations_by_pair = operations.groupby(\"Pair\").sum(\"Retorno total\")\n",
    "  for pair in operations_by_pair.index:\n",
    "      stocks = pair.split(\"-\")\n",
    "      for stock in stocks:\n",
    "          if stock in stock_count:\n",
    "              stock_count[stock] += 1\n",
    "          else:\n",
    "              stock_count[stock] = 1\n",
    "  stock_count_df = pd.DataFrame(stock_count.items())\n",
    "  stock_count_df = stock_count_df.sort_values(1)\n",
    "  stock_count_df.to_csv(pasta + \"stock_count_20_pairs.csv\")\n",
    "  print(stock_count_df)"
   ]
  },
  {
   "cell_type": "code",
   "execution_count": 57,
   "id": "a5566280-9031-45fd-950d-613a7fd798b5",
   "metadata": {},
   "outputs": [
    {
     "name": "stdout",
     "output_type": "stream",
     "text": [
      "Top pares com 5 pares:\n",
      "Pair\n",
      "BBDC4-BBDC3    35\n",
      "ELET3-ELET6    26\n",
      "CMIG4-CMIG3    22\n",
      "USIM5-USIM3    16\n",
      "VIVO3-VIVO4    14\n",
      "Name: count, dtype: int64\n",
      "\n",
      "Top pares com 10 pares:\n",
      "Pair\n",
      "BBDC4-BBDC3    41\n",
      "ELET3-ELET6    28\n",
      "CMIG4-CMIG3    28\n",
      "USIM5-USIM3    17\n",
      "EBTP3-EBTP4    16\n",
      "Name: count, dtype: int64\n",
      "\n",
      "Top pares com 20 pares:\n",
      "Pair\n",
      "BBDC4-BBDC3    50\n",
      "ELET3-ELET6    31\n",
      "CMIG4-CMIG3    29\n",
      "USIM5-USIM3    21\n",
      "EBTP3-EBTP4    20\n",
      "Name: count, dtype: int64\n",
      "\n",
      "Top pares com 100 pares:\n",
      "Pair\n",
      "BBDC4-BBDC3    94\n",
      "GGBR4-GOAU4    64\n",
      "CMIG4-CMIG3    58\n",
      "EBTP3-EBTP4    55\n",
      "OIBR3-OIBR4    43\n",
      "Name: count, dtype: int64\n"
     ]
    }
   ],
   "source": [
    "print(\"Top pares com 5 pares:\")\n",
    "contagem_nomes = operations5['Pair'].value_counts()\n",
    "print(contagem_nomes.head(5))\n",
    "print(\"\\nTop pares com 10 pares:\")\n",
    "contagem_nomes = operations10['Pair'].value_counts()\n",
    "print(contagem_nomes.head(5))\n",
    "print(\"\\nTop pares com 20 pares:\")\n",
    "contagem_nomes = operations20['Pair'].value_counts()\n",
    "print(contagem_nomes.head(5))\n",
    "print(\"\\nTop pares com 100 pares:\")\n",
    "contagem_nomes = operations100['Pair'].value_counts()\n",
    "print(contagem_nomes.head(5))"
   ]
  },
  {
   "cell_type": "code",
   "execution_count": 32,
   "id": "w6eXWYs6IBBw",
   "metadata": {
    "colab": {
     "base_uri": "https://localhost:8080/"
    },
    "executionInfo": {
     "elapsed": 310,
     "status": "ok",
     "timestamp": 1708124958228,
     "user": {
      "displayName": "Marcelo “Polecram”",
      "userId": "07802337785347454484"
     },
     "user_tz": 180
    },
    "id": "w6eXWYs6IBBw",
    "outputId": "57af8bef-a20c-435b-a73a-5fda2d60f188"
   },
   "outputs": [
    {
     "name": "stdout",
     "output_type": "stream",
     "text": [
      "Operações com 100 pares:\n",
      "         0   1\n",
      "195  PRIO3   1\n",
      "147  SHAP4   1\n",
      "176  EBEN4   1\n",
      "177  EBTP3   1\n",
      "151  BNCA3   1\n",
      "..     ...  ..\n",
      "0    ABEV3  58\n",
      "75   CLSC4  60\n",
      "2    BBAS3  61\n",
      "3    BBDC3  63\n",
      "187  ITUB4  70\n",
      "\n",
      "[196 rows x 2 columns]\n",
      "\n",
      "Operações com 20 pares:\n",
      "         0   1\n",
      "164  CTIP3   1\n",
      "47   SOMA3   1\n",
      "125  TNEP4   1\n",
      "133  SLCE3   1\n",
      "113  POSI3   1\n",
      "..     ...  ..\n",
      "128  VIVT3  24\n",
      "49   BBAS3  26\n",
      "145  ITUB4  28\n",
      "75   BBDC4  30\n",
      "1    BBDC3  30\n",
      "\n",
      "[165 rows x 2 columns]\n",
      "\n",
      "Operações com 10 pares:\n",
      "         0   1\n",
      "68   CSTB4   1\n",
      "19   ARZZ3   1\n",
      "92   TNEP4   1\n",
      "119  LOGG3   1\n",
      "117  JHSF3   1\n",
      "..     ...  ..\n",
      "24   BBAS3  15\n",
      "18   CRUZ3  16\n",
      "114  ITUB4  17\n",
      "43   BBDC4  20\n",
      "36   BBDC3  20\n",
      "\n",
      "[143 rows x 2 columns]\n",
      "\n",
      "Operações com 5 pares:\n",
      "        0   1\n",
      "58  TCSL4   1\n",
      "86  POMO4   1\n",
      "85  AEDU3   1\n",
      "83  HGTX3   1\n",
      "82  TAMM4   1\n",
      "..    ...  ..\n",
      "18  EGIE3   9\n",
      "9   CRUZ3  11\n",
      "22  BBDC3  11\n",
      "87  ITUB4  12\n",
      "26  BBDC4  14\n",
      "\n",
      "[117 rows x 2 columns]\n"
     ]
    }
   ],
   "source": [
    "print(\"Operações com 100 pares:\")\n",
    "participacoes(operations100)\n",
    "print(\"\\nOperações com 20 pares:\")\n",
    "participacoes(operations20)\n",
    "print(\"\\nOperações com 10 pares:\")\n",
    "participacoes(operations10)\n",
    "print(\"\\nOperações com 5 pares:\")\n",
    "participacoes(operations5)"
   ]
  },
  {
   "cell_type": "code",
   "execution_count": null,
   "id": "9f5d9d34",
   "metadata": {
    "colab": {
     "base_uri": "https://localhost:8080/",
     "height": 447
    },
    "executionInfo": {
     "elapsed": 633,
     "status": "ok",
     "timestamp": 1708124958859,
     "user": {
      "displayName": "Marcelo “Polecram”",
      "userId": "07802337785347454484"
     },
     "user_tz": 180
    },
    "id": "9f5d9d34",
    "outputId": "443141d6-09ac-49a6-ddf6-02e997f51d7d"
   },
   "outputs": [],
   "source": [
    "'''\n",
    "def rate_interest(principal, final_amount, time):\n",
    "    rate = (100 * (final_amount/principal)**(1/time)) - 100\n",
    "    print(\"Compound interest rate is\", rate, \"%\")\n",
    "\n",
    "daily_returns = pd.read_csv(pasta + \"daily_returns.csv\")\n",
    "daily_returns = daily_returns.iloc[252:,:]\n",
    "daily_returns = daily_returns / 35\n",
    "cumulative = np.cumprod(1+daily_returns)\n",
    "cumulative.plot()\n",
    "rate_interest(1,cumulative.values[-1],25)\n",
    "'''"
   ]
  },
  {
   "cell_type": "code",
   "execution_count": null,
   "id": "ccba54aa",
   "metadata": {
    "colab": {
     "base_uri": "https://localhost:8080/"
    },
    "executionInfo": {
     "elapsed": 6,
     "status": "ok",
     "timestamp": 1708124958859,
     "user": {
      "displayName": "Marcelo “Polecram”",
      "userId": "07802337785347454484"
     },
     "user_tz": 180
    },
    "id": "ccba54aa",
    "outputId": "5e1058e2-54a9-44aa-a6a4-4936565ef1b6"
   },
   "outputs": [],
   "source": [
    "'''\n",
    "# Cálculo do Sharpe para o período do estudo\n",
    "mean_daily_return = daily_returns.values.mean()\n",
    "print(f\"Mean daily return: {mean_daily_return}\")\n",
    "returns_std_dev = daily_returns.values.std()\n",
    "\n",
    "risk_free_mean = risk_free_rates['daily'].mean()\n",
    "print(f\"Mean risk free return: {risk_free_mean}\")\n",
    "\n",
    "print(f\"Fully Invested Sharpe Ratio: {(mean_daily_return - risk_free_mean) / returns_std_dev}\")\n",
    "'''"
   ]
  },
  {
   "cell_type": "code",
   "execution_count": null,
   "id": "5e7da12b",
   "metadata": {
    "id": "5e7da12b"
   },
   "outputs": [],
   "source": []
  },
  {
   "cell_type": "markdown",
   "id": "JJFPG9NWhwe0",
   "metadata": {
    "id": "JJFPG9NWhwe0"
   },
   "source": [
    "Rascunho"
   ]
  },
  {
   "cell_type": "code",
   "execution_count": null,
   "id": "EVK66bbYhyfS",
   "metadata": {
    "colab": {
     "base_uri": "https://localhost:8080/"
    },
    "executionInfo": {
     "elapsed": 11,
     "status": "ok",
     "timestamp": 1708125720525,
     "user": {
      "displayName": "Marcelo “Polecram”",
      "userId": "07802337785347454484"
     },
     "user_tz": 180
    },
    "id": "EVK66bbYhyfS",
    "outputId": "b349f441-2c20-44c9-d038-bb9e0d8d623c"
   },
   "outputs": [],
   "source": [
    "operations20['Retorno total'].sum()"
   ]
  },
  {
   "cell_type": "code",
   "execution_count": null,
   "id": "IHgtiFZWh1Pq",
   "metadata": {
    "id": "IHgtiFZWh1Pq"
   },
   "outputs": [],
   "source": [
    "'''# prompt: Usando o DataFrame operations: plot operations['Retorno total'] as a time series\n",
    "\n",
    "import pandas as pd\n",
    "\n",
    "# convert 'Semestre' column to datetime\n",
    "#operations['Semestre'] = pd.to_datetime(operations['Semestre'].astype(str) + '-01-01')\n",
    "\n",
    "# create the plot\n",
    "import altair as alt\n",
    "alt.Chart(operations).mark_line().encode(\n",
    "    x='Semestre',\n",
    "    y='Retorno total'\n",
    ")\n",
    "'''"
   ]
  },
  {
   "cell_type": "code",
   "execution_count": null,
   "id": "RhHd_ZvUiboL",
   "metadata": {
    "id": "RhHd_ZvUiboL"
   },
   "outputs": [],
   "source": []
  }
 ],
 "metadata": {
  "colab": {
   "provenance": []
  },
  "kernelspec": {
   "display_name": "Python 3 (ipykernel)",
   "language": "python",
   "name": "python3"
  },
  "language_info": {
   "codemirror_mode": {
    "name": "ipython",
    "version": 3
   },
   "file_extension": ".py",
   "mimetype": "text/x-python",
   "name": "python",
   "nbconvert_exporter": "python",
   "pygments_lexer": "ipython3",
   "version": "3.10.12"
  }
 },
 "nbformat": 4,
 "nbformat_minor": 5
}
