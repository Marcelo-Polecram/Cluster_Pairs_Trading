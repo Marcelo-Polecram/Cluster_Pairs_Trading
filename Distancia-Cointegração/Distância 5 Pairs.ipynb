{
 "cells": [
  {
   "cell_type": "code",
   "execution_count": 1,
   "id": "ba107c2b-0556-4883-9b2a-b2432e82a966",
   "metadata": {},
   "outputs": [],
   "source": [
    "import warnings\n",
    "warnings.filterwarnings('ignore')"
   ]
  },
  {
   "cell_type": "code",
   "execution_count": 2,
   "id": "87b34d34",
   "metadata": {
    "executionInfo": {
     "elapsed": 579,
     "status": "ok",
     "timestamp": 1707526845183,
     "user": {
      "displayName": "Marcelo “Polecram”",
      "userId": "07802337785347454484"
     },
     "user_tz": 180
    },
    "id": "87b34d34"
   },
   "outputs": [],
   "source": [
    "import math\n",
    "import numpy as np\n",
    "import pandas as pd\n",
    "from tqdm import tqdm\n",
    "from pathlib import Path\n",
    "import sys\n",
    "import os\n",
    "import datetime"
   ]
  },
  {
   "cell_type": "code",
   "execution_count": 3,
   "id": "146df05f",
   "metadata": {
    "executionInfo": {
     "elapsed": 410,
     "status": "ok",
     "timestamp": 1707526845580,
     "user": {
      "displayName": "Marcelo “Polecram”",
      "userId": "07802337785347454484"
     },
     "user_tz": 180
    },
    "id": "146df05f"
   },
   "outputs": [
    {
     "data": {
      "text/plain": [
       "'\\nfrom google.colab import drive\\ndrive.mount(\\'/content/drive\\')\\n\\npasta = str(\"/content/drive/MyDrive/Python/TCC-Cloud/Data/\")\\nprint(pasta)\\n\\npreços = pd.read_csv(pasta + \"Preços.csv\",index_col=\\'Data\\',parse_dates=True)\\nsemestres = pd.read_csv(pasta + \"Semestres.csv\",parse_dates=True)\\n\\nDatas = pd.DataFrame(preços.index)\\nDatas[\\'indice\\'] = Datas.index\\nlog_data = np.log(preços)\\n'"
      ]
     },
     "execution_count": 3,
     "metadata": {},
     "output_type": "execute_result"
    }
   ],
   "source": [
    "# Usando Google Colab:\n",
    "'''\n",
    "from google.colab import drive\n",
    "drive.mount('/content/drive')\n",
    "\n",
    "pasta = str(\"/content/drive/MyDrive/Python/TCC-Cloud/Data/\")\n",
    "print(pasta)\n",
    "\n",
    "preços = pd.read_csv(pasta + \"Preços.csv\",index_col='Data',parse_dates=True)\n",
    "semestres = pd.read_csv(pasta + \"Semestres.csv\",parse_dates=True)\n",
    "\n",
    "Datas = pd.DataFrame(preços.index)\n",
    "Datas['indice'] = Datas.index\n",
    "log_data = np.log(preços)\n",
    "'''"
   ]
  },
  {
   "cell_type": "code",
   "execution_count": 4,
   "id": "3e754c92-c9a7-4c71-a0f7-60c92a214115",
   "metadata": {},
   "outputs": [
    {
     "name": "stdout",
     "output_type": "stream",
     "text": [
      "/mnt/c/Users/MarceloPolecram/Python/MEU_TCC\n"
     ]
    }
   ],
   "source": [
    "# Especificando o caminho padrão do projeto no computador:\n",
    "pasta = str(Path.cwd().parents[0])\n",
    "print(pasta)\n",
    "\n",
    "preços = pd.read_csv(pasta + \"/Data/Preços.csv\",index_col='Data',parse_dates=True)\n",
    "semestres = pd.read_csv(pasta + \"/Data/Semestres.csv\",parse_dates=True)\n",
    "\n",
    "Datas = pd.DataFrame(preços.index)\n",
    "Datas['indice'] = Datas.index\n",
    "log_data = np.log(preços)"
   ]
  },
  {
   "cell_type": "code",
   "execution_count": 5,
   "id": "hQ0kIQ5yCnpY",
   "metadata": {
    "executionInfo": {
     "elapsed": 20,
     "status": "ok",
     "timestamp": 1707526845184,
     "user": {
      "displayName": "Marcelo “Polecram”",
      "userId": "07802337785347454484"
     },
     "user_tz": 180
    },
    "id": "hQ0kIQ5yCnpY"
   },
   "outputs": [],
   "source": [
    "def calculate_profit(pair, spread, threshold, par1, par2, resumo, semester):\n",
    "\n",
    "    date_format = \"%Y-%m-%d\"\n",
    "\n",
    "    log_ret = spread.diff() # log return eh o incremento\n",
    "    dias = spread.index\n",
    "\n",
    "    portfolio_return = []\n",
    "    pos = 0 # 0: sem posição aberta\n",
    "            # 1: Comprei o meu portfolio h = (1,-gamma)\n",
    "            # -1: Vendi o meu portfolio h = -(1,-gamma)\n",
    "\n",
    "    dias_abertura = []\n",
    "    dias_fechamento = []\n",
    "\n",
    "    count = 0\n",
    "    dia_abertura = 0\n",
    "    dia_fechamento = 0\n",
    "\n",
    "    closing_threshold = 0.0\n",
    "\n",
    "    for i in range(1, len(spread)):\n",
    "        if (spread.iloc[i][0] > threshold) and (pos == 0):\n",
    "            # Posição fechada no par e com sinal short 1st e long 2nd\n",
    "            pos = -1\n",
    "\n",
    "            count += 1\n",
    "            dia_abertura = dias[i] - dias[0]\n",
    "            retornos_op = []\n",
    "\n",
    "\n",
    "        elif (spread.iloc[i][0] < -threshold)  and (pos == 0):\n",
    "            # Posição fechada no par e com sinal de long 1st e short 2nd\n",
    "            pos = 1\n",
    "\n",
    "            count += 1\n",
    "            dia_abertura = dias[i] - dias[0]\n",
    "            retornos_op = []\n",
    "\n",
    "        else:\n",
    "            if (pos != 0) and ((dias[i] - dias[0] - dia_abertura) == duration_limit):\n",
    "                #Fechando operações maiores que 50 dias\n",
    "                portfolio_return.append(log_ret.iloc[i][0]*pos)\n",
    "                pos = 0\n",
    "                dia_fechamento = dias[i] - dias[0]\n",
    "                delta_dias = dia_fechamento - dia_abertura\n",
    "                retornos_op.append(log_ret.iloc[i][0]*pos)\n",
    "                retorno_op = pd.Series(retornos_op).sum()\n",
    "\n",
    "\n",
    "                resumo.append([count, semester, dia_abertura, dia_fechamento, delta_dias, retorno_op, par1, par2, True])\n",
    "\n",
    "            elif (pos == 1) and (spread.iloc[i][0] >= -closing_threshold):\n",
    "                # Posição vendida aberta no par e com sinal de convergência\n",
    "                portfolio_return.append(log_ret.iloc[i][0]*pos)\n",
    "                pos = 0\n",
    "\n",
    "                dia_fechamento = dias[i] - dias[0]\n",
    "                delta_dias = dia_fechamento - dia_abertura\n",
    "                retornos_op.append(log_ret.iloc[i][0]*pos)\n",
    "                retorno_op = pd.Series(retornos_op).sum()\n",
    "\n",
    "\n",
    "                resumo.append([count, semester, dia_abertura, dia_fechamento, delta_dias, retorno_op, par1, par2, True])\n",
    "\n",
    "            elif (pos == -1) and (spread.iloc[i][0] <= closing_threshold):\n",
    "                portfolio_return.append(log_ret.iloc[i][0]*pos)\n",
    "                pos = 0\n",
    "\n",
    "                dia_fechamento = dias[i] - dias[0]\n",
    "                delta_dias = dia_fechamento - dia_abertura\n",
    "                retornos_op.append(log_ret.iloc[i][0]*pos)\n",
    "                retorno_op = pd.Series(retornos_op).sum()\n",
    "\n",
    "\n",
    "                resumo.append([count, semester, dia_abertura, dia_fechamento, delta_dias, retorno_op, par1, par2, True])\n",
    "\n",
    "            elif (pos == 1) and (spread.iloc[i][0] < -closing_threshold):\n",
    "                # Posição vendidada aberta no par aberta e sem convergência\n",
    "                portfolio_return.append(log_ret.iloc[i][0]*pos)\n",
    "                retornos_op.append(log_ret.iloc[i][0]*pos)\n",
    "\n",
    "\n",
    "            elif (pos == -1) and (spread.iloc[i][0] > closing_threshold):\n",
    "                portfolio_return.append(log_ret.iloc[i][0]*pos)\n",
    "                retornos_op.append(log_ret.iloc[i][0]*pos)\n",
    "\n",
    "\n",
    "            else:\n",
    "                # Sem posição aberta e nem sinal de entrada\n",
    "\n",
    "                if pos != 0:\n",
    "                    dia_fechamento = dias[i] - dias[0]\n",
    "                    delta_dias = dia_fechamento - dia_abertura\n",
    "                    retornos_op.append(log_ret.iloc[i][0]*pos)\n",
    "                    retorno_op = pd.Series(retornos_op).sum()\n",
    "\n",
    "                    resumo.append([count, semester, dia_abertura, dia_fechamento, delta_dias, retorno_op, par1, par2, True])\n",
    "\n",
    "                pos = 0\n",
    "\n",
    "    if pos != 0:\n",
    "        # Operação sem convergência\n",
    "        pos = 0\n",
    "\n",
    "        dia_fechamento = dias[i] - dias[0]\n",
    "        delta_dias = dia_fechamento - dia_abertura\n",
    "        retorno_op = pd.Series(retornos_op).sum()\n",
    "        print(f\"Par {par1}-{par2} sem convergência, retorno_op: {retorno_op}\")\n",
    "        resumo.append([count, semester, dia_abertura, dia_fechamento, delta_dias, retorno_op, par1, par2, False])\n",
    "\n",
    "    #print(f\"Total return: {sum(pair_returns)} | Pair returns: {pair_returns}\")\n",
    "    #print(f\"Conversão do par: {pos}\")\n",
    "    total_ret = pd.Series(portfolio_return).sum()\n",
    "\n",
    "    return total_ret, resumo"
   ]
  },
  {
   "cell_type": "code",
   "execution_count": null,
   "id": "5AzgDA-Doiza",
   "metadata": {
    "colab": {
     "base_uri": "https://localhost:8080/",
     "height": 35
    },
    "executionInfo": {
     "elapsed": 19,
     "status": "ok",
     "timestamp": 1707526845185,
     "user": {
      "displayName": "Marcelo “Polecram”",
      "userId": "07802337785347454484"
     },
     "user_tz": 180
    },
    "id": "5AzgDA-Doiza",
    "outputId": "c028042d-a99d-4d87-bdda-c5b9fcbec90b"
   },
   "outputs": [],
   "source": []
  },
  {
   "cell_type": "code",
   "execution_count": 6,
   "id": "fafeb7b8",
   "metadata": {
    "executionInfo": {
     "elapsed": 436,
     "status": "ok",
     "timestamp": 1707526846011,
     "user": {
      "displayName": "Marcelo “Polecram”",
      "userId": "07802337785347454484"
     },
     "user_tz": 180
    },
    "id": "fafeb7b8"
   },
   "outputs": [],
   "source": [
    "daylag = 0\n",
    "wi_update = 1\n",
    "years = 2023 - 1995\n",
    "\n",
    "no_pairs = 5\n",
    "days, num_assets = np.shape(preços)\n",
    "trading_costs = 0\n",
    "# buy/sell (percentage cost for opening and closing pairs: 0.001, 0.002, for example)\n",
    "percentage_costs = 0\n",
    "# set whether (0) or not (2) positive trading volume is required for opening/closing a pair\n",
    "trade_req = 0\n",
    "# Choose how much loss we are willing to accePt on a given pair, compared to 1, i.e, 0.93 = 7% stop loss\n",
    "stop_loss = float('-inf')\n",
    "\n",
    "# Choose how much gain we are willing to accePt on a given pair, compared to 1, i.e 1.10 = 10% stop gain\n",
    "stop_gain = float('inf')\n",
    "opening_threshold = 2\n",
    "closing_threshold = 0.0\n",
    "\n",
    "duration_limit = 50"
   ]
  },
  {
   "cell_type": "code",
   "execution_count": 7,
   "id": "0dcfdd34",
   "metadata": {
    "colab": {
     "base_uri": "https://localhost:8080/"
    },
    "executionInfo": {
     "elapsed": 134066,
     "status": "ok",
     "timestamp": 1707526980058,
     "user": {
      "displayName": "Marcelo “Polecram”",
      "userId": "07802337785347454484"
     },
     "user_tz": 180
    },
    "id": "0dcfdd34",
    "outputId": "a4cc0857-869b-4ec9-ef49-9a529a929f84"
   },
   "outputs": [
    {
     "name": "stdout",
     "output_type": "stream",
     "text": [
      "Starting period 0 | Past days: 0\n",
      "Listed stocks for the period: 57\n"
     ]
    },
    {
     "name": "stderr",
     "output_type": "stream",
     "text": [
      "100%|██████████████████████████████████████████████████████████████████████████████████| 56/56 [00:00<00:00, 141.59it/s]\n"
     ]
    },
    {
     "name": "stdout",
     "output_type": "stream",
     "text": [
      "SSE shape: (57, 57)\n",
      "Minimum SSE = 1.1470111572247645\n",
      "Minimum SSE = 1.2292074671340252\n",
      "Minimum SSE = 1.4172821904116257\n",
      "Minimum SSE = 1.469926115829889\n",
      "Minimum SSE = 1.6763074444726849\n",
      "Starting period 1 | Past days: 389\n",
      "Listed stocks for the period: 60\n"
     ]
    },
    {
     "name": "stderr",
     "output_type": "stream",
     "text": [
      "100%|██████████████████████████████████████████████████████████████████████████████████| 59/59 [00:00<00:00, 135.04it/s]\n"
     ]
    },
    {
     "name": "stdout",
     "output_type": "stream",
     "text": [
      "SSE shape: (60, 60)\n",
      "Minimum SSE = 2.034667646393423\n",
      "Minimum SSE = 2.1760679753098473\n",
      "Minimum SSE = 2.295011452873681\n",
      "Minimum SSE = 2.4118901056766444\n",
      "Minimum SSE = 2.6992165314117873\n",
      "Starting period 2 | Past days: 521\n",
      "Listed stocks for the period: 60\n"
     ]
    },
    {
     "name": "stderr",
     "output_type": "stream",
     "text": [
      "100%|██████████████████████████████████████████████████████████████████████████████████| 59/59 [00:00<00:00, 121.39it/s]\n"
     ]
    },
    {
     "name": "stdout",
     "output_type": "stream",
     "text": [
      "SSE shape: (60, 60)\n",
      "Minimum SSE = 1.0739142744727166\n",
      "Minimum SSE = 1.931359827818309\n",
      "Minimum SSE = 2.232588531433119\n",
      "Minimum SSE = 2.4154667350132417\n",
      "Minimum SSE = 2.434201228450195\n",
      "Starting period 3 | Past days: 650\n",
      "Listed stocks for the period: 63\n"
     ]
    },
    {
     "name": "stderr",
     "output_type": "stream",
     "text": [
      "100%|██████████████████████████████████████████████████████████████████████████████████| 62/62 [00:00<00:00, 114.42it/s]\n"
     ]
    },
    {
     "name": "stdout",
     "output_type": "stream",
     "text": [
      "SSE shape: (63, 63)\n",
      "Minimum SSE = 0.4901121092402942\n",
      "Minimum SSE = 0.8209359897775378\n",
      "Minimum SSE = 1.7276520475602382\n",
      "Minimum SSE = 2.1827365407197665\n",
      "Minimum SSE = 2.2934388443696583\n",
      "Starting period 4 | Past days: 782\n",
      "Listed stocks for the period: 62\n"
     ]
    },
    {
     "name": "stderr",
     "output_type": "stream",
     "text": [
      "100%|██████████████████████████████████████████████████████████████████████████████████| 61/61 [00:00<00:00, 109.33it/s]\n"
     ]
    },
    {
     "name": "stdout",
     "output_type": "stream",
     "text": [
      "SSE shape: (62, 62)\n",
      "Minimum SSE = 0.48027995940699464\n",
      "Minimum SSE = 0.8043746655701365\n",
      "Minimum SSE = 1.036589562492997\n",
      "Minimum SSE = 1.4176589320715343\n",
      "Minimum SSE = 1.8128079184807075\n",
      "Starting period 5 | Past days: 911\n",
      "Listed stocks for the period: 60\n"
     ]
    },
    {
     "name": "stderr",
     "output_type": "stream",
     "text": [
      "100%|███████████████████████████████████████████████████████████████████████████████████| 59/59 [00:00<00:00, 95.99it/s]\n"
     ]
    },
    {
     "name": "stdout",
     "output_type": "stream",
     "text": [
      "SSE shape: (60, 60)\n",
      "Minimum SSE = 1.1028710072644878\n",
      "Minimum SSE = 2.412313349951466\n",
      "Minimum SSE = 3.1460199542444314\n",
      "Minimum SSE = 3.3053000563795374\n",
      "Minimum SSE = 3.811671340366517\n",
      "Starting period 6 | Past days: 1043\n",
      "Listed stocks for the period: 69\n"
     ]
    },
    {
     "name": "stderr",
     "output_type": "stream",
     "text": [
      "100%|███████████████████████████████████████████████████████████████████████████████████| 68/68 [00:00<00:00, 98.50it/s]\n"
     ]
    },
    {
     "name": "stdout",
     "output_type": "stream",
     "text": [
      "SSE shape: (69, 69)\n",
      "Minimum SSE = 3.6288369409689354\n",
      "Minimum SSE = 4.306966731793296\n",
      "Minimum SSE = 4.309527325683544\n",
      "Minimum SSE = 5.49669479029634\n",
      "Minimum SSE = 5.757946957866769\n",
      "Starting period 7 | Past days: 1172\n",
      "Listed stocks for the period: 90\n"
     ]
    },
    {
     "name": "stderr",
     "output_type": "stream",
     "text": [
      "100%|███████████████████████████████████████████████████████████████████████████████████| 89/89 [00:01<00:00, 86.78it/s]\n"
     ]
    },
    {
     "name": "stdout",
     "output_type": "stream",
     "text": [
      "SSE shape: (90, 90)\n",
      "Minimum SSE = 2.869482780166146\n",
      "Minimum SSE = 3.386849940064497\n",
      "Minimum SSE = 3.4390808106797937\n",
      "Minimum SSE = 3.741464649123015\n",
      "Minimum SSE = 4.648494381324644\n",
      "Starting period 8 | Past days: 1304\n",
      "Listed stocks for the period: 90\n"
     ]
    },
    {
     "name": "stderr",
     "output_type": "stream",
     "text": [
      "100%|███████████████████████████████████████████████████████████████████████████████████| 89/89 [00:01<00:00, 78.86it/s]\n"
     ]
    },
    {
     "name": "stdout",
     "output_type": "stream",
     "text": [
      "SSE shape: (90, 90)\n",
      "Minimum SSE = 2.100123664317853\n",
      "Minimum SSE = 2.5146416624717243\n",
      "Minimum SSE = 2.7724775377678688\n",
      "Minimum SSE = 2.8193915960130576\n",
      "Minimum SSE = 2.843540027072207\n",
      "Starting period 9 | Past days: 1434\n",
      "Listed stocks for the period: 93\n"
     ]
    },
    {
     "name": "stderr",
     "output_type": "stream",
     "text": [
      "100%|███████████████████████████████████████████████████████████████████████████████████| 92/92 [00:01<00:00, 54.92it/s]\n"
     ]
    },
    {
     "name": "stdout",
     "output_type": "stream",
     "text": [
      "SSE shape: (93, 93)\n",
      "Minimum SSE = 2.13882628303459\n",
      "Minimum SSE = 2.214769180366527\n",
      "Minimum SSE = 2.4057719015354104\n",
      "Minimum SSE = 2.525511595692487\n",
      "Minimum SSE = 2.7410596692665683\n",
      "Starting period 10 | Past days: 1564\n",
      "Listed stocks for the period: 93\n"
     ]
    },
    {
     "name": "stderr",
     "output_type": "stream",
     "text": [
      "100%|███████████████████████████████████████████████████████████████████████████████████| 92/92 [00:01<00:00, 67.40it/s]\n"
     ]
    },
    {
     "name": "stdout",
     "output_type": "stream",
     "text": [
      "SSE shape: (93, 93)\n",
      "Minimum SSE = 1.3478296265269518\n",
      "Minimum SSE = 1.776341642953644\n",
      "Minimum SSE = 1.9014310705810895\n",
      "Minimum SSE = 1.9206953173280028\n",
      "Minimum SSE = 2.2466570301997892\n",
      "Starting period 11 | Past days: 1694\n",
      "Listed stocks for the period: 91\n"
     ]
    },
    {
     "name": "stderr",
     "output_type": "stream",
     "text": [
      "100%|███████████████████████████████████████████████████████████████████████████████████| 90/90 [00:01<00:00, 52.47it/s]\n"
     ]
    },
    {
     "name": "stdout",
     "output_type": "stream",
     "text": [
      "SSE shape: (91, 91)\n",
      "Minimum SSE = 1.2923006861877737\n",
      "Minimum SSE = 1.3969178627638092\n",
      "Minimum SSE = 1.6291988476290984\n",
      "Minimum SSE = 1.7513773907180863\n",
      "Minimum SSE = 1.8468981859719842\n",
      "Starting period 12 | Past days: 1825\n",
      "Listed stocks for the period: 86\n"
     ]
    },
    {
     "name": "stderr",
     "output_type": "stream",
     "text": [
      "100%|███████████████████████████████████████████████████████████████████████████████████| 85/85 [00:01<00:00, 75.93it/s]\n"
     ]
    },
    {
     "name": "stdout",
     "output_type": "stream",
     "text": [
      "SSE shape: (86, 86)\n",
      "Minimum SSE = 0.5263974551429944\n",
      "Minimum SSE = 0.5927153676065371\n",
      "Minimum SSE = 0.6280974310097713\n",
      "Minimum SSE = 0.8147066657109909\n",
      "Minimum SSE = 1.4678047968253338\n",
      "Starting period 13 | Past days: 1954\n",
      "Listed stocks for the period: 86\n"
     ]
    },
    {
     "name": "stderr",
     "output_type": "stream",
     "text": [
      "100%|███████████████████████████████████████████████████████████████████████████████████| 85/85 [00:01<00:00, 77.38it/s]\n"
     ]
    },
    {
     "name": "stdout",
     "output_type": "stream",
     "text": [
      "SSE shape: (86, 86)\n",
      "Minimum SSE = 0.7938158139801684\n",
      "Minimum SSE = 0.9023641235540897\n",
      "Minimum SSE = 0.9271407093245706\n",
      "Minimum SSE = 1.7419859020621058\n",
      "Minimum SSE = 2.1713988454818436\n",
      "Starting period 14 | Past days: 2086\n",
      "Listed stocks for the period: 87\n"
     ]
    },
    {
     "name": "stderr",
     "output_type": "stream",
     "text": [
      "100%|███████████████████████████████████████████████████████████████████████████████████| 86/86 [00:01<00:00, 77.81it/s]\n"
     ]
    },
    {
     "name": "stdout",
     "output_type": "stream",
     "text": [
      "SSE shape: (87, 87)\n",
      "Minimum SSE = 1.0895316431752944\n",
      "Minimum SSE = 1.352920837397099\n",
      "Minimum SSE = 1.3679396541409046\n",
      "Minimum SSE = 1.3791667326192036\n",
      "Minimum SSE = 1.5569921634656987\n",
      "Starting period 15 | Past days: 2215\n",
      "Listed stocks for the period: 87\n"
     ]
    },
    {
     "name": "stderr",
     "output_type": "stream",
     "text": [
      "100%|███████████████████████████████████████████████████████████████████████████████████| 86/86 [00:01<00:00, 76.13it/s]\n"
     ]
    },
    {
     "name": "stdout",
     "output_type": "stream",
     "text": [
      "SSE shape: (87, 87)\n",
      "Minimum SSE = 1.6167395342668645\n",
      "Minimum SSE = 1.7606683219137527\n",
      "Minimum SSE = 1.8951861509519539\n",
      "Minimum SSE = 1.9960841598581267\n",
      "Minimum SSE = 2.021996600944316\n",
      "Starting period 16 | Past days: 2347\n",
      "Listed stocks for the period: 90\n"
     ]
    },
    {
     "name": "stderr",
     "output_type": "stream",
     "text": [
      "100%|███████████████████████████████████████████████████████████████████████████████████| 89/89 [00:01<00:00, 81.58it/s]\n"
     ]
    },
    {
     "name": "stdout",
     "output_type": "stream",
     "text": [
      "SSE shape: (90, 90)\n",
      "Minimum SSE = 1.5451256761521215\n",
      "Minimum SSE = 1.6238488434818306\n",
      "Minimum SSE = 1.8873220496385623\n",
      "Minimum SSE = 1.9515683646218427\n",
      "Minimum SSE = 2.0093834814161435\n",
      "Starting period 17 | Past days: 2477\n",
      "Listed stocks for the period: 89\n"
     ]
    },
    {
     "name": "stderr",
     "output_type": "stream",
     "text": [
      "100%|███████████████████████████████████████████████████████████████████████████████████| 88/88 [00:01<00:00, 86.93it/s]\n"
     ]
    },
    {
     "name": "stdout",
     "output_type": "stream",
     "text": [
      "SSE shape: (89, 89)\n",
      "Minimum SSE = 1.292820810232529\n",
      "Minimum SSE = 1.5219453799381577\n",
      "Minimum SSE = 1.5874874746685905\n",
      "Minimum SSE = 1.799164948916644\n",
      "Minimum SSE = 1.8342956237800045\n",
      "Starting period 18 | Past days: 2609\n",
      "Listed stocks for the period: 88\n"
     ]
    },
    {
     "name": "stderr",
     "output_type": "stream",
     "text": [
      "100%|███████████████████████████████████████████████████████████████████████████████████| 87/87 [00:01<00:00, 80.56it/s]\n"
     ]
    },
    {
     "name": "stdout",
     "output_type": "stream",
     "text": [
      "SSE shape: (88, 88)\n",
      "Minimum SSE = 1.2052852079379361\n",
      "Minimum SSE = 1.3861895181501178\n",
      "Minimum SSE = 1.391180519202559\n",
      "Minimum SSE = 1.4915491427820176\n",
      "Minimum SSE = 1.6802000700005935\n",
      "Starting period 19 | Past days: 2738\n",
      "Listed stocks for the period: 86\n"
     ]
    },
    {
     "name": "stderr",
     "output_type": "stream",
     "text": [
      "100%|███████████████████████████████████████████████████████████████████████████████████| 85/85 [00:00<00:00, 91.21it/s]\n"
     ]
    },
    {
     "name": "stdout",
     "output_type": "stream",
     "text": [
      "SSE shape: (86, 86)\n",
      "Minimum SSE = 0.4540902707903918\n",
      "Minimum SSE = 0.9201068464376209\n",
      "Minimum SSE = 1.0534048286924327\n",
      "Minimum SSE = 1.1720245843809076\n",
      "Minimum SSE = 1.1938081401530718\n",
      "Starting period 20 | Past days: 2869\n",
      "Listed stocks for the period: 83\n"
     ]
    },
    {
     "name": "stderr",
     "output_type": "stream",
     "text": [
      "100%|███████████████████████████████████████████████████████████████████████████████████| 82/82 [00:00<00:00, 94.80it/s]\n"
     ]
    },
    {
     "name": "stdout",
     "output_type": "stream",
     "text": [
      "SSE shape: (83, 83)\n",
      "Minimum SSE = 0.649604963856595\n",
      "Minimum SSE = 1.1031017349739856\n",
      "Minimum SSE = 1.2072686500136551\n",
      "Minimum SSE = 1.336349006132636\n",
      "Minimum SSE = 1.6846553475716248\n",
      "Starting period 21 | Past days: 2999\n",
      "Listed stocks for the period: 90\n"
     ]
    },
    {
     "name": "stderr",
     "output_type": "stream",
     "text": [
      "100%|███████████████████████████████████████████████████████████████████████████████████| 89/89 [00:01<00:00, 84.91it/s]\n"
     ]
    },
    {
     "name": "stdout",
     "output_type": "stream",
     "text": [
      "SSE shape: (90, 90)\n",
      "Minimum SSE = 0.6100818087565097\n",
      "Minimum SSE = 0.9232023113507107\n",
      "Minimum SSE = 1.0511627905231793\n",
      "Minimum SSE = 1.1264507784826379\n",
      "Minimum SSE = 1.240327679762339\n",
      "Starting period 22 | Past days: 3129\n",
      "Listed stocks for the period: 94\n"
     ]
    },
    {
     "name": "stderr",
     "output_type": "stream",
     "text": [
      "100%|███████████████████████████████████████████████████████████████████████████████████| 93/93 [00:01<00:00, 85.03it/s]\n"
     ]
    },
    {
     "name": "stdout",
     "output_type": "stream",
     "text": [
      "SSE shape: (94, 94)\n",
      "Minimum SSE = 0.5222711314987258\n",
      "Minimum SSE = 0.7532713034941588\n",
      "Minimum SSE = 0.8117130763972991\n",
      "Minimum SSE = 0.8235127814076003\n",
      "Minimum SSE = 1.0706196098136154\n",
      "Starting period 23 | Past days: 3259\n",
      "Listed stocks for the period: 99\n"
     ]
    },
    {
     "name": "stderr",
     "output_type": "stream",
     "text": [
      "100%|███████████████████████████████████████████████████████████████████████████████████| 98/98 [00:01<00:00, 77.50it/s]\n"
     ]
    },
    {
     "name": "stdout",
     "output_type": "stream",
     "text": [
      "SSE shape: (99, 99)\n",
      "Minimum SSE = 0.25462980503896954\n",
      "Minimum SSE = 1.1528240758090584\n",
      "Minimum SSE = 1.1841526796405997\n",
      "Minimum SSE = 1.3631876418959947\n",
      "Minimum SSE = 1.46273066109265\n",
      "Starting period 24 | Past days: 3390\n",
      "Listed stocks for the period: 109\n"
     ]
    },
    {
     "name": "stderr",
     "output_type": "stream",
     "text": [
      "100%|█████████████████████████████████████████████████████████████████████████████████| 108/108 [00:01<00:00, 72.39it/s]\n"
     ]
    },
    {
     "name": "stdout",
     "output_type": "stream",
     "text": [
      "SSE shape: (109, 109)\n",
      "Minimum SSE = 1.3920654345989223\n",
      "Minimum SSE = 1.5144033364733467\n",
      "Minimum SSE = 1.6328564975967208\n",
      "Minimum SSE = 1.810115693916407\n",
      "Minimum SSE = 1.8593766153314915\n",
      "Starting period 25 | Past days: 3520\n",
      "Listed stocks for the period: 118\n"
     ]
    },
    {
     "name": "stderr",
     "output_type": "stream",
     "text": [
      "100%|█████████████████████████████████████████████████████████████████████████████████| 117/117 [00:01<00:00, 67.88it/s]\n"
     ]
    },
    {
     "name": "stdout",
     "output_type": "stream",
     "text": [
      "SSE shape: (118, 118)\n",
      "Minimum SSE = 0.9186006899082134\n",
      "Minimum SSE = 1.3570351117236967\n",
      "Minimum SSE = 1.484274561219549\n",
      "Minimum SSE = 1.6596663783797776\n",
      "Minimum SSE = 1.7125116257720152\n",
      "Starting period 26 | Past days: 3652\n",
      "Listed stocks for the period: 121\n"
     ]
    },
    {
     "name": "stderr",
     "output_type": "stream",
     "text": [
      "100%|█████████████████████████████████████████████████████████████████████████████████| 120/120 [00:01<00:00, 64.78it/s]\n"
     ]
    },
    {
     "name": "stdout",
     "output_type": "stream",
     "text": [
      "SSE shape: (121, 121)\n",
      "Minimum SSE = 0.2923447335412896\n",
      "Minimum SSE = 1.5059280473324068\n",
      "Minimum SSE = 1.5785131624879136\n",
      "Minimum SSE = 1.6845870578418536\n",
      "Minimum SSE = 2.0721044962492976\n",
      "Starting period 27 | Past days: 3781\n",
      "Listed stocks for the period: 117\n"
     ]
    },
    {
     "name": "stderr",
     "output_type": "stream",
     "text": [
      "100%|█████████████████████████████████████████████████████████████████████████████████| 116/116 [00:01<00:00, 63.25it/s]\n"
     ]
    },
    {
     "name": "stdout",
     "output_type": "stream",
     "text": [
      "SSE shape: (117, 117)\n",
      "Minimum SSE = 0.23980571581753732\n",
      "Minimum SSE = 0.46389196016578166\n",
      "Minimum SSE = 0.5016232037578182\n",
      "Minimum SSE = 0.9730225315536516\n",
      "Minimum SSE = 0.9862182744708559\n",
      "Starting period 28 | Past days: 3913\n",
      "Listed stocks for the period: 117\n"
     ]
    },
    {
     "name": "stderr",
     "output_type": "stream",
     "text": [
      "100%|█████████████████████████████████████████████████████████████████████████████████| 116/116 [00:01<00:00, 65.47it/s]\n"
     ]
    },
    {
     "name": "stdout",
     "output_type": "stream",
     "text": [
      "SSE shape: (117, 117)\n",
      "Minimum SSE = 0.5742602419701527\n",
      "Minimum SSE = 0.8403618766473878\n",
      "Minimum SSE = 0.861993552576784\n",
      "Minimum SSE = 0.875578896670798\n",
      "Minimum SSE = 1.0505158117523266\n",
      "Starting period 29 | Past days: 4042\n",
      "Listed stocks for the period: 121\n"
     ]
    },
    {
     "name": "stderr",
     "output_type": "stream",
     "text": [
      "100%|█████████████████████████████████████████████████████████████████████████████████| 120/120 [00:01<00:00, 60.45it/s]\n"
     ]
    },
    {
     "name": "stdout",
     "output_type": "stream",
     "text": [
      "SSE shape: (121, 121)\n",
      "Minimum SSE = 0.4863263119209606\n",
      "Minimum SSE = 0.6121730693808529\n",
      "Minimum SSE = 0.6655767307753356\n",
      "Minimum SSE = 0.686450542122142\n",
      "Minimum SSE = 0.7083493424666982\n",
      "Starting period 30 | Past days: 4174\n",
      "Listed stocks for the period: 119\n"
     ]
    },
    {
     "name": "stderr",
     "output_type": "stream",
     "text": [
      "100%|█████████████████████████████████████████████████████████████████████████████████| 118/118 [00:02<00:00, 57.51it/s]\n"
     ]
    },
    {
     "name": "stdout",
     "output_type": "stream",
     "text": [
      "SSE shape: (119, 119)\n",
      "Minimum SSE = 0.45583249797414177\n",
      "Minimum SSE = 0.5255249277802965\n",
      "Minimum SSE = 0.8671514247330022\n",
      "Minimum SSE = 0.8952513128111715\n",
      "Minimum SSE = 1.0582138185804868\n",
      "Starting period 31 | Past days: 4303\n",
      "Listed stocks for the period: 118\n"
     ]
    },
    {
     "name": "stderr",
     "output_type": "stream",
     "text": [
      "100%|█████████████████████████████████████████████████████████████████████████████████| 117/117 [00:01<00:00, 60.20it/s]\n"
     ]
    },
    {
     "name": "stdout",
     "output_type": "stream",
     "text": [
      "SSE shape: (118, 118)\n",
      "Minimum SSE = 0.503904323146495\n",
      "Minimum SSE = 0.6818203130156271\n",
      "Minimum SSE = 0.7583529933361071\n",
      "Minimum SSE = 0.8548943327958157\n",
      "Minimum SSE = 0.9878293538152119\n",
      "Starting period 32 | Past days: 4434\n",
      "Listed stocks for the period: 117\n"
     ]
    },
    {
     "name": "stderr",
     "output_type": "stream",
     "text": [
      "100%|█████████████████████████████████████████████████████████████████████████████████| 116/116 [00:01<00:00, 66.27it/s]\n"
     ]
    },
    {
     "name": "stdout",
     "output_type": "stream",
     "text": [
      "SSE shape: (117, 117)\n",
      "Minimum SSE = 0.22858924047496884\n",
      "Minimum SSE = 0.5446404672704795\n",
      "Minimum SSE = 0.7666129168166409\n",
      "Minimum SSE = 0.9308214742277133\n",
      "Minimum SSE = 0.9375007028726643\n",
      "Starting period 33 | Past days: 4564\n",
      "Listed stocks for the period: 114\n"
     ]
    },
    {
     "name": "stderr",
     "output_type": "stream",
     "text": [
      "100%|█████████████████████████████████████████████████████████████████████████████████| 113/113 [00:01<00:00, 69.79it/s]\n"
     ]
    },
    {
     "name": "stdout",
     "output_type": "stream",
     "text": [
      "SSE shape: (114, 114)\n",
      "Minimum SSE = 0.7605495611880844\n",
      "Minimum SSE = 0.9135544348642233\n",
      "Minimum SSE = 0.9605356801323305\n",
      "Minimum SSE = 1.0102970440898171\n",
      "Minimum SSE = 1.0348970412744953\n",
      "Starting period 34 | Past days: 4695\n",
      "Listed stocks for the period: 116\n"
     ]
    },
    {
     "name": "stderr",
     "output_type": "stream",
     "text": [
      "100%|█████████████████████████████████████████████████████████████████████████████████| 115/115 [00:01<00:00, 64.71it/s]\n"
     ]
    },
    {
     "name": "stdout",
     "output_type": "stream",
     "text": [
      "SSE shape: (116, 116)\n",
      "Minimum SSE = 0.25431531571470367\n",
      "Minimum SSE = 0.44728872121422075\n",
      "Minimum SSE = 0.48892596684899275\n",
      "Minimum SSE = 0.5287633057741538\n",
      "Minimum SSE = 0.7627677300912343\n",
      "Starting period 35 | Past days: 4824\n",
      "Listed stocks for the period: 115\n"
     ]
    },
    {
     "name": "stderr",
     "output_type": "stream",
     "text": [
      "100%|█████████████████████████████████████████████████████████████████████████████████| 114/114 [00:01<00:00, 65.57it/s]\n"
     ]
    },
    {
     "name": "stdout",
     "output_type": "stream",
     "text": [
      "SSE shape: (115, 115)\n",
      "Minimum SSE = 0.4343400536598489\n",
      "Minimum SSE = 0.4539027074913602\n",
      "Minimum SSE = 0.5332101818473162\n",
      "Minimum SSE = 0.8031656557934954\n",
      "Minimum SSE = 0.9458297232304195\n",
      "Starting period 36 | Past days: 4956\n",
      "Listed stocks for the period: 118\n"
     ]
    },
    {
     "name": "stderr",
     "output_type": "stream",
     "text": [
      "100%|█████████████████████████████████████████████████████████████████████████████████| 117/117 [00:02<00:00, 57.13it/s]\n"
     ]
    },
    {
     "name": "stdout",
     "output_type": "stream",
     "text": [
      "SSE shape: (118, 118)\n",
      "Minimum SSE = 0.3907321706779245\n",
      "Minimum SSE = 0.393629707664413\n",
      "Minimum SSE = 0.5419656348850532\n",
      "Minimum SSE = 0.7197726242116614\n",
      "Minimum SSE = 0.7382526953336566\n",
      "Starting period 37 | Past days: 5085\n",
      "Listed stocks for the period: 117\n"
     ]
    },
    {
     "name": "stderr",
     "output_type": "stream",
     "text": [
      "100%|█████████████████████████████████████████████████████████████████████████████████| 116/116 [00:02<00:00, 54.95it/s]\n"
     ]
    },
    {
     "name": "stdout",
     "output_type": "stream",
     "text": [
      "SSE shape: (117, 117)\n",
      "Minimum SSE = 0.6637722142072857\n",
      "Minimum SSE = 0.68208092466723\n",
      "Minimum SSE = 0.7187618035387975\n",
      "Minimum SSE = 0.8571942033691073\n",
      "Minimum SSE = 0.8866945234163703\n",
      "Starting period 38 | Past days: 5217\n",
      "Listed stocks for the period: 114\n"
     ]
    },
    {
     "name": "stderr",
     "output_type": "stream",
     "text": [
      "100%|█████████████████████████████████████████████████████████████████████████████████| 113/113 [00:01<00:00, 64.09it/s]\n"
     ]
    },
    {
     "name": "stdout",
     "output_type": "stream",
     "text": [
      "SSE shape: (114, 114)\n",
      "Minimum SSE = 0.2266107100451598\n",
      "Minimum SSE = 0.7497884624636862\n",
      "Minimum SSE = 0.9578997991385221\n",
      "Minimum SSE = 1.0604307161901927\n",
      "Minimum SSE = 1.1367237472720775\n",
      "Starting period 39 | Past days: 5346\n",
      "Listed stocks for the period: 114\n"
     ]
    },
    {
     "name": "stderr",
     "output_type": "stream",
     "text": [
      "100%|█████████████████████████████████████████████████████████████████████████████████| 113/113 [00:01<00:00, 67.54it/s]\n"
     ]
    },
    {
     "name": "stdout",
     "output_type": "stream",
     "text": [
      "SSE shape: (114, 114)\n",
      "Minimum SSE = 1.141113386109788\n",
      "Minimum SSE = 1.157315803520999\n",
      "Minimum SSE = 1.3110796276995695\n",
      "Minimum SSE = 1.3794826047849886\n",
      "Minimum SSE = 1.424805620239071\n",
      "Starting period 40 | Past days: 5478\n",
      "Listed stocks for the period: 113\n"
     ]
    },
    {
     "name": "stderr",
     "output_type": "stream",
     "text": [
      "100%|█████████████████████████████████████████████████████████████████████████████████| 112/112 [00:01<00:00, 65.19it/s]\n"
     ]
    },
    {
     "name": "stdout",
     "output_type": "stream",
     "text": [
      "SSE shape: (113, 113)\n",
      "Minimum SSE = 0.8935800721095128\n",
      "Minimum SSE = 1.118148920618361\n",
      "Minimum SSE = 1.2188402766550839\n",
      "Minimum SSE = 1.3209401601263966\n",
      "Minimum SSE = 1.3530348938874657\n",
      "Starting period 41 | Past days: 5608\n",
      "Listed stocks for the period: 115\n"
     ]
    },
    {
     "name": "stderr",
     "output_type": "stream",
     "text": [
      "100%|█████████████████████████████████████████████████████████████████████████████████| 114/114 [00:01<00:00, 69.75it/s]\n"
     ]
    },
    {
     "name": "stdout",
     "output_type": "stream",
     "text": [
      "SSE shape: (115, 115)\n",
      "Minimum SSE = 0.7874053219462308\n",
      "Minimum SSE = 0.812900277117319\n",
      "Minimum SSE = 0.9532693731119642\n",
      "Minimum SSE = 1.029306028156769\n",
      "Minimum SSE = 1.4558877474152732\n",
      "Starting period 42 | Past days: 5739\n",
      "Listed stocks for the period: 113\n"
     ]
    },
    {
     "name": "stderr",
     "output_type": "stream",
     "text": [
      "100%|█████████████████████████████████████████████████████████████████████████████████| 112/112 [00:01<00:00, 66.78it/s]\n"
     ]
    },
    {
     "name": "stdout",
     "output_type": "stream",
     "text": [
      "SSE shape: (113, 113)\n",
      "Minimum SSE = 0.21783510881964294\n",
      "Minimum SSE = 0.4267233925583538\n",
      "Minimum SSE = 0.7454511131032542\n",
      "Minimum SSE = 0.8608593466171021\n",
      "Minimum SSE = 0.9631138402931255\n",
      "Starting period 43 | Past days: 5869\n",
      "Listed stocks for the period: 110\n"
     ]
    },
    {
     "name": "stderr",
     "output_type": "stream",
     "text": [
      "100%|█████████████████████████████████████████████████████████████████████████████████| 109/109 [00:01<00:00, 71.23it/s]\n"
     ]
    },
    {
     "name": "stdout",
     "output_type": "stream",
     "text": [
      "SSE shape: (110, 110)\n",
      "Minimum SSE = 0.48242914350148175\n",
      "Minimum SSE = 0.8320392501963111\n",
      "Minimum SSE = 0.921678491682136\n",
      "Minimum SSE = 0.959785361815863\n",
      "Minimum SSE = 1.022975448807523\n",
      "Starting period 44 | Past days: 5999\n",
      "Listed stocks for the period: 113\n"
     ]
    },
    {
     "name": "stderr",
     "output_type": "stream",
     "text": [
      "100%|█████████████████████████████████████████████████████████████████████████████████| 112/112 [00:01<00:00, 70.64it/s]\n"
     ]
    },
    {
     "name": "stdout",
     "output_type": "stream",
     "text": [
      "SSE shape: (113, 113)\n",
      "Minimum SSE = 0.8557692137048586\n",
      "Minimum SSE = 0.9474256735568297\n",
      "Minimum SSE = 1.0117069995045125\n",
      "Minimum SSE = 1.0382693137458772\n",
      "Minimum SSE = 1.082118273938573\n",
      "Starting period 45 | Past days: 6129\n",
      "Listed stocks for the period: 117\n"
     ]
    },
    {
     "name": "stderr",
     "output_type": "stream",
     "text": [
      "100%|█████████████████████████████████████████████████████████████████████████████████| 116/116 [00:01<00:00, 66.21it/s]\n"
     ]
    },
    {
     "name": "stdout",
     "output_type": "stream",
     "text": [
      "SSE shape: (117, 117)\n",
      "Minimum SSE = 0.4924121743716969\n",
      "Minimum SSE = 0.6319718786598573\n",
      "Minimum SSE = 0.7543993349107226\n",
      "Minimum SSE = 0.835969739465418\n",
      "Minimum SSE = 1.2592832459916163\n",
      "Starting period 46 | Past days: 6260\n",
      "Listed stocks for the period: 118\n"
     ]
    },
    {
     "name": "stderr",
     "output_type": "stream",
     "text": [
      "100%|█████████████████████████████████████████████████████████████████████████████████| 117/117 [00:01<00:00, 65.19it/s]\n"
     ]
    },
    {
     "name": "stdout",
     "output_type": "stream",
     "text": [
      "SSE shape: (118, 118)\n",
      "Minimum SSE = 0.7226389302118651\n",
      "Minimum SSE = 0.8228005602785368\n",
      "Minimum SSE = 0.8679296863574755\n",
      "Minimum SSE = 0.9035421182229173\n",
      "Minimum SSE = 0.9045624551444477\n",
      "Starting period 47 | Past days: 6389\n",
      "Listed stocks for the period: 119\n"
     ]
    },
    {
     "name": "stderr",
     "output_type": "stream",
     "text": [
      "100%|█████████████████████████████████████████████████████████████████████████████████| 118/118 [00:01<00:00, 66.86it/s]\n"
     ]
    },
    {
     "name": "stdout",
     "output_type": "stream",
     "text": [
      "SSE shape: (119, 119)\n",
      "Minimum SSE = 0.31205624695443707\n",
      "Minimum SSE = 0.4656731566312117\n",
      "Minimum SSE = 0.5665997296412606\n",
      "Minimum SSE = 0.8874672425695991\n",
      "Minimum SSE = 0.9561684608894305\n",
      "Starting period 48 | Past days: 6521\n",
      "Listed stocks for the period: 119\n"
     ]
    },
    {
     "name": "stderr",
     "output_type": "stream",
     "text": [
      "100%|█████████████████████████████████████████████████████████████████████████████████| 118/118 [00:01<00:00, 64.25it/s]\n"
     ]
    },
    {
     "name": "stdout",
     "output_type": "stream",
     "text": [
      "SSE shape: (119, 119)\n",
      "Minimum SSE = 0.5192568173618833\n",
      "Minimum SSE = 1.1625935842989485\n",
      "Minimum SSE = 1.2661100666431235\n",
      "Minimum SSE = 1.3149898497921901\n",
      "Minimum SSE = 1.3802285736900144\n",
      "Starting period 49 | Past days: 6651\n",
      "Listed stocks for the period: 119\n"
     ]
    },
    {
     "name": "stderr",
     "output_type": "stream",
     "text": [
      "100%|█████████████████████████████████████████████████████████████████████████████████| 118/118 [00:01<00:00, 68.33it/s]\n"
     ]
    },
    {
     "name": "stdout",
     "output_type": "stream",
     "text": [
      "SSE shape: (119, 119)\n",
      "Minimum SSE = 0.5206610238862104\n",
      "Minimum SSE = 0.7748481212465465\n",
      "Minimum SSE = 0.8864885602133182\n",
      "Minimum SSE = 0.9220709570162653\n",
      "Minimum SSE = 1.394806799831299\n",
      "Starting period 50 | Past days: 6783\n",
      "Listed stocks for the period: 119\n"
     ]
    },
    {
     "name": "stderr",
     "output_type": "stream",
     "text": [
      "100%|█████████████████████████████████████████████████████████████████████████████████| 118/118 [00:01<00:00, 67.17it/s]\n"
     ]
    },
    {
     "name": "stdout",
     "output_type": "stream",
     "text": [
      "SSE shape: (119, 119)\n",
      "Minimum SSE = 0.42982491568411346\n",
      "Minimum SSE = 0.513930337888198\n",
      "Minimum SSE = 0.7874125309213368\n",
      "Minimum SSE = 0.8030750347209983\n",
      "Minimum SSE = 0.9558032918378161\n",
      "Starting period 51 | Past days: 6912\n",
      "Listed stocks for the period: 122\n"
     ]
    },
    {
     "name": "stderr",
     "output_type": "stream",
     "text": [
      "100%|█████████████████████████████████████████████████████████████████████████████████| 121/121 [00:01<00:00, 63.27it/s]\n"
     ]
    },
    {
     "name": "stdout",
     "output_type": "stream",
     "text": [
      "SSE shape: (122, 122)\n",
      "Minimum SSE = 0.5457340809388805\n",
      "Minimum SSE = 0.6906094196443188\n",
      "Minimum SSE = 0.6939426316064797\n",
      "Minimum SSE = 0.7198302424147109\n",
      "Minimum SSE = 1.1881344934423315\n",
      "Starting period 52 | Past days: 7044\n",
      "Listed stocks for the period: 121\n"
     ]
    },
    {
     "name": "stderr",
     "output_type": "stream",
     "text": [
      "100%|█████████████████████████████████████████████████████████████████████████████████| 120/120 [00:01<00:00, 61.30it/s]\n"
     ]
    },
    {
     "name": "stdout",
     "output_type": "stream",
     "text": [
      "SSE shape: (121, 121)\n",
      "Minimum SSE = 0.7248298102637717\n",
      "Minimum SSE = 0.9104854639620256\n",
      "Minimum SSE = 0.9481931717109777\n",
      "Minimum SSE = 1.0342465130971803\n",
      "Minimum SSE = 1.2896771641885536\n",
      "Starting period 53 | Past days: 7173\n",
      "Listed stocks for the period: 121\n"
     ]
    },
    {
     "name": "stderr",
     "output_type": "stream",
     "text": [
      "100%|█████████████████████████████████████████████████████████████████████████████████| 120/120 [00:01<00:00, 65.86it/s]\n"
     ]
    },
    {
     "name": "stdout",
     "output_type": "stream",
     "text": [
      "SSE shape: (121, 121)\n",
      "Minimum SSE = 0.5243612833387602\n",
      "Minimum SSE = 0.5940403594466453\n",
      "Minimum SSE = 0.9281844820108459\n",
      "Minimum SSE = 0.9567485942302445\n",
      "Minimum SSE = 1.03996106873001\n",
      "Starting period 54 | Past days: 7304\n",
      "Listed stocks for the period: 118\n"
     ]
    },
    {
     "name": "stderr",
     "output_type": "stream",
     "text": [
      "100%|█████████████████████████████████████████████████████████████████████████████████| 117/117 [00:01<00:00, 63.38it/s]"
     ]
    },
    {
     "name": "stdout",
     "output_type": "stream",
     "text": [
      "SSE shape: (118, 118)\n",
      "Minimum SSE = 0.5493329029760822\n",
      "Minimum SSE = 0.5948726473896642\n",
      "Minimum SSE = 0.7130523638934851\n",
      "Minimum SSE = 0.8470306460063916\n",
      "Minimum SSE = 1.048284408360507\n"
     ]
    },
    {
     "name": "stderr",
     "output_type": "stream",
     "text": [
      "\n"
     ]
    }
   ],
   "source": [
    "big_loop = 0\n",
    "i = 0\n",
    "pairs = []\n",
    "past_days= 0\n",
    "\n",
    "for big_loop in range(0, len(semestres) - 3):\n",
    "    print(f\"Starting period {big_loop} | Past days: {past_days}\")\n",
    "\n",
    "    # Listando os dias dos intervalos\n",
    "    inicio = (Datas == semestres['Data'][big_loop]).query(\"Data == True\").index[0]\n",
    "    twelve_months = (Datas == semestres['Data'][big_loop + 2]).query(\"Data == True\").index[0]\n",
    "    six_months = (Datas == semestres['Data'][big_loop + 3]).query(\"Data == True\").index[0]\n",
    "\n",
    "    # Limpeza das ações não listadas no período\n",
    "    ps = log_data.iloc[inicio:twelve_months,:].dropna(how=\"any\",axis=1) # Só usar se der erro\n",
    "    listed = ps.iloc[0]\n",
    "    listed_num = np.sum(listed.value_counts())\n",
    "    print(f\"Listed stocks for the period: {listed_num}\")\n",
    "\n",
    "    log_data_filtrado = log_data.columns.isin(listed.index)\n",
    "    listed_indexes = np.where(log_data_filtrado > 0)[0]\n",
    "    listed_stocks = listed.index\n",
    "\n",
    "    # Preços no intervalo\n",
    "\n",
    "    # ----------------------------------------------------\n",
    "    # Calc SSEs\n",
    "    # ----------------------------------------------------\n",
    "\n",
    "    sse = np.zeros((listed_num, listed_num))\n",
    "    for j in tqdm(range(0, listed_num- 1)):\n",
    "        for k in range(j+1, listed_num):\n",
    "            sse[j, k] = sum(np.power(ps.iloc[:, j]-ps.iloc[:, k], 2))\n",
    "\n",
    "    print(f\"SSE shape: {np.shape(sse)}\")\n",
    "    pd.DataFrame(sse).to_csv(\"SSE.csv\", header=[\n",
    "        str(i) for i in listed_indexes], index=False)\n",
    "\n",
    "    # ----------------------------------------------------\n",
    "    # Find min SSEs\n",
    "    # ----------------------------------------------------\n",
    "\n",
    "    max_SSE = np.nanmax(sse) + 1\n",
    "    min_SSE = np.zeros((no_pairs, 1))\n",
    "    min_SSE_ro = np.zeros((1, no_pairs))\n",
    "    min_SSE_co = np.zeros((1, no_pairs))\n",
    "\n",
    "    # print(f\"Initial Max SSE: {max_SSE}\")\n",
    "\n",
    "    for ii in range(0, no_pairs):\n",
    "        t_SSE = max_SSE\n",
    "        for k in range(0, listed_num-1):\n",
    "            for l in range(k+1, listed_num):\n",
    "                if sse[k, l] > 0 and sse[k, l] < t_SSE:\n",
    "                    # print(f\"New minimum found at ({k},{l})\")\n",
    "                    t_SSE = sse[k, l]  # new minimum found\n",
    "\n",
    "        print(f\"Minimum SSE = {t_SSE}\")\n",
    "\n",
    "        if t_SSE == max_SSE:\n",
    "            print(\"Error\")\n",
    "\n",
    "        ro, co = np.where(sse == t_SSE)\n",
    "        ro = ro[0]\n",
    "        co = co[0]\n",
    "\n",
    "        min_SSE[ii, 0] = sse[ro, co]\n",
    "\n",
    "        pair_dict = {'Stock A': log_data.columns[listed_indexes[ro]],'Stock B': log_data.columns[listed_indexes[co]],'SSE' : min_SSE[ii, 0],'Semestre' : big_loop}\n",
    "        pairs.append(pair_dict)\n",
    "        pd.DataFrame(pairs)\n",
    "\n",
    "        sse[ro, co] = max_SSE  # prevent re-selection\n",
    "\n",
    "    past_days =  twelve_months\n",
    "\n",
    "pairs= pd.DataFrame(pairs)"
   ]
  },
  {
   "cell_type": "markdown",
   "id": "Og6Ty00NBcxm",
   "metadata": {
    "id": "Og6Ty00NBcxm"
   },
   "source": [
    "## Testando Lucro da estratégia"
   ]
  },
  {
   "cell_type": "code",
   "execution_count": 8,
   "id": "95zvGAVqTebE",
   "metadata": {
    "colab": {
     "base_uri": "https://localhost:8080/",
     "height": 424
    },
    "executionInfo": {
     "elapsed": 67,
     "status": "ok",
     "timestamp": 1707526980059,
     "user": {
      "displayName": "Marcelo “Polecram”",
      "userId": "07802337785347454484"
     },
     "user_tz": 180
    },
    "id": "95zvGAVqTebE",
    "outputId": "0d4562fd-498f-4522-ea13-32922429bd7a"
   },
   "outputs": [
    {
     "data": {
      "text/html": [
       "<div>\n",
       "<style scoped>\n",
       "    .dataframe tbody tr th:only-of-type {\n",
       "        vertical-align: middle;\n",
       "    }\n",
       "\n",
       "    .dataframe tbody tr th {\n",
       "        vertical-align: top;\n",
       "    }\n",
       "\n",
       "    .dataframe thead th {\n",
       "        text-align: right;\n",
       "    }\n",
       "</style>\n",
       "<table border=\"1\" class=\"dataframe\">\n",
       "  <thead>\n",
       "    <tr style=\"text-align: right;\">\n",
       "      <th></th>\n",
       "      <th>Stock A</th>\n",
       "      <th>Stock B</th>\n",
       "      <th>SSE</th>\n",
       "      <th>Semestre</th>\n",
       "    </tr>\n",
       "  </thead>\n",
       "  <tbody>\n",
       "    <tr>\n",
       "      <th>0</th>\n",
       "      <td>PETR4</td>\n",
       "      <td>BBDC4</td>\n",
       "      <td>1.147011</td>\n",
       "      <td>0</td>\n",
       "    </tr>\n",
       "    <tr>\n",
       "      <th>1</th>\n",
       "      <td>ITUB4</td>\n",
       "      <td>CMIG3</td>\n",
       "      <td>1.229207</td>\n",
       "      <td>0</td>\n",
       "    </tr>\n",
       "    <tr>\n",
       "      <th>2</th>\n",
       "      <td>ITSA4</td>\n",
       "      <td>POMO4</td>\n",
       "      <td>1.417282</td>\n",
       "      <td>0</td>\n",
       "    </tr>\n",
       "    <tr>\n",
       "      <th>3</th>\n",
       "      <td>BBDC3</td>\n",
       "      <td>CRUZ3</td>\n",
       "      <td>1.469926</td>\n",
       "      <td>0</td>\n",
       "    </tr>\n",
       "    <tr>\n",
       "      <th>4</th>\n",
       "      <td>CMIG4</td>\n",
       "      <td>CRUZ3</td>\n",
       "      <td>1.676307</td>\n",
       "      <td>0</td>\n",
       "    </tr>\n",
       "    <tr>\n",
       "      <th>...</th>\n",
       "      <td>...</td>\n",
       "      <td>...</td>\n",
       "      <td>...</td>\n",
       "      <td>...</td>\n",
       "    </tr>\n",
       "    <tr>\n",
       "      <th>270</th>\n",
       "      <td>ENBR3</td>\n",
       "      <td>TRPL4</td>\n",
       "      <td>0.549333</td>\n",
       "      <td>54</td>\n",
       "    </tr>\n",
       "    <tr>\n",
       "      <th>271</th>\n",
       "      <td>USIM5</td>\n",
       "      <td>USIM3</td>\n",
       "      <td>0.594873</td>\n",
       "      <td>54</td>\n",
       "    </tr>\n",
       "    <tr>\n",
       "      <th>272</th>\n",
       "      <td>ELET3</td>\n",
       "      <td>ELET6</td>\n",
       "      <td>0.713052</td>\n",
       "      <td>54</td>\n",
       "    </tr>\n",
       "    <tr>\n",
       "      <th>273</th>\n",
       "      <td>VIVT3</td>\n",
       "      <td>EGIE3</td>\n",
       "      <td>0.847031</td>\n",
       "      <td>54</td>\n",
       "    </tr>\n",
       "    <tr>\n",
       "      <th>274</th>\n",
       "      <td>RAIL3</td>\n",
       "      <td>IGTI11</td>\n",
       "      <td>1.048284</td>\n",
       "      <td>54</td>\n",
       "    </tr>\n",
       "  </tbody>\n",
       "</table>\n",
       "<p>275 rows × 4 columns</p>\n",
       "</div>"
      ],
      "text/plain": [
       "    Stock A Stock B       SSE  Semestre\n",
       "0     PETR4   BBDC4  1.147011         0\n",
       "1     ITUB4   CMIG3  1.229207         0\n",
       "2     ITSA4   POMO4  1.417282         0\n",
       "3     BBDC3   CRUZ3  1.469926         0\n",
       "4     CMIG4   CRUZ3  1.676307         0\n",
       "..      ...     ...       ...       ...\n",
       "270   ENBR3   TRPL4  0.549333        54\n",
       "271   USIM5   USIM3  0.594873        54\n",
       "272   ELET3   ELET6  0.713052        54\n",
       "273   VIVT3   EGIE3  0.847031        54\n",
       "274   RAIL3  IGTI11  1.048284        54\n",
       "\n",
       "[275 rows x 4 columns]"
      ]
     },
     "execution_count": 8,
     "metadata": {},
     "output_type": "execute_result"
    }
   ],
   "source": [
    "pairs"
   ]
  },
  {
   "cell_type": "code",
   "execution_count": 9,
   "id": "ab3656cf",
   "metadata": {
    "colab": {
     "base_uri": "https://localhost:8080/"
    },
    "executionInfo": {
     "elapsed": 35588,
     "status": "ok",
     "timestamp": 1707527015585,
     "user": {
      "displayName": "Marcelo “Polecram”",
      "userId": "07802337785347454484"
     },
     "user_tz": 180
    },
    "id": "ab3656cf",
    "outputId": "a0c55052-c0e3-4d4b-d667-3e5f43eaea72"
   },
   "outputs": [
    {
     "name": "stdout",
     "output_type": "stream",
     "text": [
      "Starting period 0 | Past days: 0\n",
      "S1: PETR4 | S2: BBDC4 | SSE: 1.1470111572247645\n",
      "Par PETR4-BBDC4 sem convergência, retorno_op: -0.08188873857769119\n",
      "S1: ITUB4 | S2: CMIG3 | SSE: 1.2292074671340252\n",
      "Par ITUB4-CMIG3 sem convergência, retorno_op: 0.1923893994394017\n",
      "S1: ITSA4 | S2: POMO4 | SSE: 1.4172821904116257\n",
      "Par ITSA4-POMO4 sem convergência, retorno_op: -0.05813494423065757\n",
      "S1: BBDC3 | S2: CRUZ3 | SSE: 1.469926115829889\n",
      "S1: CMIG4 | S2: CRUZ3 | SSE: 1.6763074444726849\n",
      "-------------------------------------------------\n",
      "Starting period 1 | Past days: 0\n",
      "S1: ITSA4 | S2: POMO4 | SSE: 2.034667646393423\n",
      "Par ITSA4-POMO4 sem convergência, retorno_op: -0.06257964793901127\n",
      "S1: BBDC3 | S2: AMBV4 | SSE: 2.1760679753098473\n",
      "S1: ELET6 | S2: WHMT3 | SSE: 2.295011452873681\n",
      "Par ELET6-WHMT3 sem convergência, retorno_op: -0.31327460769384596\n",
      "S1: CMIG4 | S2: AMBV4 | SSE: 2.4118901056766444\n",
      "Par CMIG4-AMBV4 sem convergência, retorno_op: -0.08778375919327075\n",
      "S1: BBDC3 | S2: CMIG4 | SSE: 2.6992165314117873\n",
      "Par BBDC3-CMIG4 sem convergência, retorno_op: 0.041647003883908185\n",
      "-------------------------------------------------\n",
      "Starting period 2 | Past days: 0\n",
      "S1: BBDC4 | S2: AMBV4 | SSE: 1.0739142744727166\n",
      "Par BBDC4-AMBV4 sem convergência, retorno_op: 0\n",
      "S1: DURA4 | S2: WHMT3 | SSE: 1.931359827818309\n",
      "Par DURA4-WHMT3 sem convergência, retorno_op: -0.0007478445735824568\n",
      "S1: BBDC4 | S2: BBDC3 | SSE: 2.232588531433119\n",
      "S1: USIM5 | S2: ARCE4 | SSE: 2.4154667350132417\n",
      "Par USIM5-ARCE4 sem convergência, retorno_op: 0.12519318407936603\n",
      "S1: BBDC3 | S2: AMBV4 | SSE: 2.434201228450195\n",
      "Par BBDC3-AMBV4 sem convergência, retorno_op: 0\n",
      "-------------------------------------------------\n",
      "Starting period 3 | Past days: 0\n",
      "S1: PETR4 | S2: PETR3 | SSE: 0.4901121092402942\n",
      "Par PETR4-PETR3 sem convergência, retorno_op: -0.08667916124152364\n",
      "S1: BBDC4 | S2: BBDC3 | SSE: 0.8209359897775378\n",
      "Par BBDC4-BBDC3 sem convergência, retorno_op: 0.026433224360707497\n",
      "S1: AMBV4 | S2: CRUZ3 | SSE: 1.7276520475602382\n",
      "Par AMBV4-CRUZ3 sem convergência, retorno_op: 0.16839614045491946\n",
      "S1: ELET6 | S2: VIVT4 | SSE: 2.1827365407197665\n",
      "Par ELET6-VIVT4 sem convergência, retorno_op: -0.15712786870183804\n",
      "S1: BBDC4 | S2: AMBV4 | SSE: 2.2934388443696583\n",
      "Par BBDC4-AMBV4 sem convergência, retorno_op: 0.0294138569358966\n",
      "-------------------------------------------------\n",
      "Starting period 4 | Past days: 0\n",
      "S1: BBDC4 | S2: BBDC3 | SSE: 0.48027995940699464\n",
      "Par BBDC4-BBDC3 sem convergência, retorno_op: 0.0020368963766141945\n",
      "S1: PETR4 | S2: PETR3 | SSE: 0.8043746655701365\n",
      "Par PETR4-PETR3 sem convergência, retorno_op: 0.05921713116588467\n",
      "S1: AMBV4 | S2: CRUZ3 | SSE: 1.036589562492997\n",
      "S1: BBDC3 | S2: CRUZ3 | SSE: 1.4176589320715343\n",
      "Par BBDC3-CRUZ3 sem convergência, retorno_op: -0.026991189286227346\n",
      "S1: BBDC3 | S2: AMBV4 | SSE: 1.8128079184807075\n",
      "-------------------------------------------------\n",
      "Starting period 5 | Past days: 0\n",
      "S1: BBDC4 | S2: BBDC3 | SSE: 1.1028710072644878\n",
      "Par BBDC4-BBDC3 sem convergência, retorno_op: 0.026584903351528855\n",
      "S1: BBDC3 | S2: AMBV4 | SSE: 2.412313349951466\n",
      "Par BBDC3-AMBV4 sem convergência, retorno_op: -0.03801446191048852\n",
      "S1: ITSA4 | S2: UNIP6 | SSE: 3.1460199542444314\n",
      "Par ITSA4-UNIP6 sem convergência, retorno_op: -0.04944620732823246\n",
      "S1: ITUB4 | S2: BBDC4 | SSE: 3.3053000563795374\n",
      "Par ITUB4-BBDC4 sem convergência, retorno_op: -0.04966071663386051\n",
      "S1: ITUB4 | S2: CRUZ3 | SSE: 3.811671340366517\n",
      "-------------------------------------------------\n",
      "Starting period 6 | Past days: 0\n",
      "S1: CMIG4 | S2: CPLE6 | SSE: 3.6288369409689354\n",
      "Par CMIG4-CPLE6 sem convergência, retorno_op: 0.11207018067188423\n",
      "S1: BBDC4 | S2: AMBV4 | SSE: 4.306966731793296\n",
      "S1: ITUB4 | S2: CMIG4 | SSE: 4.309527325683544\n",
      "Par ITUB4-CMIG4 sem convergência, retorno_op: -0.03924614465864229\n",
      "S1: TSPC6 | S2: TPRC6 | SSE: 5.49669479029634\n",
      "Par TSPC6-TPRC6 sem convergência, retorno_op: 0.08630253306578273\n",
      "S1: ITUB4 | S2: CRUZ3 | SSE: 5.757946957866769\n",
      "Par ITUB4-CRUZ3 sem convergência, retorno_op: -0.08800186627892642\n",
      "-------------------------------------------------\n",
      "Starting period 7 | Past days: 0\n",
      "S1: BRTP4 | S2: TNLP4 | SSE: 2.869482780166146\n",
      "Par BRTP4-TNLP4 sem convergência, retorno_op: 0.037418002827190655\n",
      "S1: EBEN4 | S2: BBAS4 | SSE: 3.386849940064497\n",
      "S1: BRTP3 | S2: TNLP3 | SSE: 3.4390808106797937\n",
      "Par BRTP3-TNLP3 sem convergência, retorno_op: -0.018029333224190758\n",
      "S1: CMIG4 | S2: CPLE6 | SSE: 3.741464649123015\n",
      "Par CMIG4-CPLE6 sem convergência, retorno_op: 0.058799524755822064\n",
      "S1: BBDC3 | S2: BMTO4 | SSE: 4.648494381324644\n",
      "Par BBDC3-BMTO4 sem convergência, retorno_op: -0.1352853890771183\n",
      "-------------------------------------------------\n",
      "Starting period 8 | Past days: 0\n",
      "S1: VALE3 | S2: TBLE6 | SSE: 2.100123664317853\n",
      "Par VALE3-TBLE6 sem convergência, retorno_op: 0.10321703816287858\n",
      "S1: ELET6 | S2: CLSC4 | SSE: 2.5146416624717243\n",
      "Par ELET6-CLSC4 sem convergência, retorno_op: -0.04865136249675217\n",
      "S1: CLSC4 | S2: DURA4 | SSE: 2.7724775377678688\n",
      "Par CLSC4-DURA4 sem convergência, retorno_op: -0.08504051825941583\n",
      "S1: AMBV4 | S2: CRUZ3 | SSE: 2.8193915960130576\n",
      "Par AMBV4-CRUZ3 sem convergência, retorno_op: -0.05021616346766067\n",
      "S1: ELET6 | S2: DURA4 | SSE: 2.843540027072207\n",
      "-------------------------------------------------\n",
      "Starting period 9 | Past days: 0\n",
      "S1: CLSC4 | S2: PMAM4 | SSE: 2.13882628303459\n",
      "Par CLSC4-PMAM4 sem convergência, retorno_op: -0.028113912312736522\n",
      "S1: ELET6 | S2: CLSC4 | SSE: 2.214769180366527\n",
      "Par ELET6-CLSC4 sem convergência, retorno_op: -0.044039901433665096\n",
      "S1: CPLE6 | S2: CRUZ3 | SSE: 2.4057719015354104\n",
      "Par CPLE6-CRUZ3 sem convergência, retorno_op: -0.09469303441513033\n",
      "S1: GOAU4 | S2: CRUZ3 | SSE: 2.525511595692487\n",
      "Par GOAU4-CRUZ3 sem convergência, retorno_op: 0.012140691542761206\n",
      "S1: GOAU4 | S2: GETI4 | SSE: 2.7410596692665683\n",
      "Par GOAU4-GETI4 sem convergência, retorno_op: 0.004616740971428834\n",
      "-------------------------------------------------\n",
      "Starting period 10 | Past days: 0\n",
      "S1: TCOC4 | S2: TNLP3 | SSE: 1.3478296265269518\n",
      "Par TCOC4-TNLP3 sem convergência, retorno_op: 0.014242336138882372\n",
      "S1: GGBR4 | S2: UNIP6 | SSE: 1.776341642953644\n",
      "S1: VALE3 | S2: PETR4 | SSE: 1.9014310705810895\n",
      "Par VALE3-PETR4 sem convergência, retorno_op: -0.029594832512369024\n",
      "S1: BBAS3 | S2: EGIE3 | SSE: 1.9206953173280028\n",
      "Par BBAS3-EGIE3 sem convergência, retorno_op: 0.12722706182424512\n",
      "S1: GETI4 | S2: CRUZ3 | SSE: 2.2466570301997892\n",
      "Par GETI4-CRUZ3 sem convergência, retorno_op: 0.23881607730723475\n",
      "-------------------------------------------------\n",
      "Starting period 11 | Past days: 0\n",
      "S1: GGBR4 | S2: UNIP6 | SSE: 1.2923006861877737\n",
      "Par GGBR4-UNIP6 sem convergência, retorno_op: 0\n",
      "S1: CMIG4 | S2: CMIG3 | SSE: 1.3969178627638092\n",
      "Par CMIG4-CMIG3 sem convergência, retorno_op: 0.02945338519006846\n",
      "S1: VIVO3 | S2: VIVO4 | SSE: 1.6291988476290984\n",
      "S1: BBDC3 | S2: CPLE6 | SSE: 1.7513773907180863\n",
      "Par BBDC3-CPLE6 sem convergência, retorno_op: -0.08505683143426651\n",
      "S1: RCTB31 | S2: RCTB41 | SSE: 1.8468981859719842\n",
      "Par RCTB31-RCTB41 sem convergência, retorno_op: -0.035636291527259445\n",
      "-------------------------------------------------\n",
      "Starting period 12 | Past days: 0\n",
      "S1: TNLP3 | S2: TNLP4 | SSE: 0.5263974551429944\n",
      "Par TNLP3-TNLP4 sem convergência, retorno_op: 0.00923168256859963\n",
      "S1: OIBR3 | S2: OIBR4 | SSE: 0.5927153676065371\n",
      "Par OIBR3-OIBR4 sem convergência, retorno_op: 0.00687655455869951\n",
      "S1: VIVO3 | S2: VIVO4 | SSE: 0.6280974310097713\n",
      "S1: CMIG4 | S2: CMIG3 | SSE: 0.8147066657109909\n",
      "Par CMIG4-CMIG3 sem convergência, retorno_op: 0.01805727705693383\n",
      "S1: ITUB4 | S2: AMBV4 | SSE: 1.4678047968253338\n",
      "Par ITUB4-AMBV4 sem convergência, retorno_op: 0.09466313143460323\n",
      "-------------------------------------------------\n",
      "Starting period 13 | Past days: 0\n",
      "S1: VIVO3 | S2: VIVO4 | SSE: 0.7938158139801684\n",
      "S1: CMIG4 | S2: CMIG3 | SSE: 0.9023641235540897\n",
      "Par CMIG4-CMIG3 sem convergência, retorno_op: 0.03016756751216021\n",
      "S1: BBDC4 | S2: USIM5 | SSE: 0.9271407093245706\n",
      "Par BBDC4-USIM5 sem convergência, retorno_op: -0.09125619122023643\n",
      "S1: ELET6 | S2: UBBR11 | SSE: 1.7419859020621058\n",
      "S1: CLSC4 | S2: SUZB5 | SSE: 2.1713988454818436\n",
      "Par CLSC4-SUZB5 sem convergência, retorno_op: -0.16115928324714002\n",
      "-------------------------------------------------\n",
      "Starting period 14 | Past days: 0\n",
      "S1: VIVO3 | S2: VIVO4 | SSE: 1.0895316431752944\n",
      "Par VIVO3-VIVO4 sem convergência, retorno_op: 0.027127596018324596\n",
      "S1: CPLE6 | S2: CMIG3 | SSE: 1.352920837397099\n",
      "Par CPLE6-CMIG3 sem convergência, retorno_op: -0.025612293179162804\n",
      "S1: PETR4 | S2: GGBR4 | SSE: 1.3679396541409046\n",
      "Par PETR4-GGBR4 sem convergência, retorno_op: -0.19354809603254386\n",
      "S1: TLCP4 | S2: TMAR6 | SSE: 1.3791667326192036\n",
      "Par TLCP4-TMAR6 sem convergência, retorno_op: -0.011756075460263915\n",
      "S1: PETR4 | S2: AMBV4 | SSE: 1.5569921634656987\n",
      "Par PETR4-AMBV4 sem convergência, retorno_op: -0.030350158141694505\n",
      "-------------------------------------------------\n",
      "Starting period 15 | Past days: 0\n",
      "S1: BBDC4 | S2: ABEV3 | SSE: 1.6167395342668645\n",
      "Par BBDC4-ABEV3 sem convergência, retorno_op: -0.03905386426715385\n",
      "S1: UGPA4 | S2: VALE5 | SSE: 1.7606683219137527\n",
      "Par UGPA4-VALE5 sem convergência, retorno_op: 0.05105467996024271\n",
      "S1: TLCP4 | S2: TMAR6 | SSE: 1.8951861509519539\n",
      "Par TLCP4-TMAR6 sem convergência, retorno_op: -0.10691245700200058\n",
      "S1: PETR4 | S2: AMBV4 | SSE: 1.9960841598581267\n",
      "Par PETR4-AMBV4 sem convergência, retorno_op: 0.012890767825119331\n",
      "S1: VCPA4 | S2: PCAR4 | SSE: 2.021996600944316\n",
      "Par VCPA4-PCAR4 sem convergência, retorno_op: -0.01678990189260743\n",
      "-------------------------------------------------\n",
      "Starting period 16 | Past days: 0\n",
      "S1: PETR4 | S2: UNIP6 | SSE: 1.5451256761521215\n",
      "Par PETR4-UNIP6 sem convergência, retorno_op: -0.08294943894646267\n",
      "S1: ALPA4 | S2: KLBN4 | SSE: 1.6238488434818306\n",
      "Par ALPA4-KLBN4 sem convergência, retorno_op: -0.060146410578080955\n",
      "S1: UGPA4 | S2: UBBR11 | SSE: 1.8873220496385623\n",
      "Par UGPA4-UBBR11 sem convergência, retorno_op: 0.045893421998957074\n",
      "S1: EBTP4 | S2: TNEP4 | SSE: 1.9515683646218427\n",
      "S1: BRTP3 | S2: BRTP4 | SSE: 2.0093834814161435\n",
      "Par BRTP3-BRTP4 sem convergência, retorno_op: 0.00846829467230581\n",
      "-------------------------------------------------\n",
      "Starting period 17 | Past days: 0\n",
      "S1: VALE3 | S2: UBBR11 | SSE: 1.292820810232529\n",
      "S1: GGBR4 | S2: GOAU4 | SSE: 1.5219453799381577\n",
      "Par GGBR4-GOAU4 sem convergência, retorno_op: 0.024787194722831307\n",
      "S1: PETR3 | S2: CRUZ3 | SSE: 1.5874874746685905\n",
      "Par PETR3-CRUZ3 sem convergência, retorno_op: 0.0011947935081337846\n",
      "S1: EMAE4 | S2: PMAM4 | SSE: 1.799164948916644\n",
      "Par EMAE4-PMAM4 sem convergência, retorno_op: 0.3269734844863035\n",
      "S1: CGAS5 | S2: CRUZ3 | SSE: 1.8342956237800045\n",
      "Par CGAS5-CRUZ3 sem convergência, retorno_op: 0.13195780678125835\n",
      "-------------------------------------------------\n",
      "Starting period 18 | Past days: 0\n",
      "S1: VALE3 | S2: UBBR11 | SSE: 1.2052852079379361\n",
      "Par VALE3-UBBR11 sem convergência, retorno_op: -0.08376449534830543\n",
      "S1: CESP5 | S2: EMAE4 | SSE: 1.3861895181501178\n",
      "Par CESP5-EMAE4 sem convergência, retorno_op: 0.08329162529691758\n",
      "S1: CRUZ3 | S2: TCSL4 | SSE: 1.391180519202559\n",
      "Par CRUZ3-TCSL4 sem convergência, retorno_op: -0.08564697555191447\n",
      "S1: PETR4 | S2: BBAS3 | SSE: 1.4915491427820176\n",
      "S1: EMBR3 | S2: VIVT4 | SSE: 1.6802000700005935\n",
      "Par EMBR3-VIVT4 sem convergência, retorno_op: 0.04126884100408912\n",
      "-------------------------------------------------\n",
      "Starting period 19 | Past days: 0\n",
      "S1: USIM5 | S2: USIM3 | SSE: 0.4540902707903918\n",
      "S1: PETR4 | S2: CPFE3 | SSE: 0.9201068464376209\n",
      "Par PETR4-CPFE3 sem convergência, retorno_op: -0.054212530969012684\n",
      "S1: EMAE4 | S2: CRUZ3 | SSE: 1.0534048286924327\n",
      "Par EMAE4-CRUZ3 sem convergência, retorno_op: -0.042818645159832136\n",
      "S1: BBAS3 | S2: CPFE3 | SSE: 1.1720245843809076\n",
      "Par BBAS3-CPFE3 sem convergência, retorno_op: 0.02243776602116343\n",
      "S1: EMBR3 | S2: VIVT4 | SSE: 1.1938081401530718\n",
      "Par EMBR3-VIVT4 sem convergência, retorno_op: -0.0147634626690607\n",
      "-------------------------------------------------\n",
      "Starting period 20 | Past days: 0\n",
      "S1: PETR4 | S2: CPFE3 | SSE: 0.649604963856595\n",
      "Par PETR4-CPFE3 sem convergência, retorno_op: -0.00046779945549157986\n",
      "S1: PETR3 | S2: NTCO3 | SSE: 1.1031017349739856\n",
      "Par PETR3-NTCO3 sem convergência, retorno_op: 0.13738485434789371\n",
      "S1: ABEV3 | S2: CMIG4 | SSE: 1.2072686500136551\n",
      "S1: BBDC4 | S2: BBDC3 | SSE: 1.336349006132636\n",
      "Par BBDC4-BBDC3 sem convergência, retorno_op: 0.039067307797461925\n",
      "S1: VIVT3 | S2: SUZB5 | SSE: 1.6846553475716248\n",
      "-------------------------------------------------\n",
      "Starting period 21 | Past days: 0\n",
      "S1: GETI4 | S2: CGAS5 | SSE: 0.6100818087565097\n",
      "Par GETI4-CGAS5 sem convergência, retorno_op: 0.08825871305066113\n",
      "S1: VIVT3 | S2: GOAU4 | SSE: 0.9232023113507107\n",
      "S1: BBDC4 | S2: BBDC3 | SSE: 1.0511627905231793\n",
      "Par BBDC4-BBDC3 sem convergência, retorno_op: 0\n",
      "S1: CMIG4 | S2: CMIG3 | SSE: 1.1264507784826379\n",
      "Par CMIG4-CMIG3 sem convergência, retorno_op: 0\n",
      "S1: PETR4 | S2: CPFE3 | SSE: 1.240327679762339\n",
      "Par PETR4-CPFE3 sem convergência, retorno_op: 0.07232793580548313\n",
      "-------------------------------------------------\n",
      "Starting period 22 | Past days: 0\n",
      "S1: BBDC4 | S2: BBDC3 | SSE: 0.5222711314987258\n",
      "Par BBDC4-BBDC3 sem convergência, retorno_op: -0.026351777978972146\n",
      "S1: CMIG4 | S2: CMIG3 | SSE: 0.7532713034941588\n",
      "Par CMIG4-CMIG3 sem convergência, retorno_op: -0.033586970366077495\n",
      "S1: VIVT4 | S2: UBBR11 | SSE: 0.8117130763972991\n",
      "Par VIVT4-UBBR11 sem convergência, retorno_op: -0.0831168661790116\n",
      "S1: BBDC4 | S2: ENBR3 | SSE: 0.8235127814076003\n",
      "Par BBDC4-ENBR3 sem convergência, retorno_op: 0.024525529389092027\n",
      "S1: RENT3 | S2: BBDC3 | SSE: 1.0706196098136154\n",
      "Par RENT3-BBDC3 sem convergência, retorno_op: 0.22145401562096456\n",
      "-------------------------------------------------\n",
      "Starting period 23 | Past days: 0\n",
      "S1: BBDC4 | S2: BBDC3 | SSE: 0.25462980503896954\n",
      "Par BBDC4-BBDC3 sem convergência, retorno_op: 0.01457067955872926\n",
      "S1: GOLL4 | S2: TAMM4 | SSE: 1.1528240758090584\n",
      "Par GOLL4-TAMM4 sem convergência, retorno_op: -0.11044675132426418\n",
      "S1: CCRO3 | S2: AMBV4 | SSE: 1.1841526796405997\n",
      "Par CCRO3-AMBV4 sem convergência, retorno_op: 0.04272057725414946\n",
      "S1: ITUB4 | S2: CRUZ3 | SSE: 1.3631876418959947\n",
      "S1: BBAS3 | S2: SBSP3 | SSE: 1.46273066109265\n",
      "Par BBAS3-SBSP3 sem convergência, retorno_op: 0.0915947286906924\n",
      "-------------------------------------------------\n",
      "Starting period 24 | Past days: 0\n",
      "S1: EGIE3 | S2: GETI4 | SSE: 1.3920654345989223\n",
      "Par EGIE3-GETI4 sem convergência, retorno_op: -0.04435119079134542\n",
      "S1: ITUB4 | S2: BRAP4 | SSE: 1.5144033364733467\n",
      "Par ITUB4-BRAP4 sem convergência, retorno_op: 0.1799732864586181\n",
      "S1: ITUB4 | S2: CRUZ3 | SSE: 1.6328564975967208\n",
      "S1: BBDC4 | S2: BBDC3 | SSE: 1.810115693916407\n",
      "Par BBDC4-BBDC3 sem convergência, retorno_op: 0.045873014703738835\n",
      "S1: EGIE3 | S2: CPFE3 | SSE: 1.8593766153314915\n",
      "Par EGIE3-CPFE3 sem convergência, retorno_op: 0.13747770480813637\n",
      "-------------------------------------------------\n",
      "Starting period 25 | Past days: 0\n",
      "S1: USIM5 | S2: USIM3 | SSE: 0.9186006899082134\n",
      "S1: BBDC3 | S2: MULT3 | SSE: 1.3570351117236967\n",
      "Par BBDC3-MULT3 sem convergência, retorno_op: -0.11545946681374786\n",
      "S1: EGIE3 | S2: GETI4 | SSE: 1.484274561219549\n",
      "Par EGIE3-GETI4 sem convergência, retorno_op: 0.006782502277220326\n",
      "S1: NETC4 | S2: UBBR11 | SSE: 1.6596663783797776\n",
      "S1: EBTP3 | S2: EBTP4 | SSE: 1.7125116257720152\n",
      "-------------------------------------------------\n",
      "Starting period 26 | Past days: 0\n",
      "S1: USIM5 | S2: USIM3 | SSE: 0.2923447335412896\n",
      "S1: VIVO3 | S2: VIVO4 | SSE: 1.5059280473324068\n",
      "S1: EBTP3 | S2: EBTP4 | SSE: 1.5785131624879136\n",
      "Par EBTP3-EBTP4 sem convergência, retorno_op: -0.006790340076446633\n",
      "S1: BBAS3 | S2: DASA3 | SSE: 1.6845870578418536\n",
      "Par BBAS3-DASA3 sem convergência, retorno_op: 0.018178704684862712\n",
      "S1: ELET3 | S2: VIVT3 | SSE: 2.0721044962492976\n",
      "Par ELET3-VIVT3 sem convergência, retorno_op: -0.04327738216265464\n",
      "-------------------------------------------------\n",
      "Starting period 27 | Past days: 0\n",
      "S1: VIVO3 | S2: VIVO4 | SSE: 0.23980571581753732\n",
      "Par VIVO3-VIVO4 sem convergência, retorno_op: -0.020783879025317198\n",
      "S1: BBDC4 | S2: AMBV4 | SSE: 0.46389196016578166\n",
      "Par BBDC4-AMBV4 sem convergência, retorno_op: -0.1470359858947583\n",
      "S1: USIM5 | S2: USIM3 | SSE: 0.5016232037578182\n",
      "Par USIM5-USIM3 sem convergência, retorno_op: -0.0008519585266673069\n",
      "S1: VIVT3 | S2: LIGT3 | SSE: 0.9730225315536516\n",
      "Par VIVT3-LIGT3 sem convergência, retorno_op: 0.16574122679940873\n",
      "S1: CPFE3 | S2: CGAS5 | SSE: 0.9862182744708559\n",
      "Par CPFE3-CGAS5 sem convergência, retorno_op: -0.062359729651020324\n",
      "-------------------------------------------------\n",
      "Starting period 28 | Past days: 0\n",
      "S1: USIM5 | S2: USIM3 | SSE: 0.5742602419701527\n",
      "Par USIM5-USIM3 sem convergência, retorno_op: 0.04433451588103576\n",
      "S1: ABEV3 | S2: EZTC3 | SSE: 0.8403618766473878\n",
      "Par ABEV3-EZTC3 sem convergência, retorno_op: -0.004341275054667415\n",
      "S1: CLSC4 | S2: LIGT3 | SSE: 0.861993552576784\n",
      "Par CLSC4-LIGT3 sem convergência, retorno_op: 0.1019961021922402\n",
      "S1: SBSP3 | S2: EGIE3 | SSE: 0.875578896670798\n",
      "S1: ITUB4 | S2: EGIE3 | SSE: 1.0505158117523266\n",
      "Par ITUB4-EGIE3 sem convergência, retorno_op: -0.03552849941235481\n",
      "-------------------------------------------------\n",
      "Starting period 29 | Past days: 0\n",
      "S1: BBDC4 | S2: CCRO3 | SSE: 0.4863263119209606\n",
      "Par BBDC4-CCRO3 sem convergência, retorno_op: 0.030279726526788897\n",
      "S1: BBDC4 | S2: DXCO3 | SSE: 0.6121730693808529\n",
      "Par BBDC4-DXCO3 sem convergência, retorno_op: 0.08909783323502274\n",
      "S1: BBAS3 | S2: CESP6 | SSE: 0.6655767307753356\n",
      "Par BBAS3-CESP6 sem convergência, retorno_op: 0.02435224265696112\n",
      "S1: TOTS3 | S2: AMBV4 | SSE: 0.686450542122142\n",
      "Par TOTS3-AMBV4 sem convergência, retorno_op: -0.0660361944705734\n",
      "S1: SBSP3 | S2: EGIE3 | SSE: 0.7083493424666982\n",
      "Par SBSP3-EGIE3 sem convergência, retorno_op: -0.04371512967400504\n",
      "-------------------------------------------------\n",
      "Starting period 30 | Past days: 0\n",
      "S1: ECOR3 | S2: AMBV4 | SSE: 0.45583249797414177\n",
      "Par ECOR3-AMBV4 sem convergência, retorno_op: 0.08069115650883507\n",
      "S1: VIVT3 | S2: GETI4 | SSE: 0.5255249277802965\n",
      "Par VIVT3-GETI4 sem convergência, retorno_op: 0.0191369060348503\n",
      "S1: GETI4 | S2: CESP6 | SSE: 0.8671514247330022\n",
      "Par GETI4-CESP6 sem convergência, retorno_op: 0\n",
      "S1: GETI4 | S2: CRUZ3 | SSE: 0.8952513128111715\n",
      "Par GETI4-CRUZ3 sem convergência, retorno_op: 0.04024751066826493\n",
      "S1: BBDC4 | S2: LREN3 | SSE: 1.0582138185804868\n",
      "-------------------------------------------------\n",
      "Starting period 31 | Past days: 0\n",
      "S1: SBSP3 | S2: CPFE3 | SSE: 0.503904323146495\n",
      "Par SBSP3-CPFE3 sem convergência, retorno_op: -0.08302304285913786\n",
      "S1: ALPA4 | S2: TRPL4 | SSE: 0.6818203130156271\n",
      "S1: BBDC3 | S2: ALPA4 | SSE: 0.7583529933361071\n",
      "S1: MULT3 | S2: ECOR3 | SSE: 0.8548943327958157\n",
      "Par MULT3-ECOR3 sem convergência, retorno_op: -0.006836705672803145\n",
      "S1: CMIG4 | S2: CMIG3 | SSE: 0.9878293538152119\n",
      "-------------------------------------------------\n",
      "Starting period 32 | Past days: 0\n",
      "S1: CMIG4 | S2: CMIG3 | SSE: 0.22858924047496884\n",
      "Par CMIG4-CMIG3 sem convergência, retorno_op: -0.06862578552854193\n",
      "S1: CESP6 | S2: IGTA3 | SSE: 0.5446404672704795\n",
      "Par CESP6-IGTA3 sem convergência, retorno_op: -0.011003981076671998\n",
      "S1: RENT3 | S2: TIMS3 | SSE: 0.7666129168166409\n",
      "Par RENT3-TIMS3 sem convergência, retorno_op: 0.06889144950215687\n",
      "S1: FLRY3 | S2: ENBR3 | SSE: 0.9308214742277133\n",
      "S1: ELET3 | S2: ELET6 | SSE: 0.9375007028726643\n",
      "Par ELET3-ELET6 sem convergência, retorno_op: -0.002243068441679874\n",
      "-------------------------------------------------\n",
      "Starting period 33 | Past days: 0\n",
      "S1: ELET3 | S2: ELET6 | SSE: 0.7605495611880844\n",
      "Par ELET3-ELET6 sem convergência, retorno_op: -0.020625030715219594\n",
      "S1: CSAN3 | S2: SMTO3 | SSE: 0.9135544348642233\n",
      "Par CSAN3-SMTO3 sem convergência, retorno_op: -0.003370300188118902\n",
      "S1: NTCO3 | S2: IGTA3 | SSE: 0.9605356801323305\n",
      "S1: CMIG4 | S2: CMIG3 | SSE: 1.0102970440898171\n",
      "Par CMIG4-CMIG3 sem convergência, retorno_op: 0.008446585812714735\n",
      "S1: RENT3 | S2: LREN3 | SSE: 1.0348970412744953\n",
      "Par RENT3-LREN3 sem convergência, retorno_op: 0.11918064977486842\n",
      "-------------------------------------------------\n",
      "Starting period 34 | Past days: 0\n",
      "S1: ITUB4 | S2: BBDC4 | SSE: 0.25431531571470367\n",
      "Par ITUB4-BBDC4 sem convergência, retorno_op: -0.010250370607557402\n",
      "S1: SANB11 | S2: TAEE11 | SSE: 0.44728872121422075\n",
      "S1: SANB11 | S2: ENBR3 | SSE: 0.48892596684899275\n",
      "S1: TAEE11 | S2: ENBR3 | SSE: 0.5287633057741538\n",
      "S1: HYPE3 | S2: AEDU3 | SSE: 0.7627677300912343\n",
      "Par HYPE3-AEDU3 sem convergência, retorno_op: 0.017479700310912616\n",
      "-------------------------------------------------\n",
      "Starting period 35 | Past days: 0\n",
      "S1: SANB11 | S2: ENBR3 | SSE: 0.4343400536598489\n",
      "Par SANB11-ENBR3 sem convergência, retorno_op: 0.16663083014055746\n",
      "S1: ITUB4 | S2: BBDC3 | SSE: 0.4539027074913602\n",
      "Par ITUB4-BBDC3 sem convergência, retorno_op: 0.02359383445140928\n",
      "S1: ENBR3 | S2: DXCO3 | SSE: 0.5332101818473162\n",
      "Par ENBR3-DXCO3 sem convergência, retorno_op: -0.03523454011995142\n",
      "S1: BBDC4 | S2: CSAN3 | SSE: 0.8031656557934954\n",
      "Par BBDC4-CSAN3 sem convergência, retorno_op: 0.12659390958131844\n",
      "S1: SANB11 | S2: DXCO3 | SSE: 0.9458297232304195\n",
      "Par SANB11-DXCO3 sem convergência, retorno_op: -0.0987402190156601\n",
      "-------------------------------------------------\n",
      "Starting period 36 | Past days: 0\n",
      "S1: EBTP3 | S2: EBTP4 | SSE: 0.3907321706779245\n",
      "S1: EGIE3 | S2: CGAS5 | SSE: 0.393629707664413\n",
      "Par EGIE3-CGAS5 sem convergência, retorno_op: 0.005781242353512628\n",
      "S1: LREN3 | S2: BBDC3 | SSE: 0.5419656348850532\n",
      "Par LREN3-BBDC3 sem convergência, retorno_op: 0.004253009632425808\n",
      "S1: TOTS3 | S2: ECOR3 | SSE: 0.7197726242116614\n",
      "S1: ITUB4 | S2: RENT3 | SSE: 0.7382526953336566\n",
      "Par ITUB4-RENT3 sem convergência, retorno_op: 0.0948824689931258\n",
      "-------------------------------------------------\n",
      "Starting period 37 | Past days: 0\n",
      "S1: BBDC4 | S2: BBDC3 | SSE: 0.6637722142072857\n",
      "Par BBDC4-BBDC3 sem convergência, retorno_op: 0.04479628533051683\n",
      "S1: LREN3 | S2: BBDC3 | SSE: 0.68208092466723\n",
      "Par LREN3-BBDC3 sem convergência, retorno_op: -0.15420972409676104\n",
      "S1: EGIE3 | S2: CGAS5 | SSE: 0.7187618035387975\n",
      "Par EGIE3-CGAS5 sem convergência, retorno_op: -0.06643278722268287\n",
      "S1: HYPE3 | S2: CCRO3 | SSE: 0.8571942033691073\n",
      "Par HYPE3-CCRO3 sem convergência, retorno_op: -0.08854104322093503\n",
      "S1: TAEE11 | S2: BMTO4 | SSE: 0.8866945234163703\n",
      "Par TAEE11-BMTO4 sem convergência, retorno_op: -0.04827686780499696\n",
      "-------------------------------------------------\n",
      "Starting period 38 | Past days: 0\n",
      "S1: BBDC4 | S2: BBDC3 | SSE: 0.2266107100451598\n",
      "Par BBDC4-BBDC3 sem convergência, retorno_op: 0.05739571611028449\n",
      "S1: RENT3 | S2: BBDC3 | SSE: 0.7497884624636862\n",
      "S1: BBSE3 | S2: CIEL3 | SSE: 0.9578997991385221\n",
      "Par BBSE3-CIEL3 sem convergência, retorno_op: -0.048885884029107096\n",
      "S1: BBDC4 | S2: RENT3 | SSE: 1.0604307161901927\n",
      "S1: TAEE11 | S2: BMTO4 | SSE: 1.1367237472720775\n",
      "Par TAEE11-BMTO4 sem convergência, retorno_op: 0.1102349415938666\n",
      "-------------------------------------------------\n",
      "Starting period 39 | Past days: 0\n",
      "S1: BBSE3 | S2: GETI4 | SSE: 1.141113386109788\n",
      "S1: WEGE3 | S2: FLRY3 | SSE: 1.157315803520999\n",
      "Par WEGE3-FLRY3 sem convergência, retorno_op: -0.025501266198621364\n",
      "S1: BBDC4 | S2: BBDC3 | SSE: 1.3110796276995695\n",
      "Par BBDC4-BBDC3 sem convergência, retorno_op: 0.0009230485398563637\n",
      "S1: BRML3 | S2: EZTC3 | SSE: 1.3794826047849886\n",
      "S1: EQTL3 | S2: FLRY3 | SSE: 1.424805620239071\n",
      "-------------------------------------------------\n",
      "Starting period 40 | Past days: 0\n",
      "S1: RADL3 | S2: EZTC3 | SSE: 0.8935800721095128\n",
      "Par RADL3-EZTC3 sem convergência, retorno_op: 0.11018497948090689\n",
      "S1: BRML3 | S2: EZTC3 | SSE: 1.118148920618361\n",
      "Par BRML3-EZTC3 sem convergência, retorno_op: 0.068489711391579\n",
      "S1: ITUB4 | S2: SANB11 | SSE: 1.2188402766550839\n",
      "Par ITUB4-SANB11 sem convergência, retorno_op: -0.1798620776355193\n",
      "S1: TAEE11 | S2: ENBR3 | SSE: 1.3209401601263966\n",
      "S1: SANB11 | S2: COGN3 | SSE: 1.3530348938874657\n",
      "Par SANB11-COGN3 sem convergência, retorno_op: -0.10115993461742478\n",
      "-------------------------------------------------\n",
      "Starting period 41 | Past days: 0\n",
      "S1: BRML3 | S2: EZTC3 | SSE: 0.7874053219462308\n",
      "S1: EQTL3 | S2: CLSC4 | SSE: 0.812900277117319\n",
      "Par EQTL3-CLSC4 sem convergência, retorno_op: 0.024670932135528734\n",
      "S1: BBDC4 | S2: BBDC3 | SSE: 0.9532693731119642\n",
      "Par BBDC4-BBDC3 sem convergência, retorno_op: 0.008468867289086024\n",
      "S1: CYRE3 | S2: MRVE3 | SSE: 1.029306028156769\n",
      "S1: EGIE3 | S2: CIEL3 | SSE: 1.4558877474152732\n",
      "-------------------------------------------------\n",
      "Starting period 42 | Past days: 0\n",
      "S1: BBDC4 | S2: BBDC3 | SSE: 0.21783510881964294\n",
      "Par BBDC4-BBDC3 sem convergência, retorno_op: 0.015592317058545468\n",
      "S1: VIVT3 | S2: CGAS5 | SSE: 0.4267233925583538\n",
      "Par VIVT3-CGAS5 sem convergência, retorno_op: -0.04854589451024749\n",
      "S1: COGN3 | S2: YDUQ3 | SSE: 0.7454511131032542\n",
      "Par COGN3-YDUQ3 sem convergência, retorno_op: -0.07740082030743389\n",
      "S1: ABEV3 | S2: YDUQ3 | SSE: 0.8608593466171021\n",
      "Par ABEV3-YDUQ3 sem convergência, retorno_op: -0.04639898740555948\n",
      "S1: BBSE3 | S2: ENGI11 | SSE: 0.9631138402931255\n",
      "Par BBSE3-ENGI11 sem convergência, retorno_op: -0.016690403872477333\n",
      "-------------------------------------------------\n",
      "Starting period 43 | Past days: 0\n",
      "S1: BBDC4 | S2: BBDC3 | SSE: 0.48242914350148175\n",
      "Par BBDC4-BBDC3 sem convergência, retorno_op: -0.0013905831316294304\n",
      "S1: BBDC4 | S2: EZTC3 | SSE: 0.8320392501963111\n",
      "S1: ENGI11 | S2: MULT3 | SSE: 0.921678491682136\n",
      "Par ENGI11-MULT3 sem convergência, retorno_op: -0.03348610034480748\n",
      "S1: HYPE3 | S2: VIVT3 | SSE: 0.959785361815863\n",
      "Par HYPE3-VIVT3 sem convergência, retorno_op: 0.08613630117441273\n",
      "S1: ABEV3 | S2: SULA11 | SSE: 1.022975448807523\n",
      "Par ABEV3-SULA11 sem convergência, retorno_op: 0.027281835271695698\n",
      "-------------------------------------------------\n",
      "Starting period 44 | Past days: 0\n",
      "S1: BBDC4 | S2: EZTC3 | SSE: 0.8557692137048586\n",
      "S1: CYRE3 | S2: MRVE3 | SSE: 0.9474256735568297\n",
      "Par CYRE3-MRVE3 sem convergência, retorno_op: 0.19042320548236713\n",
      "S1: CMIG3 | S2: OGXP3 | SSE: 1.0117069995045125\n",
      "Par CMIG3-OGXP3 sem convergência, retorno_op: -0.6190471636557808\n",
      "S1: B3SA3 | S2: DXCO3 | SSE: 1.0382693137458772\n",
      "S1: ABEV3 | S2: SULA11 | SSE: 1.082118273938573\n",
      "Par ABEV3-SULA11 sem convergência, retorno_op: -0.1502582014558813\n",
      "-------------------------------------------------\n",
      "Starting period 45 | Past days: 0\n",
      "S1: B3SA3 | S2: ITSA4 | SSE: 0.4924121743716969\n",
      "Par B3SA3-ITSA4 sem convergência, retorno_op: 0.01247986518910249\n",
      "S1: B3SA3 | S2: DXCO3 | SSE: 0.6319718786598573\n",
      "Par B3SA3-DXCO3 sem convergência, retorno_op: 0.0860733742907156\n",
      "S1: ITSA4 | S2: DXCO3 | SSE: 0.7543993349107226\n",
      "Par ITSA4-DXCO3 sem convergência, retorno_op: 0.12743725768246983\n",
      "S1: BBDC4 | S2: EZTC3 | SSE: 0.835969739465418\n",
      "Par BBDC4-EZTC3 sem convergência, retorno_op: 0.031167126055125838\n",
      "S1: SBSP3 | S2: HYPE3 | SSE: 1.2592832459916163\n",
      "Par SBSP3-HYPE3 sem convergência, retorno_op: -0.127810051298884\n",
      "-------------------------------------------------\n",
      "Starting period 46 | Past days: 0\n",
      "S1: ELET3 | S2: ELET6 | SSE: 0.7226389302118651\n",
      "Par ELET3-ELET6 sem convergência, retorno_op: -0.007176689205013798\n",
      "S1: BBDC4 | S2: EZTC3 | SSE: 0.8228005602785368\n",
      "Par BBDC4-EZTC3 sem convergência, retorno_op: -0.03350671406684835\n",
      "S1: BBSE3 | S2: CPFE3 | SSE: 0.8679296863574755\n",
      "Par BBSE3-CPFE3 sem convergência, retorno_op: 0.021455282813879428\n",
      "S1: TIMS3 | S2: USIM3 | SSE: 0.9035421182229173\n",
      "Par TIMS3-USIM3 sem convergência, retorno_op: -0.21850771745625286\n",
      "S1: CYRE3 | S2: TRPL4 | SSE: 0.9045624551444477\n",
      "Par CYRE3-TRPL4 sem convergência, retorno_op: -0.006301919881556817\n",
      "-------------------------------------------------\n",
      "Starting period 47 | Past days: 0\n",
      "S1: ELET3 | S2: ELET6 | SSE: 0.31205624695443707\n",
      "S1: EQTL3 | S2: TAEE11 | SSE: 0.4656731566312117\n",
      "S1: LREN3 | S2: ENGI11 | SSE: 0.5665997296412606\n",
      "Par LREN3-ENGI11 sem convergência, retorno_op: -0.007721357631926384\n",
      "S1: HGTX3 | S2: GEPA4 | SSE: 0.8874672425695991\n",
      "Par HGTX3-GEPA4 sem convergência, retorno_op: 0.03079437430816867\n",
      "S1: VIVT3 | S2: EGIE3 | SSE: 0.9561684608894305\n",
      "-------------------------------------------------\n",
      "Starting period 48 | Past days: 0\n",
      "S1: ELET3 | S2: ELET6 | SSE: 0.5192568173618833\n",
      "Par ELET3-ELET6 sem convergência, retorno_op: 0.01262748878501796\n",
      "S1: CMIG3 | S2: USIM3 | SSE: 1.1625935842989485\n",
      "Par CMIG3-USIM3 sem convergência, retorno_op: -0.026266165467120572\n",
      "S1: BBAS3 | S2: SANB11 | SSE: 1.2661100666431235\n",
      "Par BBAS3-SANB11 sem convergência, retorno_op: 0.04573511349036563\n",
      "S1: EQTL3 | S2: TAEE11 | SSE: 1.3149898497921901\n",
      "S1: RENT3 | S2: LREN3 | SSE: 1.3802285736900144\n",
      "Par RENT3-LREN3 sem convergência, retorno_op: -0.057046604326388195\n",
      "-------------------------------------------------\n",
      "Starting period 49 | Past days: 0\n",
      "S1: ELET3 | S2: ELET6 | SSE: 0.5206610238862104\n",
      "Par ELET3-ELET6 sem convergência, retorno_op: -0.0012070367012957384\n",
      "S1: BBSE3 | S2: CPFE3 | SSE: 0.7748481212465465\n",
      "Par BBSE3-CPFE3 sem convergência, retorno_op: 0.09318865898555373\n",
      "S1: EGIE3 | S2: GEPA4 | SSE: 0.8864885602133182\n",
      "Par EGIE3-GEPA4 sem convergência, retorno_op: 0.05700706268465128\n",
      "S1: CCRO3 | S2: ECOR3 | SSE: 0.9220709570162653\n",
      "Par CCRO3-ECOR3 sem convergência, retorno_op: 0.02431759842725656\n",
      "S1: LREN3 | S2: IGTA3 | SSE: 1.394806799831299\n",
      "Par LREN3-IGTA3 sem convergência, retorno_op: 0.07039348860426342\n",
      "-------------------------------------------------\n",
      "Starting period 50 | Past days: 0\n",
      "S1: CCRO3 | S2: ECOR3 | SSE: 0.42982491568411346\n",
      "Par CCRO3-ECOR3 sem convergência, retorno_op: -0.17043660449889653\n",
      "S1: ELET3 | S2: ELET6 | SSE: 0.513930337888198\n",
      "Par ELET3-ELET6 sem convergência, retorno_op: -0.0010710935502684649\n",
      "S1: CPFE3 | S2: CYRE3 | SSE: 0.7874125309213368\n",
      "S1: FLRY3 | S2: CPFE3 | SSE: 0.8030750347209983\n",
      "Par FLRY3-CPFE3 sem convergência, retorno_op: -0.07756713306364382\n",
      "S1: USIM5 | S2: USIM3 | SSE: 0.9558032918378161\n",
      "Par USIM5-USIM3 sem convergência, retorno_op: 0.018670667997434887\n",
      "-------------------------------------------------\n",
      "Starting period 51 | Past days: 0\n",
      "S1: USIM5 | S2: USIM3 | SSE: 0.5457340809388805\n",
      "S1: B3SA3 | S2: MRVE3 | SSE: 0.6906094196443188\n",
      "Par B3SA3-MRVE3 sem convergência, retorno_op: -0.13796553930803368\n",
      "S1: HYPE3 | S2: GEPA4 | SSE: 0.6939426316064797\n",
      "Par HYPE3-GEPA4 sem convergência, retorno_op: 0.10030257070914805\n",
      "S1: ELET3 | S2: ELET6 | SSE: 0.7198302424147109\n",
      "Par ELET3-ELET6 sem convergência, retorno_op: 0.03482053996573997\n",
      "S1: BBAS3 | S2: LCAM3 | SSE: 1.1881344934423315\n",
      "Par BBAS3-LCAM3 sem convergência, retorno_op: 0.0769150407081991\n",
      "-------------------------------------------------\n",
      "Starting period 52 | Past days: 0\n",
      "S1: USIM5 | S2: USIM3 | SSE: 0.7248298102637717\n",
      "S1: ELET3 | S2: ELET6 | SSE: 0.9104854639620256\n",
      "S1: GGBR4 | S2: TRPL4 | SSE: 0.9481931717109777\n",
      "Par GGBR4-TRPL4 sem convergência, retorno_op: 0.1001660540724938\n",
      "S1: BBDC4 | S2: SAPR11 | SSE: 1.0342465130971803\n",
      "Par BBDC4-SAPR11 sem convergência, retorno_op: 0.05917586934377095\n",
      "S1: CSAN3 | S2: KLBN11 | SSE: 1.2896771641885536\n",
      "Par CSAN3-KLBN11 sem convergência, retorno_op: 0.11545763373049445\n",
      "-------------------------------------------------\n",
      "Starting period 53 | Past days: 0\n",
      "S1: ELET3 | S2: ELET6 | SSE: 0.5243612833387602\n",
      "Par ELET3-ELET6 sem convergência, retorno_op: -0.03501174989669531\n",
      "S1: ITUB4 | S2: BPAC11 | SSE: 0.5940403594466453\n",
      "S1: USIM5 | S2: USIM3 | SSE: 0.9281844820108459\n",
      "S1: ENBR3 | S2: IGTI11 | SSE: 0.9567485942302445\n",
      "S1: ITUB4 | S2: EQTL3 | SSE: 1.03996106873001\n",
      "Par ITUB4-EQTL3 sem convergência, retorno_op: -0.004217742668741309\n",
      "-------------------------------------------------\n",
      "Starting period 54 | Past days: 0\n",
      "S1: ENBR3 | S2: TRPL4 | SSE: 0.5493329029760822\n",
      "S1: USIM5 | S2: USIM3 | SSE: 0.5948726473896642\n",
      "Par USIM5-USIM3 sem convergência, retorno_op: 0.033777003760500524\n",
      "S1: ELET3 | S2: ELET6 | SSE: 0.7130523638934851\n",
      "Par ELET3-ELET6 sem convergência, retorno_op: -0.017615144927632276\n",
      "S1: VIVT3 | S2: EGIE3 | SSE: 0.8470306460063916\n",
      "Par VIVT3-EGIE3 sem convergência, retorno_op: 0.011536976581103087\n",
      "S1: RAIL3 | S2: IGTI11 | SSE: 1.048284408360507\n",
      "-------------------------------------------------\n"
     ]
    }
   ],
   "source": [
    "# Vendo o Lucro da estratégia\n",
    "past_days = 0\n",
    "resumos = []\n",
    "\n",
    "for big_loop in range(0, len(semestres) - 3):\n",
    "    print(f\"Starting period {big_loop} | Past days: {past_days}\")\n",
    "\n",
    "    pairs_sem = pairs[pairs['Semestre'] == big_loop]\n",
    "\n",
    "    # Listando os dias dos intervalos\n",
    "    inicio = (Datas == semestres['Data'][big_loop]).query(\"Data == True\").index[0]\n",
    "    twelve_months = (Datas == semestres['Data'][big_loop + 2]).query(\"Data == True\").index[0]\n",
    "    six_months = (Datas == semestres['Data'][big_loop + 3]).query(\"Data == True\").index[0]\n",
    "\n",
    "    for i in range(0,pairs_sem.shape[0]):\n",
    "        S1_name = pairs_sem.iloc[i, 0]\n",
    "        S2_name = pairs_sem.iloc[i, 1]\n",
    "        SSE = pairs_sem.iloc[i, 2]\n",
    "\n",
    "        print(f\"S1: {S1_name} | S2: {S2_name} | SSE: {SSE}\")\n",
    "\n",
    "        #Aqui tá o problema das datas:\n",
    "        S1 = log_data[S1_name].iloc[twelve_months:six_months] # periodo de teste\n",
    "        S2 = log_data[S2_name].iloc[twelve_months:six_months] # periodo de teste\n",
    "\n",
    "        #spread, convertendo Datas para nºs de dias\n",
    "        spread_ = S1 - S2\n",
    "        spread_.name = \"spread\"\n",
    "        spread = pd.merge(spread_,Datas, on=\"Data\")\n",
    "        spread.index = spread['indice']\n",
    "        spread.drop(['Data','indice'],inplace=True,axis=1)\n",
    "\n",
    "        std_limit = 2*np.std(spread)  # standard deviation\n",
    "\n",
    "        # Pegando o resultado da estratégia\n",
    "        ret, resumos = calculate_profit(i, spread, std_limit[0], S1_name, S2_name, resumos, big_loop)\n",
    "    print(\"-------------------------------------------------\")"
   ]
  },
  {
   "cell_type": "code",
   "execution_count": 11,
   "id": "Wty2HZLU1bxR",
   "metadata": {
    "executionInfo": {
     "elapsed": 8,
     "status": "ok",
     "timestamp": 1707527015586,
     "user": {
      "displayName": "Marcelo “Polecram”",
      "userId": "07802337785347454484"
     },
     "user_tz": 180
    },
    "id": "Wty2HZLU1bxR"
   },
   "outputs": [
    {
     "name": "stdout",
     "output_type": "stream",
     "text": [
      "/mnt/c/Users/MarceloPolecram/Python/MEU_TCC/Distancia-Cointegração/result_distancia/\n"
     ]
    }
   ],
   "source": [
    "#Salvando os resultados:\n",
    "\n",
    "cols = ['Operação', 'Semestre', 'Abertura', 'Fechamento', 'Dias', 'Retorno total', 'Ticker 1', 'Ticker 2', 'Converged']\n",
    "df = pd.DataFrame(resumos, columns = cols)\n",
    "df['Index'] = df['Ticker 1'].astype(str) + '-' + df['Ticker 2'].astype(str) + '-' + df['Operação'].astype(str)\n",
    "df['Retorno total - exp'] = np.exp(df['Retorno total'])\n",
    "\n",
    "#Drive\n",
    "'''\n",
    "pasta2 = str(\"/content/drive/MyDrive/Python/TCC-Cloud/Distancia-Cointegração/result_distancia/\")\n",
    "print(pasta2)\n",
    "'''\n",
    "\n",
    "#PC:\n",
    "pasta2 = str(pasta + \"/Distancia-Cointegração/result_distancia/\")\n",
    "print(pasta2)\n",
    "\n",
    "#os.makedirs(pasta2, exist_ok=True)\n",
    "df.to_csv(pasta2 + \"operations_D5.csv\", sep=',', index=False)"
   ]
  },
  {
   "cell_type": "code",
   "execution_count": null,
   "id": "ajdyAM7l7tPq",
   "metadata": {
    "executionInfo": {
     "elapsed": 604,
     "status": "ok",
     "timestamp": 1707527016185,
     "user": {
      "displayName": "Marcelo “Polecram”",
      "userId": "07802337785347454484"
     },
     "user_tz": 180
    },
    "id": "ajdyAM7l7tPq"
   },
   "outputs": [],
   "source": []
  },
  {
   "cell_type": "markdown",
   "id": "0KEhK1_B8CZB",
   "metadata": {
    "id": "0KEhK1_B8CZB"
   },
   "source": [
    "## Rascunhos"
   ]
  },
  {
   "cell_type": "code",
   "execution_count": null,
   "id": "3hVZcNRagKek",
   "metadata": {
    "executionInfo": {
     "elapsed": 31,
     "status": "ok",
     "timestamp": 1707527016190,
     "user": {
      "displayName": "Marcelo “Polecram”",
      "userId": "07802337785347454484"
     },
     "user_tz": 180
    },
    "id": "3hVZcNRagKek"
   },
   "outputs": [],
   "source": []
  }
 ],
 "metadata": {
  "colab": {
   "provenance": []
  },
  "kernelspec": {
   "display_name": "Python 3 (ipykernel)",
   "language": "python",
   "name": "python3"
  },
  "language_info": {
   "codemirror_mode": {
    "name": "ipython",
    "version": 3
   },
   "file_extension": ".py",
   "mimetype": "text/x-python",
   "name": "python",
   "nbconvert_exporter": "python",
   "pygments_lexer": "ipython3",
   "version": "3.10.12"
  }
 },
 "nbformat": 4,
 "nbformat_minor": 5
}
